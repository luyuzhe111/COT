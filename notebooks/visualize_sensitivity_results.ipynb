{
 "cells": [
  {
   "cell_type": "code",
   "execution_count": 6,
   "id": "6aefba7a",
   "metadata": {},
   "outputs": [],
   "source": [
    "import altair as alt"
   ]
  },
  {
   "cell_type": "code",
   "execution_count": 7,
   "id": "8af60459",
   "metadata": {},
   "outputs": [],
   "source": [
    "cifar10_fot_resnet18 = [0.971, 0.993, 0.969, 0.993, 0.970, 0.992, 0.972, 0.991, 0.970, 0.988, 0.939, 0.968]\n",
    "cifar10_fot_resnet50 = [0.978, 0.993, 0.975, 0.992, 0.971, 0.991, 0.971, 0.988, 0.971, 0.984, 0.919, 0.931]\n",
    "cifar10_fot_vgg11    = [0.986, 0.993, 0.985, 0.992, 0.985, 0.992, 0.984, 0.990, 0.982, 0.990, 0.971, 0.978]"
   ]
  },
  {
   "cell_type": "code",
   "execution_count": 8,
   "id": "657c1ab9",
   "metadata": {},
   "outputs": [],
   "source": [
    "cifar10_pn_resnet18 = [0.971, 0.984, 0.957, 0.982, 0.971, 0.975, 0.969, 0.982, 0.965, 0.980, 0.940, 0.963]\n",
    "cifar10_pn_resnet50 = [0.958, 0.981, 0.965, 0.989, 0.966, 0.985, 0.944, 0.984, 0.938, 0.978, 0.905, 0.942]\n",
    "cifar10_pn_vgg11    = [0.881, 0.945, 0.741, 0.950, 0.964, 0.963, 0.954, 0.966, 0.950, 0.965, 0.860, 0.956]"
   ]
  },
  {
   "cell_type": "code",
   "execution_count": 9,
   "id": "d328c6a4",
   "metadata": {},
   "outputs": [],
   "source": [
    "cifar100_fot_resnet18 = [0.978, 0.993, 0.971, 0.991, 0.953, 0.987, 0.939, 0.981, 0.921, 0.980, 0.819, 0.926]\n",
    "cifar100_fot_resnet50 = [0.954, 0.990, 0.934, 0.988, 0.919, 0.986, 0.909, 0.986, 0.901, 0.984, 0.842, 0.932]\n",
    "cifar100_fot_vgg11    = [0.927, 0.991, 0.881, 0.985, 0.832, 0.976, 0.811, 0.965, 0.783, 0.955, 0.644, 0.807]"
   ]
  },
  {
   "cell_type": "code",
   "execution_count": 10,
   "id": "5f22bafc",
   "metadata": {},
   "outputs": [],
   "source": [
    "cifar100_pn_resnet18 = [0.977, 0.983, 0.972, 0.979, 0.974, 0.983, 0.974, 0.989, 0.956, 0.982, 0.882, 0.950]\n",
    "cifar100_pn_resnet50 = [0.916, 0.945, 0.919, 0.954, 0.965, 0.987, 0.953, 0.988, 0.947, 0.985, 0.867, 0.939]\n",
    "cifar100_pn_vgg11    = [0.863, 0.909, 0.809, 0.861, 0.962, 0.976, 0.956, 0.980, 0.914, 0.973, 0.772, 0.953]"
   ]
  },
  {
   "cell_type": "code",
   "execution_count": 11,
   "id": "793939ea",
   "metadata": {},
   "outputs": [],
   "source": [
    "def format_results(arr, ds, method, model):\n",
    "    results = []\n",
    "    n_samples = [10000, 5000, 2000, 1000, 500, 100]\n",
    "    for i in range(0, len(arr), 2):\n",
    "        results.append({\n",
    "            'ds': ds,\n",
    "            'method': method,\n",
    "            'model': model,\n",
    "            'r_sqr': arr[i],\n",
    "            'rho': arr[i+1],\n",
    "            'n_sample': n_samples[i//2]\n",
    "        })\n",
    "    return results"
   ]
  },
  {
   "cell_type": "markdown",
   "id": "39c165db",
   "metadata": {},
   "source": [
    "### CIFAR-10 Results"
   ]
  },
  {
   "cell_type": "code",
   "execution_count": 12,
   "id": "a24496a4",
   "metadata": {},
   "outputs": [],
   "source": [
    "cifar10_fot_resnet18_results = format_results(cifar10_fot_resnet18, 'CIFAR-10', 'FOT', 'ResNet18')\n",
    "cifar10_fot_resnet50_results = format_results(cifar10_fot_resnet50, 'CIFAR-10', 'FOT', 'ResNet50')\n",
    "cifar10_fot_vgg11_results = format_results(cifar10_fot_vgg11, 'CIFAR-10', 'FOT', 'VGG11')\n",
    "\n",
    "cifar10_pn_resnet18_results = format_results(cifar10_pn_resnet18, 'CIFAR-10', 'ProjNorm', 'ResNet18')\n",
    "cifar10_pn_resnet50_results = format_results(cifar10_pn_resnet50, 'CIFAR-10', 'ProjNorm', 'ResNet50')\n",
    "cifar10_pn_vgg11_results    = format_results(cifar10_pn_vgg11, 'CIFAR-10', 'ProjNorm', 'VGG11')\n",
    "\n",
    "cifar10_fot_results = cifar10_fot_resnet18_results + cifar10_fot_resnet50_results + cifar10_fot_vgg11_results\n",
    "cifar10_pn_results = cifar10_pn_resnet18_results + cifar10_pn_resnet50_results + cifar10_pn_vgg11_results\n",
    "\n",
    "cifar10_results = cifar10_fot_results + cifar10_pn_results"
   ]
  },
  {
   "cell_type": "code",
   "execution_count": 13,
   "id": "524c6130",
   "metadata": {},
   "outputs": [
    {
     "data": {
      "text/html": [
       "\n",
       "<div id=\"altair-viz-18fd475dd058445caea8be3bdd68dc91\"></div>\n",
       "<script type=\"text/javascript\">\n",
       "  var VEGA_DEBUG = (typeof VEGA_DEBUG == \"undefined\") ? {} : VEGA_DEBUG;\n",
       "  (function(spec, embedOpt){\n",
       "    let outputDiv = document.currentScript.previousElementSibling;\n",
       "    if (outputDiv.id !== \"altair-viz-18fd475dd058445caea8be3bdd68dc91\") {\n",
       "      outputDiv = document.getElementById(\"altair-viz-18fd475dd058445caea8be3bdd68dc91\");\n",
       "    }\n",
       "    const paths = {\n",
       "      \"vega\": \"https://cdn.jsdelivr.net/npm//vega@5?noext\",\n",
       "      \"vega-lib\": \"https://cdn.jsdelivr.net/npm//vega-lib?noext\",\n",
       "      \"vega-lite\": \"https://cdn.jsdelivr.net/npm//vega-lite@4.17.0?noext\",\n",
       "      \"vega-embed\": \"https://cdn.jsdelivr.net/npm//vega-embed@6?noext\",\n",
       "    };\n",
       "\n",
       "    function maybeLoadScript(lib, version) {\n",
       "      var key = `${lib.replace(\"-\", \"\")}_version`;\n",
       "      return (VEGA_DEBUG[key] == version) ?\n",
       "        Promise.resolve(paths[lib]) :\n",
       "        new Promise(function(resolve, reject) {\n",
       "          var s = document.createElement('script');\n",
       "          document.getElementsByTagName(\"head\")[0].appendChild(s);\n",
       "          s.async = true;\n",
       "          s.onload = () => {\n",
       "            VEGA_DEBUG[key] = version;\n",
       "            return resolve(paths[lib]);\n",
       "          };\n",
       "          s.onerror = () => reject(`Error loading script: ${paths[lib]}`);\n",
       "          s.src = paths[lib];\n",
       "        });\n",
       "    }\n",
       "\n",
       "    function showError(err) {\n",
       "      outputDiv.innerHTML = `<div class=\"error\" style=\"color:red;\">${err}</div>`;\n",
       "      throw err;\n",
       "    }\n",
       "\n",
       "    function displayChart(vegaEmbed) {\n",
       "      vegaEmbed(outputDiv, spec, embedOpt)\n",
       "        .catch(err => showError(`Javascript Error: ${err.message}<br>This usually means there's a typo in your chart specification. See the javascript console for the full traceback.`));\n",
       "    }\n",
       "\n",
       "    if(typeof define === \"function\" && define.amd) {\n",
       "      requirejs.config({paths});\n",
       "      require([\"vega-embed\"], displayChart, err => showError(`Error loading script: ${err.message}`));\n",
       "    } else {\n",
       "      maybeLoadScript(\"vega\", \"5\")\n",
       "        .then(() => maybeLoadScript(\"vega-lite\", \"4.17.0\"))\n",
       "        .then(() => maybeLoadScript(\"vega-embed\", \"6\"))\n",
       "        .catch(showError)\n",
       "        .then(() => displayChart(vegaEmbed));\n",
       "    }\n",
       "  })({\"config\": {\"view\": {\"continuousWidth\": 400, \"continuousHeight\": 300}}, \"data\": {\"values\": [{\"ds\": \"CIFAR-10\", \"method\": \"FOT\", \"model\": \"ResNet18\", \"r_sqr\": 0.971, \"rho\": 0.993, \"n_sample\": 10000}, {\"ds\": \"CIFAR-10\", \"method\": \"FOT\", \"model\": \"ResNet18\", \"r_sqr\": 0.969, \"rho\": 0.993, \"n_sample\": 5000}, {\"ds\": \"CIFAR-10\", \"method\": \"FOT\", \"model\": \"ResNet18\", \"r_sqr\": 0.97, \"rho\": 0.992, \"n_sample\": 2000}, {\"ds\": \"CIFAR-10\", \"method\": \"FOT\", \"model\": \"ResNet18\", \"r_sqr\": 0.972, \"rho\": 0.991, \"n_sample\": 1000}, {\"ds\": \"CIFAR-10\", \"method\": \"FOT\", \"model\": \"ResNet18\", \"r_sqr\": 0.97, \"rho\": 0.988, \"n_sample\": 500}, {\"ds\": \"CIFAR-10\", \"method\": \"FOT\", \"model\": \"ResNet18\", \"r_sqr\": 0.939, \"rho\": 0.968, \"n_sample\": 100}, {\"ds\": \"CIFAR-10\", \"method\": \"FOT\", \"model\": \"ResNet50\", \"r_sqr\": 0.978, \"rho\": 0.993, \"n_sample\": 10000}, {\"ds\": \"CIFAR-10\", \"method\": \"FOT\", \"model\": \"ResNet50\", \"r_sqr\": 0.975, \"rho\": 0.992, \"n_sample\": 5000}, {\"ds\": \"CIFAR-10\", \"method\": \"FOT\", \"model\": \"ResNet50\", \"r_sqr\": 0.971, \"rho\": 0.991, \"n_sample\": 2000}, {\"ds\": \"CIFAR-10\", \"method\": \"FOT\", \"model\": \"ResNet50\", \"r_sqr\": 0.971, \"rho\": 0.988, \"n_sample\": 1000}, {\"ds\": \"CIFAR-10\", \"method\": \"FOT\", \"model\": \"ResNet50\", \"r_sqr\": 0.971, \"rho\": 0.984, \"n_sample\": 500}, {\"ds\": \"CIFAR-10\", \"method\": \"FOT\", \"model\": \"ResNet50\", \"r_sqr\": 0.919, \"rho\": 0.931, \"n_sample\": 100}, {\"ds\": \"CIFAR-10\", \"method\": \"FOT\", \"model\": \"VGG11\", \"r_sqr\": 0.986, \"rho\": 0.993, \"n_sample\": 10000}, {\"ds\": \"CIFAR-10\", \"method\": \"FOT\", \"model\": \"VGG11\", \"r_sqr\": 0.985, \"rho\": 0.992, \"n_sample\": 5000}, {\"ds\": \"CIFAR-10\", \"method\": \"FOT\", \"model\": \"VGG11\", \"r_sqr\": 0.985, \"rho\": 0.992, \"n_sample\": 2000}, {\"ds\": \"CIFAR-10\", \"method\": \"FOT\", \"model\": \"VGG11\", \"r_sqr\": 0.984, \"rho\": 0.99, \"n_sample\": 1000}, {\"ds\": \"CIFAR-10\", \"method\": \"FOT\", \"model\": \"VGG11\", \"r_sqr\": 0.982, \"rho\": 0.99, \"n_sample\": 500}, {\"ds\": \"CIFAR-10\", \"method\": \"FOT\", \"model\": \"VGG11\", \"r_sqr\": 0.971, \"rho\": 0.978, \"n_sample\": 100}, {\"ds\": \"CIFAR-10\", \"method\": \"ProjNorm\", \"model\": \"ResNet18\", \"r_sqr\": 0.971, \"rho\": 0.984, \"n_sample\": 10000}, {\"ds\": \"CIFAR-10\", \"method\": \"ProjNorm\", \"model\": \"ResNet18\", \"r_sqr\": 0.957, \"rho\": 0.982, \"n_sample\": 5000}, {\"ds\": \"CIFAR-10\", \"method\": \"ProjNorm\", \"model\": \"ResNet18\", \"r_sqr\": 0.971, \"rho\": 0.975, \"n_sample\": 2000}, {\"ds\": \"CIFAR-10\", \"method\": \"ProjNorm\", \"model\": \"ResNet18\", \"r_sqr\": 0.969, \"rho\": 0.982, \"n_sample\": 1000}, {\"ds\": \"CIFAR-10\", \"method\": \"ProjNorm\", \"model\": \"ResNet18\", \"r_sqr\": 0.965, \"rho\": 0.98, \"n_sample\": 500}, {\"ds\": \"CIFAR-10\", \"method\": \"ProjNorm\", \"model\": \"ResNet18\", \"r_sqr\": 0.94, \"rho\": 0.963, \"n_sample\": 100}, {\"ds\": \"CIFAR-10\", \"method\": \"ProjNorm\", \"model\": \"ResNet50\", \"r_sqr\": 0.958, \"rho\": 0.981, \"n_sample\": 10000}, {\"ds\": \"CIFAR-10\", \"method\": \"ProjNorm\", \"model\": \"ResNet50\", \"r_sqr\": 0.965, \"rho\": 0.989, \"n_sample\": 5000}, {\"ds\": \"CIFAR-10\", \"method\": \"ProjNorm\", \"model\": \"ResNet50\", \"r_sqr\": 0.966, \"rho\": 0.985, \"n_sample\": 2000}, {\"ds\": \"CIFAR-10\", \"method\": \"ProjNorm\", \"model\": \"ResNet50\", \"r_sqr\": 0.944, \"rho\": 0.984, \"n_sample\": 1000}, {\"ds\": \"CIFAR-10\", \"method\": \"ProjNorm\", \"model\": \"ResNet50\", \"r_sqr\": 0.938, \"rho\": 0.978, \"n_sample\": 500}, {\"ds\": \"CIFAR-10\", \"method\": \"ProjNorm\", \"model\": \"ResNet50\", \"r_sqr\": 0.905, \"rho\": 0.942, \"n_sample\": 100}, {\"ds\": \"CIFAR-10\", \"method\": \"ProjNorm\", \"model\": \"VGG11\", \"r_sqr\": 0.881, \"rho\": 0.945, \"n_sample\": 10000}, {\"ds\": \"CIFAR-10\", \"method\": \"ProjNorm\", \"model\": \"VGG11\", \"r_sqr\": 0.741, \"rho\": 0.95, \"n_sample\": 5000}, {\"ds\": \"CIFAR-10\", \"method\": \"ProjNorm\", \"model\": \"VGG11\", \"r_sqr\": 0.964, \"rho\": 0.963, \"n_sample\": 2000}, {\"ds\": \"CIFAR-10\", \"method\": \"ProjNorm\", \"model\": \"VGG11\", \"r_sqr\": 0.954, \"rho\": 0.966, \"n_sample\": 1000}, {\"ds\": \"CIFAR-10\", \"method\": \"ProjNorm\", \"model\": \"VGG11\", \"r_sqr\": 0.95, \"rho\": 0.965, \"n_sample\": 500}, {\"ds\": \"CIFAR-10\", \"method\": \"ProjNorm\", \"model\": \"VGG11\", \"r_sqr\": 0.86, \"rho\": 0.956, \"n_sample\": 100}]}, \"facet\": {\"column\": {\"field\": \"model\", \"type\": \"nominal\"}}, \"spec\": {\"mark\": {\"type\": \"line\", \"point\": {\"fill\": \"white\", \"filled\": false, \"size\": 50}}, \"encoding\": {\"color\": {\"field\": \"method\", \"type\": \"nominal\"}, \"x\": {\"axis\": {\"values\": [100, 500, 1000, 2000, 5000, 10000]}, \"field\": \"n_sample\", \"scale\": {\"reverse\": true, \"type\": \"log\"}, \"title\": \"number of samples\", \"type\": \"quantitative\"}, \"y\": {\"field\": \"r_sqr\", \"scale\": {\"domain\": [0.7, 1]}, \"title\": \"R\\u00b2\", \"type\": \"quantitative\"}}, \"height\": 150, \"width\": 150}, \"$schema\": \"https://vega.github.io/schema/vega-lite/v4.17.0.json\"}, {\"mode\": \"vega-lite\"});\n",
       "</script>"
      ],
      "text/plain": [
       "alt.FacetChart(...)"
      ]
     },
     "execution_count": 13,
     "metadata": {},
     "output_type": "execute_result"
    }
   ],
   "source": [
    "alt.Chart(alt.Data(values=cifar10_results)).mark_line(\n",
    "    point=alt.OverlayMarkDef(size=50, filled=False, fill='white')\n",
    ").encode(\n",
    "    x=alt.X('n_sample:Q', title='number of samples', scale=alt.Scale(type=\"log\", reverse=True), axis=alt.Axis(values=[100, 500, 1000, 2000, 5000, 10000])), \n",
    "    y=alt.Y('r_sqr:Q', scale=alt.Scale(domain=[0.7, 1]), title='R\\u00b2'),\n",
    "    color=alt.Color('method:N')\n",
    ").properties(\n",
    "    width=150,\n",
    "    height=150\n",
    ").facet(\n",
    "    column='model:N'\n",
    ")"
   ]
  },
  {
   "cell_type": "markdown",
   "id": "15ca5b71",
   "metadata": {},
   "source": [
    "### CIFAR-100C Results"
   ]
  },
  {
   "cell_type": "code",
   "execution_count": 14,
   "id": "8fab401f",
   "metadata": {},
   "outputs": [],
   "source": [
    "cifar100_fot_resnet18_results = format_results(cifar100_fot_resnet18, 'CIFAR-100', 'FOT', 'ResNet18')\n",
    "cifar100_fot_resnet50_results = format_results(cifar100_fot_resnet50, 'CIFAR-100', 'FOT', 'ResNet50')\n",
    "cifar100_fot_vgg11_results = format_results(cifar100_fot_vgg11, 'CIFAR-100', 'FOT', 'VGG11')\n",
    "\n",
    "cifar100_pn_resnet18_results = format_results(cifar100_pn_resnet18, 'CIFAR-100', 'ProjNorm', 'ResNet18')\n",
    "cifar100_pn_resnet50_results = format_results(cifar100_pn_resnet50, 'CIFAR-100', 'ProjNorm', 'ResNet50')\n",
    "cifar100_pn_vgg11_results    = format_results(cifar100_pn_vgg11, 'CIFAR-100', 'ProjNorm', 'VGG11')\n",
    "\n",
    "cifar100_fot_results = cifar100_fot_resnet18_results + cifar100_fot_resnet50_results + cifar100_fot_vgg11_results\n",
    "cifar100_pn_results = cifar100_pn_resnet18_results + cifar100_pn_resnet50_results + cifar100_pn_vgg11_results\n",
    "\n",
    "cifar100_results = cifar100_fot_results + cifar100_pn_results"
   ]
  },
  {
   "cell_type": "code",
   "execution_count": 17,
   "id": "526ebd06",
   "metadata": {},
   "outputs": [
    {
     "data": {
      "text/html": [
       "\n",
       "<div id=\"altair-viz-98b73688986246de98f1d83c71cb81ff\"></div>\n",
       "<script type=\"text/javascript\">\n",
       "  var VEGA_DEBUG = (typeof VEGA_DEBUG == \"undefined\") ? {} : VEGA_DEBUG;\n",
       "  (function(spec, embedOpt){\n",
       "    let outputDiv = document.currentScript.previousElementSibling;\n",
       "    if (outputDiv.id !== \"altair-viz-98b73688986246de98f1d83c71cb81ff\") {\n",
       "      outputDiv = document.getElementById(\"altair-viz-98b73688986246de98f1d83c71cb81ff\");\n",
       "    }\n",
       "    const paths = {\n",
       "      \"vega\": \"https://cdn.jsdelivr.net/npm//vega@5?noext\",\n",
       "      \"vega-lib\": \"https://cdn.jsdelivr.net/npm//vega-lib?noext\",\n",
       "      \"vega-lite\": \"https://cdn.jsdelivr.net/npm//vega-lite@4.17.0?noext\",\n",
       "      \"vega-embed\": \"https://cdn.jsdelivr.net/npm//vega-embed@6?noext\",\n",
       "    };\n",
       "\n",
       "    function maybeLoadScript(lib, version) {\n",
       "      var key = `${lib.replace(\"-\", \"\")}_version`;\n",
       "      return (VEGA_DEBUG[key] == version) ?\n",
       "        Promise.resolve(paths[lib]) :\n",
       "        new Promise(function(resolve, reject) {\n",
       "          var s = document.createElement('script');\n",
       "          document.getElementsByTagName(\"head\")[0].appendChild(s);\n",
       "          s.async = true;\n",
       "          s.onload = () => {\n",
       "            VEGA_DEBUG[key] = version;\n",
       "            return resolve(paths[lib]);\n",
       "          };\n",
       "          s.onerror = () => reject(`Error loading script: ${paths[lib]}`);\n",
       "          s.src = paths[lib];\n",
       "        });\n",
       "    }\n",
       "\n",
       "    function showError(err) {\n",
       "      outputDiv.innerHTML = `<div class=\"error\" style=\"color:red;\">${err}</div>`;\n",
       "      throw err;\n",
       "    }\n",
       "\n",
       "    function displayChart(vegaEmbed) {\n",
       "      vegaEmbed(outputDiv, spec, embedOpt)\n",
       "        .catch(err => showError(`Javascript Error: ${err.message}<br>This usually means there's a typo in your chart specification. See the javascript console for the full traceback.`));\n",
       "    }\n",
       "\n",
       "    if(typeof define === \"function\" && define.amd) {\n",
       "      requirejs.config({paths});\n",
       "      require([\"vega-embed\"], displayChart, err => showError(`Error loading script: ${err.message}`));\n",
       "    } else {\n",
       "      maybeLoadScript(\"vega\", \"5\")\n",
       "        .then(() => maybeLoadScript(\"vega-lite\", \"4.17.0\"))\n",
       "        .then(() => maybeLoadScript(\"vega-embed\", \"6\"))\n",
       "        .catch(showError)\n",
       "        .then(() => displayChart(vegaEmbed));\n",
       "    }\n",
       "  })({\"config\": {\"view\": {\"continuousWidth\": 400, \"continuousHeight\": 300}}, \"data\": {\"values\": [{\"ds\": \"CIFAR-100\", \"method\": \"FOT\", \"model\": \"ResNet18\", \"r_sqr\": 0.978, \"rho\": 0.993, \"n_sample\": 10000}, {\"ds\": \"CIFAR-100\", \"method\": \"FOT\", \"model\": \"ResNet18\", \"r_sqr\": 0.971, \"rho\": 0.991, \"n_sample\": 5000}, {\"ds\": \"CIFAR-100\", \"method\": \"FOT\", \"model\": \"ResNet18\", \"r_sqr\": 0.953, \"rho\": 0.987, \"n_sample\": 2000}, {\"ds\": \"CIFAR-100\", \"method\": \"FOT\", \"model\": \"ResNet18\", \"r_sqr\": 0.939, \"rho\": 0.981, \"n_sample\": 1000}, {\"ds\": \"CIFAR-100\", \"method\": \"FOT\", \"model\": \"ResNet18\", \"r_sqr\": 0.921, \"rho\": 0.98, \"n_sample\": 500}, {\"ds\": \"CIFAR-100\", \"method\": \"FOT\", \"model\": \"ResNet18\", \"r_sqr\": 0.819, \"rho\": 0.926, \"n_sample\": 100}, {\"ds\": \"CIFAR-100\", \"method\": \"FOT\", \"model\": \"ResNet50\", \"r_sqr\": 0.954, \"rho\": 0.99, \"n_sample\": 10000}, {\"ds\": \"CIFAR-100\", \"method\": \"FOT\", \"model\": \"ResNet50\", \"r_sqr\": 0.934, \"rho\": 0.988, \"n_sample\": 5000}, {\"ds\": \"CIFAR-100\", \"method\": \"FOT\", \"model\": \"ResNet50\", \"r_sqr\": 0.919, \"rho\": 0.986, \"n_sample\": 2000}, {\"ds\": \"CIFAR-100\", \"method\": \"FOT\", \"model\": \"ResNet50\", \"r_sqr\": 0.909, \"rho\": 0.986, \"n_sample\": 1000}, {\"ds\": \"CIFAR-100\", \"method\": \"FOT\", \"model\": \"ResNet50\", \"r_sqr\": 0.901, \"rho\": 0.984, \"n_sample\": 500}, {\"ds\": \"CIFAR-100\", \"method\": \"FOT\", \"model\": \"ResNet50\", \"r_sqr\": 0.842, \"rho\": 0.932, \"n_sample\": 100}, {\"ds\": \"CIFAR-100\", \"method\": \"FOT\", \"model\": \"VGG11\", \"r_sqr\": 0.927, \"rho\": 0.991, \"n_sample\": 10000}, {\"ds\": \"CIFAR-100\", \"method\": \"FOT\", \"model\": \"VGG11\", \"r_sqr\": 0.881, \"rho\": 0.985, \"n_sample\": 5000}, {\"ds\": \"CIFAR-100\", \"method\": \"FOT\", \"model\": \"VGG11\", \"r_sqr\": 0.832, \"rho\": 0.976, \"n_sample\": 2000}, {\"ds\": \"CIFAR-100\", \"method\": \"FOT\", \"model\": \"VGG11\", \"r_sqr\": 0.811, \"rho\": 0.965, \"n_sample\": 1000}, {\"ds\": \"CIFAR-100\", \"method\": \"FOT\", \"model\": \"VGG11\", \"r_sqr\": 0.783, \"rho\": 0.955, \"n_sample\": 500}, {\"ds\": \"CIFAR-100\", \"method\": \"FOT\", \"model\": \"VGG11\", \"r_sqr\": 0.644, \"rho\": 0.807, \"n_sample\": 100}, {\"ds\": \"CIFAR-100\", \"method\": \"ProjNorm\", \"model\": \"ResNet18\", \"r_sqr\": 0.977, \"rho\": 0.983, \"n_sample\": 10000}, {\"ds\": \"CIFAR-100\", \"method\": \"ProjNorm\", \"model\": \"ResNet18\", \"r_sqr\": 0.972, \"rho\": 0.979, \"n_sample\": 5000}, {\"ds\": \"CIFAR-100\", \"method\": \"ProjNorm\", \"model\": \"ResNet18\", \"r_sqr\": 0.974, \"rho\": 0.983, \"n_sample\": 2000}, {\"ds\": \"CIFAR-100\", \"method\": \"ProjNorm\", \"model\": \"ResNet18\", \"r_sqr\": 0.974, \"rho\": 0.989, \"n_sample\": 1000}, {\"ds\": \"CIFAR-100\", \"method\": \"ProjNorm\", \"model\": \"ResNet18\", \"r_sqr\": 0.956, \"rho\": 0.982, \"n_sample\": 500}, {\"ds\": \"CIFAR-100\", \"method\": \"ProjNorm\", \"model\": \"ResNet18\", \"r_sqr\": 0.882, \"rho\": 0.95, \"n_sample\": 100}, {\"ds\": \"CIFAR-100\", \"method\": \"ProjNorm\", \"model\": \"ResNet50\", \"r_sqr\": 0.916, \"rho\": 0.945, \"n_sample\": 10000}, {\"ds\": \"CIFAR-100\", \"method\": \"ProjNorm\", \"model\": \"ResNet50\", \"r_sqr\": 0.919, \"rho\": 0.954, \"n_sample\": 5000}, {\"ds\": \"CIFAR-100\", \"method\": \"ProjNorm\", \"model\": \"ResNet50\", \"r_sqr\": 0.965, \"rho\": 0.987, \"n_sample\": 2000}, {\"ds\": \"CIFAR-100\", \"method\": \"ProjNorm\", \"model\": \"ResNet50\", \"r_sqr\": 0.953, \"rho\": 0.988, \"n_sample\": 1000}, {\"ds\": \"CIFAR-100\", \"method\": \"ProjNorm\", \"model\": \"ResNet50\", \"r_sqr\": 0.947, \"rho\": 0.985, \"n_sample\": 500}, {\"ds\": \"CIFAR-100\", \"method\": \"ProjNorm\", \"model\": \"ResNet50\", \"r_sqr\": 0.867, \"rho\": 0.939, \"n_sample\": 100}, {\"ds\": \"CIFAR-100\", \"method\": \"ProjNorm\", \"model\": \"VGG11\", \"r_sqr\": 0.863, \"rho\": 0.909, \"n_sample\": 10000}, {\"ds\": \"CIFAR-100\", \"method\": \"ProjNorm\", \"model\": \"VGG11\", \"r_sqr\": 0.809, \"rho\": 0.861, \"n_sample\": 5000}, {\"ds\": \"CIFAR-100\", \"method\": \"ProjNorm\", \"model\": \"VGG11\", \"r_sqr\": 0.962, \"rho\": 0.976, \"n_sample\": 2000}, {\"ds\": \"CIFAR-100\", \"method\": \"ProjNorm\", \"model\": \"VGG11\", \"r_sqr\": 0.956, \"rho\": 0.98, \"n_sample\": 1000}, {\"ds\": \"CIFAR-100\", \"method\": \"ProjNorm\", \"model\": \"VGG11\", \"r_sqr\": 0.914, \"rho\": 0.973, \"n_sample\": 500}, {\"ds\": \"CIFAR-100\", \"method\": \"ProjNorm\", \"model\": \"VGG11\", \"r_sqr\": 0.772, \"rho\": 0.953, \"n_sample\": 100}]}, \"facet\": {\"column\": {\"field\": \"model\", \"type\": \"nominal\"}}, \"spec\": {\"mark\": {\"type\": \"line\", \"point\": {\"fill\": \"white\", \"filled\": false, \"size\": 50}}, \"encoding\": {\"color\": {\"field\": \"method\", \"type\": \"nominal\"}, \"x\": {\"axis\": {\"values\": [100, 500, 1000, 2000, 5000, 10000]}, \"field\": \"n_sample\", \"scale\": {\"reverse\": true, \"type\": \"log\"}, \"title\": \"number of samples\", \"type\": \"quantitative\"}, \"y\": {\"field\": \"r_sqr\", \"scale\": {\"domain\": [0.6, 1]}, \"title\": \"R\\u00b2\", \"type\": \"quantitative\"}}, \"height\": 150, \"width\": 150}, \"$schema\": \"https://vega.github.io/schema/vega-lite/v4.17.0.json\"}, {\"mode\": \"vega-lite\"});\n",
       "</script>"
      ],
      "text/plain": [
       "alt.FacetChart(...)"
      ]
     },
     "execution_count": 17,
     "metadata": {},
     "output_type": "execute_result"
    }
   ],
   "source": [
    "alt.Chart(alt.Data(values=cifar100_results)).mark_line(\n",
    "    point=alt.OverlayMarkDef(size=50, filled=False, fill='white')\n",
    ").encode(\n",
    "    x=alt.X('n_sample:Q', title='number of samples', scale=alt.Scale(type=\"log\", reverse=True), axis=alt.Axis(values=[100, 500, 1000, 2000, 5000, 10000])), \n",
    "    y=alt.Y('r_sqr:Q', scale=alt.Scale(domain=[0.6, 1]), title='R\\u00b2'),\n",
    "    color=alt.Color('method:N')\n",
    ").properties(\n",
    "    width=150,\n",
    "    height=150\n",
    ").facet(\n",
    "    column='model:N'\n",
    ")"
   ]
  },
  {
   "cell_type": "code",
   "execution_count": null,
   "id": "3c7451e9",
   "metadata": {},
   "outputs": [],
   "source": []
  }
 ],
 "metadata": {
  "kernelspec": {
   "display_name": "ood",
   "language": "python",
   "name": "ood"
  },
  "language_info": {
   "codemirror_mode": {
    "name": "ipython",
    "version": 3
   },
   "file_extension": ".py",
   "mimetype": "text/x-python",
   "name": "python",
   "nbconvert_exporter": "python",
   "pygments_lexer": "ipython3",
   "version": "3.9.13"
  }
 },
 "nbformat": 4,
 "nbformat_minor": 5
}
