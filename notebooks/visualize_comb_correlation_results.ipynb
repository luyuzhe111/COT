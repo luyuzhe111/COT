{
 "cells": [
  {
   "cell_type": "code",
   "execution_count": 1,
   "id": "c542d51c",
   "metadata": {},
   "outputs": [],
   "source": [
    "import numpy as np\n",
    "import math\n",
    "import json\n",
    "import glob\n",
    "from functools import reduce"
   ]
  },
  {
   "cell_type": "code",
   "execution_count": 2,
   "id": "1592981c",
   "metadata": {},
   "outputs": [],
   "source": [
    "def load_results(dataset, model, pretrained, ckpt, metric, n_sample, seed):\n",
    "    if pretrained:\n",
    "        result_dir = f'../results/{dataset}/pretrained/{model}_{seed}-{ckpt}/{metric}_{n_sample}'\n",
    "    else:\n",
    "        result_dir = f'../results/{dataset}/scratch/{model}_{seed}-{ckpt}/{metric}_{n_sample}'\n",
    "      \n",
    "    result_fs = glob.glob(f'{result_dir}/*.json')\n",
    "    results = []\n",
    "    for file in result_fs:\n",
    "        with open(file, 'r') as f:\n",
    "            data = json.load(f)\n",
    "        results.extend(data)\n",
    "        \n",
    "    return results"
   ]
  },
  {
   "cell_type": "code",
   "execution_count": 3,
   "id": "54321e39",
   "metadata": {},
   "outputs": [],
   "source": [
    "n_sample_dict = {\n",
    "    'CIFAR-10': -1, \n",
    "    'CIFAR-100': -1, \n",
    "    'Living-17': -1,\n",
    "    'Nonliving-26': -1,\n",
    "    'Entity-13': -1,\n",
    "    'Entity-30': -1,\n",
    "    'ImageNet': -1,\n",
    "    'RxRx1': -1,\n",
    "    'FMoW': -1,\n",
    "    'Amazon': -1,\n",
    "    'CivilComments': -1\n",
    "}\n",
    "\n",
    "n_epoch_dict = {\n",
    "    'CIFAR-10': 300, \n",
    "    'CIFAR-100': 300, \n",
    "    'Living-17': 450,\n",
    "    'Nonliving-26': 450,\n",
    "    'Entity-13': 300,\n",
    "    'Entity-30': 300,\n",
    "    'ImageNet': 10,\n",
    "    'FMoW': 50,\n",
    "    'RxRx1': 90,\n",
    "    'Amazon': 3,\n",
    "    'CivilComments': 5\n",
    "}\n",
    "\n",
    "pretrained_dict = {\n",
    "    'CIFAR-10': False, \n",
    "    'CIFAR-100': False, \n",
    "    'Living-17': False,\n",
    "    'Nonliving-26': False,\n",
    "    'Entity-13': False,\n",
    "    'Entity-30': False,\n",
    "    'ImageNet': True,\n",
    "    'FMoW': True,\n",
    "    'RxRx1': True,\n",
    "    'Amazon': True,\n",
    "    'CivilComments': True\n",
    "}"
   ]
  },
  {
   "cell_type": "code",
   "execution_count": 4,
   "id": "13c79cfb",
   "metadata": {},
   "outputs": [],
   "source": [
    "metrics = ['AC', 'DoC', 'IM', 'ATC', 'COT', 'COTT-L1']\n",
    "dataset = 'CIFAR-10'\n",
    "arch = 'resnet18'\n",
    "n_sample = n_sample_dict[dataset]\n",
    "seed = '1'\n",
    "model_ckpt = n_epoch_dict[dataset]\n",
    "pretrained = pretrained_dict[dataset]\n",
    "results = sum([load_results(dataset, arch, pretrained, model_ckpt, metric, n_sample, seed) for metric in metrics], [])"
   ]
  },
  {
   "cell_type": "code",
   "execution_count": 5,
   "id": "edb585d8",
   "metadata": {},
   "outputs": [],
   "source": [
    "import altair as alt\n",
    "import pandas as pd"
   ]
  },
  {
   "cell_type": "code",
   "execution_count": 6,
   "id": "ef90531d",
   "metadata": {},
   "outputs": [],
   "source": [
    "def get_corr_chart(data, subpop):\n",
    "    corr = alt.Chart(alt.Data(values=data), title=subpop).mark_point(size=50, filled=True).encode(\n",
    "        x=alt.X('metric:Q'),\n",
    "        y=alt.X('error:Q', title='Test Error'),\n",
    "        color=alt.Color('ref:N'),\n",
    "        shape=alt.Color('ref:N'),\n",
    "    ).properties(\n",
    "        width=200,\n",
    "        height=200\n",
    "    )\n",
    "    return corr"
   ]
  },
  {
   "cell_type": "code",
   "execution_count": 7,
   "id": "86df21ae",
   "metadata": {},
   "outputs": [],
   "source": [
    "same_pop_results =  [i for i in results if i['subpopulation'] == 'same']\n",
    "natural_pop_results =  [i for i in results if i['subpopulation'] == 'natural']\n",
    "novel_pop_results = [i for i in results if i['subpopulation'] == 'novel']"
   ]
  },
  {
   "cell_type": "code",
   "execution_count": 8,
   "id": "fd94e84f",
   "metadata": {},
   "outputs": [],
   "source": [
    "line = pd.DataFrame({'metric': [0, 1], 'error': [0, 1]})\n",
    "line_plot = alt.Chart(line).mark_line(color='black', strokeDash=[5, 8]).encode(\n",
    "    x='metric',\n",
    "    y='error',\n",
    ")"
   ]
  },
  {
   "cell_type": "code",
   "execution_count": 9,
   "id": "a2681d4c",
   "metadata": {},
   "outputs": [],
   "source": [
    "same_corr = get_corr_chart(same_pop_results, 'same')\n",
    "same_plt = same_corr + line_plot\n",
    "\n",
    "natural_corr = get_corr_chart(natural_pop_results, 'natural')\n",
    "natural_plt = natural_corr + line_plot\n",
    "\n",
    "novel_corr = get_corr_chart(novel_pop_results, 'novel')\n",
    "novel_plt = novel_corr + line_plot\n",
    "\n",
    "plt = same_plt | natural_plt | novel_plt"
   ]
  },
  {
   "cell_type": "code",
   "execution_count": 10,
   "id": "3c3d3a92",
   "metadata": {},
   "outputs": [
    {
     "name": "stderr",
     "output_type": "stream",
     "text": [
      "/usr/workspace/lu35/anaconda3/envs/ood/lib/python3.9/site-packages/altair/utils/core.py:317: FutureWarning: iteritems is deprecated and will be removed in a future version. Use .items instead.\n",
      "  for col_name, dtype in df.dtypes.iteritems():\n"
     ]
    },
    {
     "data": {
      "text/html": [
       "\n",
       "<div id=\"altair-viz-aa0fea71394f4128bdf908ab2589972f\"></div>\n",
       "<script type=\"text/javascript\">\n",
       "  var VEGA_DEBUG = (typeof VEGA_DEBUG == \"undefined\") ? {} : VEGA_DEBUG;\n",
       "  (function(spec, embedOpt){\n",
       "    let outputDiv = document.currentScript.previousElementSibling;\n",
       "    if (outputDiv.id !== \"altair-viz-aa0fea71394f4128bdf908ab2589972f\") {\n",
       "      outputDiv = document.getElementById(\"altair-viz-aa0fea71394f4128bdf908ab2589972f\");\n",
       "    }\n",
       "    const paths = {\n",
       "      \"vega\": \"https://cdn.jsdelivr.net/npm//vega@5?noext\",\n",
       "      \"vega-lib\": \"https://cdn.jsdelivr.net/npm//vega-lib?noext\",\n",
       "      \"vega-lite\": \"https://cdn.jsdelivr.net/npm//vega-lite@4.17.0?noext\",\n",
       "      \"vega-embed\": \"https://cdn.jsdelivr.net/npm//vega-embed@6?noext\",\n",
       "    };\n",
       "\n",
       "    function maybeLoadScript(lib, version) {\n",
       "      var key = `${lib.replace(\"-\", \"\")}_version`;\n",
       "      return (VEGA_DEBUG[key] == version) ?\n",
       "        Promise.resolve(paths[lib]) :\n",
       "        new Promise(function(resolve, reject) {\n",
       "          var s = document.createElement('script');\n",
       "          document.getElementsByTagName(\"head\")[0].appendChild(s);\n",
       "          s.async = true;\n",
       "          s.onload = () => {\n",
       "            VEGA_DEBUG[key] = version;\n",
       "            return resolve(paths[lib]);\n",
       "          };\n",
       "          s.onerror = () => reject(`Error loading script: ${paths[lib]}`);\n",
       "          s.src = paths[lib];\n",
       "        });\n",
       "    }\n",
       "\n",
       "    function showError(err) {\n",
       "      outputDiv.innerHTML = `<div class=\"error\" style=\"color:red;\">${err}</div>`;\n",
       "      throw err;\n",
       "    }\n",
       "\n",
       "    function displayChart(vegaEmbed) {\n",
       "      vegaEmbed(outputDiv, spec, embedOpt)\n",
       "        .catch(err => showError(`Javascript Error: ${err.message}<br>This usually means there's a typo in your chart specification. See the javascript console for the full traceback.`));\n",
       "    }\n",
       "\n",
       "    if(typeof define === \"function\" && define.amd) {\n",
       "      requirejs.config({paths});\n",
       "      require([\"vega-embed\"], displayChart, err => showError(`Error loading script: ${err.message}`));\n",
       "    } else {\n",
       "      maybeLoadScript(\"vega\", \"5\")\n",
       "        .then(() => maybeLoadScript(\"vega-lite\", \"4.17.0\"))\n",
       "        .then(() => maybeLoadScript(\"vega-embed\", \"6\"))\n",
       "        .catch(showError)\n",
       "        .then(() => displayChart(vegaEmbed));\n",
       "    }\n",
       "  })({\"config\": {\"view\": {\"continuousWidth\": 400, \"continuousHeight\": 300}, \"axis\": {\"labelFontSize\": 14, \"titleFontSize\": 16}, \"legend\": {\"labelFontSize\": 16, \"titleFontSize\": 14}}, \"hconcat\": [{\"layer\": [{\"data\": {\"values\": [{\"corruption\": \"clean\", \"corruption level\": 0, \"metric\": 0.10855334997177124, \"ref\": \"AC\", \"acc\": 0.8807999491691589, \"error\": 0.11920005083084106, \"subpopulation\": \"same\", \"pretrained\": false}, {\"corruption\": \"brightness\", \"corruption level\": 1, \"metric\": 0.11042559146881104, \"ref\": \"AC\", \"acc\": 0.8781999945640564, \"error\": 0.1218000054359436, \"subpopulation\": \"same\", \"pretrained\": false}, {\"corruption\": \"brightness\", \"corruption level\": 2, \"metric\": 0.11535489559173584, \"ref\": \"AC\", \"acc\": 0.8755999803543091, \"error\": 0.12440001964569092, \"subpopulation\": \"same\", \"pretrained\": false}, {\"corruption\": \"brightness\", \"corruption level\": 3, \"metric\": 0.12222278118133545, \"ref\": \"AC\", \"acc\": 0.8693000078201294, \"error\": 0.1306999921798706, \"subpopulation\": \"same\", \"pretrained\": false}, {\"corruption\": \"brightness\", \"corruption level\": 4, \"metric\": 0.13200116157531738, \"ref\": \"AC\", \"acc\": 0.85999995470047, \"error\": 0.14000004529953003, \"subpopulation\": \"same\", \"pretrained\": false}, {\"corruption\": \"brightness\", \"corruption level\": 5, \"metric\": 0.15614110231399536, \"ref\": \"AC\", \"acc\": 0.8327999711036682, \"error\": 0.1672000288963318, \"subpopulation\": \"same\", \"pretrained\": false}, {\"corruption\": \"defocus_blur\", \"corruption level\": 1, \"metric\": 0.11014091968536377, \"ref\": \"AC\", \"acc\": 0.878600001335144, \"error\": 0.12139999866485596, \"subpopulation\": \"same\", \"pretrained\": false}, {\"corruption\": \"defocus_blur\", \"corruption level\": 2, \"metric\": 0.12284111976623535, \"ref\": \"AC\", \"acc\": 0.8625999689102173, \"error\": 0.13740003108978271, \"subpopulation\": \"same\", \"pretrained\": false}, {\"corruption\": \"defocus_blur\", \"corruption level\": 3, \"metric\": 0.15322011709213257, \"ref\": \"AC\", \"acc\": 0.8121999502182007, \"error\": 0.18780004978179932, \"subpopulation\": \"same\", \"pretrained\": false}, {\"corruption\": \"defocus_blur\", \"corruption level\": 4, \"metric\": 0.20853865146636963, \"ref\": \"AC\", \"acc\": 0.7149999737739563, \"error\": 0.2850000262260437, \"subpopulation\": \"same\", \"pretrained\": false}, {\"corruption\": \"defocus_blur\", \"corruption level\": 5, \"metric\": 0.2927129864692688, \"ref\": \"AC\", \"acc\": 0.5351999998092651, \"error\": 0.46480000019073486, \"subpopulation\": \"same\", \"pretrained\": false}, {\"corruption\": \"elastic_transform\", \"corruption level\": 1, \"metric\": 0.16193866729736328, \"ref\": \"AC\", \"acc\": 0.8208999633789062, \"error\": 0.17910003662109375, \"subpopulation\": \"same\", \"pretrained\": false}, {\"corruption\": \"elastic_transform\", \"corruption level\": 2, \"metric\": 0.15821582078933716, \"ref\": \"AC\", \"acc\": 0.8192999958992004, \"error\": 0.18070000410079956, \"subpopulation\": \"same\", \"pretrained\": false}, {\"corruption\": \"elastic_transform\", \"corruption level\": 3, \"metric\": 0.18501067161560059, \"ref\": \"AC\", \"acc\": 0.778499960899353, \"error\": 0.22150003910064697, \"subpopulation\": \"same\", \"pretrained\": false}, {\"corruption\": \"elastic_transform\", \"corruption level\": 4, \"metric\": 0.2430604100227356, \"ref\": \"AC\", \"acc\": 0.7026000022888184, \"error\": 0.29739999771118164, \"subpopulation\": \"same\", \"pretrained\": false}, {\"corruption\": \"elastic_transform\", \"corruption level\": 5, \"metric\": 0.28820252418518066, \"ref\": \"AC\", \"acc\": 0.649399995803833, \"error\": 0.350600004196167, \"subpopulation\": \"same\", \"pretrained\": false}, {\"corruption\": \"fog\", \"corruption level\": 1, \"metric\": 0.11318254470825195, \"ref\": \"AC\", \"acc\": 0.8759999871253967, \"error\": 0.12400001287460327, \"subpopulation\": \"same\", \"pretrained\": false}, {\"corruption\": \"fog\", \"corruption level\": 2, \"metric\": 0.13077598810195923, \"ref\": \"AC\", \"acc\": 0.8578000068664551, \"error\": 0.14219999313354492, \"subpopulation\": \"same\", \"pretrained\": false}, {\"corruption\": \"fog\", \"corruption level\": 3, \"metric\": 0.1499936580657959, \"ref\": \"AC\", \"acc\": 0.8348000049591064, \"error\": 0.16519999504089355, \"subpopulation\": \"same\", \"pretrained\": false}, {\"corruption\": \"fog\", \"corruption level\": 4, \"metric\": 0.17745763063430786, \"ref\": \"AC\", \"acc\": 0.8012999892234802, \"error\": 0.19870001077651978, \"subpopulation\": \"same\", \"pretrained\": false}, {\"corruption\": \"fog\", \"corruption level\": 5, \"metric\": 0.2573889493942261, \"ref\": \"AC\", \"acc\": 0.6714999675750732, \"error\": 0.32850003242492676, \"subpopulation\": \"same\", \"pretrained\": false}, {\"corruption\": \"frost\", \"corruption level\": 1, \"metric\": 0.1532653570175171, \"ref\": \"AC\", \"acc\": 0.8315999507904053, \"error\": 0.16840004920959473, \"subpopulation\": \"same\", \"pretrained\": false}, {\"corruption\": \"frost\", \"corruption level\": 2, \"metric\": 0.1967717409133911, \"ref\": \"AC\", \"acc\": 0.7626000046730042, \"error\": 0.23739999532699585, \"subpopulation\": \"same\", \"pretrained\": false}, {\"corruption\": \"frost\", \"corruption level\": 3, \"metric\": 0.2476634383201599, \"ref\": \"AC\", \"acc\": 0.6559999585151672, \"error\": 0.34400004148483276, \"subpopulation\": \"same\", \"pretrained\": false}, {\"corruption\": \"frost\", \"corruption level\": 4, \"metric\": 0.2529561519622803, \"ref\": \"AC\", \"acc\": 0.6373999714851379, \"error\": 0.36260002851486206, \"subpopulation\": \"same\", \"pretrained\": false}, {\"corruption\": \"frost\", \"corruption level\": 5, \"metric\": 0.2794117331504822, \"ref\": \"AC\", \"acc\": 0.5320999622344971, \"error\": 0.46790003776550293, \"subpopulation\": \"same\", \"pretrained\": false}, {\"corruption\": \"gaussian_blur\", \"corruption level\": 1, \"metric\": 0.11011373996734619, \"ref\": \"AC\", \"acc\": 0.8783999681472778, \"error\": 0.12160003185272217, \"subpopulation\": \"same\", \"pretrained\": false}, {\"corruption\": \"gaussian_blur\", \"corruption level\": 2, \"metric\": 0.15381288528442383, \"ref\": \"AC\", \"acc\": 0.8121999502182007, \"error\": 0.18780004978179932, \"subpopulation\": \"same\", \"pretrained\": false}, {\"corruption\": \"gaussian_blur\", \"corruption level\": 3, \"metric\": 0.20102399587631226, \"ref\": \"AC\", \"acc\": 0.7281999588012695, \"error\": 0.27180004119873047, \"subpopulation\": \"same\", \"pretrained\": false}, {\"corruption\": \"gaussian_blur\", \"corruption level\": 4, \"metric\": 0.24986231327056885, \"ref\": \"AC\", \"acc\": 0.6218000054359436, \"error\": 0.3781999945640564, \"subpopulation\": \"same\", \"pretrained\": false}, {\"corruption\": \"gaussian_blur\", \"corruption level\": 5, \"metric\": 0.31021052598953247, \"ref\": \"AC\", \"acc\": 0.4274999797344208, \"error\": 0.5725000202655792, \"subpopulation\": \"same\", \"pretrained\": false}, {\"corruption\": \"gaussian_noise\", \"corruption level\": 1, \"metric\": 0.203172504901886, \"ref\": \"AC\", \"acc\": 0.717799961566925, \"error\": 0.28220003843307495, \"subpopulation\": \"same\", \"pretrained\": false}, {\"corruption\": \"gaussian_noise\", \"corruption level\": 2, \"metric\": 0.2534673810005188, \"ref\": \"AC\", \"acc\": 0.5501999855041504, \"error\": 0.4498000144958496, \"subpopulation\": \"same\", \"pretrained\": false}, {\"corruption\": \"gaussian_noise\", \"corruption level\": 3, \"metric\": 0.2665403485298157, \"ref\": \"AC\", \"acc\": 0.40869998931884766, \"error\": 0.5913000106811523, \"subpopulation\": \"same\", \"pretrained\": false}, {\"corruption\": \"gaussian_noise\", \"corruption level\": 4, \"metric\": 0.26669782400131226, \"ref\": \"AC\", \"acc\": 0.34769999980926514, \"error\": 0.6523000001907349, \"subpopulation\": \"same\", \"pretrained\": false}, {\"corruption\": \"gaussian_noise\", \"corruption level\": 5, \"metric\": 0.2594941258430481, \"ref\": \"AC\", \"acc\": 0.29819998145103455, \"error\": 0.7018000185489655, \"subpopulation\": \"same\", \"pretrained\": false}, {\"corruption\": \"glass_blur\", \"corruption level\": 1, \"metric\": 0.28583836555480957, \"ref\": \"AC\", \"acc\": 0.41259998083114624, \"error\": 0.5874000191688538, \"subpopulation\": \"same\", \"pretrained\": false}, {\"corruption\": \"glass_blur\", \"corruption level\": 2, \"metric\": 0.29343611001968384, \"ref\": \"AC\", \"acc\": 0.4373999834060669, \"error\": 0.5626000165939331, \"subpopulation\": \"same\", \"pretrained\": false}, {\"corruption\": \"glass_blur\", \"corruption level\": 3, \"metric\": 0.3003808856010437, \"ref\": \"AC\", \"acc\": 0.4810999929904938, \"error\": 0.5189000070095062, \"subpopulation\": \"same\", \"pretrained\": false}, {\"corruption\": \"glass_blur\", \"corruption level\": 4, \"metric\": 0.2838900685310364, \"ref\": \"AC\", \"acc\": 0.3294000029563904, \"error\": 0.6705999970436096, \"subpopulation\": \"same\", \"pretrained\": false}, {\"corruption\": \"glass_blur\", \"corruption level\": 5, \"metric\": 0.3051645755767822, \"ref\": \"AC\", \"acc\": 0.3637000024318695, \"error\": 0.6362999975681305, \"subpopulation\": \"same\", \"pretrained\": false}, {\"corruption\": \"impulse_noise\", \"corruption level\": 1, \"metric\": 0.19848370552062988, \"ref\": \"AC\", \"acc\": 0.7578999996185303, \"error\": 0.24210000038146973, \"subpopulation\": \"same\", \"pretrained\": false}, {\"corruption\": \"impulse_noise\", \"corruption level\": 2, \"metric\": 0.2621728777885437, \"ref\": \"AC\", \"acc\": 0.6467999815940857, \"error\": 0.3532000184059143, \"subpopulation\": \"same\", \"pretrained\": false}, {\"corruption\": \"impulse_noise\", \"corruption level\": 3, \"metric\": 0.3062772750854492, \"ref\": \"AC\", \"acc\": 0.5465999841690063, \"error\": 0.45340001583099365, \"subpopulation\": \"same\", \"pretrained\": false}, {\"corruption\": \"impulse_noise\", \"corruption level\": 4, \"metric\": 0.34932243824005127, \"ref\": \"AC\", \"acc\": 0.41349998116493225, \"error\": 0.5865000188350677, \"subpopulation\": \"same\", \"pretrained\": false}, {\"corruption\": \"impulse_noise\", \"corruption level\": 5, \"metric\": 0.36691856384277344, \"ref\": \"AC\", \"acc\": 0.31769999861717224, \"error\": 0.6823000013828278, \"subpopulation\": \"same\", \"pretrained\": false}, {\"corruption\": \"jpeg_compression\", \"corruption level\": 1, \"metric\": 0.16766613721847534, \"ref\": \"AC\", \"acc\": 0.8007999658584595, \"error\": 0.19920003414154053, \"subpopulation\": \"same\", \"pretrained\": false}, {\"corruption\": \"jpeg_compression\", \"corruption level\": 2, \"metric\": 0.20264267921447754, \"ref\": \"AC\", \"acc\": 0.7529999613761902, \"error\": 0.24700003862380981, \"subpopulation\": \"same\", \"pretrained\": false}, {\"corruption\": \"jpeg_compression\", \"corruption level\": 3, \"metric\": 0.21458280086517334, \"ref\": \"AC\", \"acc\": 0.7392999529838562, \"error\": 0.2607000470161438, \"subpopulation\": \"same\", \"pretrained\": false}, {\"corruption\": \"jpeg_compression\", \"corruption level\": 4, \"metric\": 0.2309185266494751, \"ref\": \"AC\", \"acc\": 0.7220999598503113, \"error\": 0.2779000401496887, \"subpopulation\": \"same\", \"pretrained\": false}, {\"corruption\": \"jpeg_compression\", \"corruption level\": 5, \"metric\": 0.2514347434043884, \"ref\": \"AC\", \"acc\": 0.6917999982833862, \"error\": 0.30820000171661377, \"subpopulation\": \"same\", \"pretrained\": false}, {\"corruption\": \"motion_blur\", \"corruption level\": 1, \"metric\": 0.14687180519104004, \"ref\": \"AC\", \"acc\": 0.8323999643325806, \"error\": 0.16760003566741943, \"subpopulation\": \"same\", \"pretrained\": false}, {\"corruption\": \"motion_blur\", \"corruption level\": 2, \"metric\": 0.19290971755981445, \"ref\": \"AC\", \"acc\": 0.7581999897956848, \"error\": 0.24180001020431519, \"subpopulation\": \"same\", \"pretrained\": false}, {\"corruption\": \"motion_blur\", \"corruption level\": 3, \"metric\": 0.23517197370529175, \"ref\": \"AC\", \"acc\": 0.6747999787330627, \"error\": 0.32520002126693726, \"subpopulation\": \"same\", \"pretrained\": false}, {\"corruption\": \"motion_blur\", \"corruption level\": 4, \"metric\": 0.23473381996154785, \"ref\": \"AC\", \"acc\": 0.6714999675750732, \"error\": 0.32850003242492676, \"subpopulation\": \"same\", \"pretrained\": false}, {\"corruption\": \"motion_blur\", \"corruption level\": 5, \"metric\": 0.26718568801879883, \"ref\": \"AC\", \"acc\": 0.593999981880188, \"error\": 0.406000018119812, \"subpopulation\": \"same\", \"pretrained\": false}, {\"corruption\": \"pixelate\", \"corruption level\": 1, \"metric\": 0.14085984230041504, \"ref\": \"AC\", \"acc\": 0.8514999747276306, \"error\": 0.14850002527236938, \"subpopulation\": \"same\", \"pretrained\": false}, {\"corruption\": \"pixelate\", \"corruption level\": 2, \"metric\": 0.1880553960800171, \"ref\": \"AC\", \"acc\": 0.7721999883651733, \"error\": 0.22780001163482666, \"subpopulation\": \"same\", \"pretrained\": false}, {\"corruption\": \"pixelate\", \"corruption level\": 3, \"metric\": 0.20823729038238525, \"ref\": \"AC\", \"acc\": 0.7351999878883362, \"error\": 0.2648000121116638, \"subpopulation\": \"same\", \"pretrained\": false}, {\"corruption\": \"pixelate\", \"corruption level\": 4, \"metric\": 0.24832266569137573, \"ref\": \"AC\", \"acc\": 0.5631999969482422, \"error\": 0.4368000030517578, \"subpopulation\": \"same\", \"pretrained\": false}, {\"corruption\": \"pixelate\", \"corruption level\": 5, \"metric\": 0.26851171255111694, \"ref\": \"AC\", \"acc\": 0.36569997668266296, \"error\": 0.634300023317337, \"subpopulation\": \"same\", \"pretrained\": false}, {\"corruption\": \"saturate\", \"corruption level\": 1, \"metric\": 0.1330837607383728, \"ref\": \"AC\", \"acc\": 0.8587999939918518, \"error\": 0.1412000060081482, \"subpopulation\": \"same\", \"pretrained\": false}, {\"corruption\": \"saturate\", \"corruption level\": 2, \"metric\": 0.15134882926940918, \"ref\": \"AC\", \"acc\": 0.8366999626159668, \"error\": 0.1633000373840332, \"subpopulation\": \"same\", \"pretrained\": false}, {\"corruption\": \"saturate\", \"corruption level\": 3, \"metric\": 0.11323565244674683, \"ref\": \"AC\", \"acc\": 0.8747999668121338, \"error\": 0.1252000331878662, \"subpopulation\": \"same\", \"pretrained\": false}, {\"corruption\": \"saturate\", \"corruption level\": 4, \"metric\": 0.13541609048843384, \"ref\": \"AC\", \"acc\": 0.8537999987602234, \"error\": 0.1462000012397766, \"subpopulation\": \"same\", \"pretrained\": false}, {\"corruption\": \"saturate\", \"corruption level\": 5, \"metric\": 0.16401702165603638, \"ref\": \"AC\", \"acc\": 0.8202999830245972, \"error\": 0.17970001697540283, \"subpopulation\": \"same\", \"pretrained\": false}, {\"corruption\": \"shot_noise\", \"corruption level\": 1, \"metric\": 0.16780304908752441, \"ref\": \"AC\", \"acc\": 0.7879999876022339, \"error\": 0.2120000123977661, \"subpopulation\": \"same\", \"pretrained\": false}, {\"corruption\": \"shot_noise\", \"corruption level\": 2, \"metric\": 0.20660197734832764, \"ref\": \"AC\", \"acc\": 0.707099974155426, \"error\": 0.292900025844574, \"subpopulation\": \"same\", \"pretrained\": false}, {\"corruption\": \"shot_noise\", \"corruption level\": 3, \"metric\": 0.2567085027694702, \"ref\": \"AC\", \"acc\": 0.5174999833106995, \"error\": 0.48250001668930054, \"subpopulation\": \"same\", \"pretrained\": false}, {\"corruption\": \"shot_noise\", \"corruption level\": 4, \"metric\": 0.2660945653915405, \"ref\": \"AC\", \"acc\": 0.4513999819755554, \"error\": 0.5486000180244446, \"subpopulation\": \"same\", \"pretrained\": false}, {\"corruption\": \"shot_noise\", \"corruption level\": 5, \"metric\": 0.26895469427108765, \"ref\": \"AC\", \"acc\": 0.3586999773979187, \"error\": 0.6413000226020813, \"subpopulation\": \"same\", \"pretrained\": false}, {\"corruption\": \"snow\", \"corruption level\": 1, \"metric\": 0.1660589575767517, \"ref\": \"AC\", \"acc\": 0.8109999895095825, \"error\": 0.18900001049041748, \"subpopulation\": \"same\", \"pretrained\": false}, {\"corruption\": \"snow\", \"corruption level\": 2, \"metric\": 0.2277020812034607, \"ref\": \"AC\", \"acc\": 0.6646999716758728, \"error\": 0.3353000283241272, \"subpopulation\": \"same\", \"pretrained\": false}, {\"corruption\": \"snow\", \"corruption level\": 3, \"metric\": 0.2209988236427307, \"ref\": \"AC\", \"acc\": 0.7226999998092651, \"error\": 0.27730000019073486, \"subpopulation\": \"same\", \"pretrained\": false}, {\"corruption\": \"snow\", \"corruption level\": 4, \"metric\": 0.23125571012496948, \"ref\": \"AC\", \"acc\": 0.7030999660491943, \"error\": 0.29690003395080566, \"subpopulation\": \"same\", \"pretrained\": false}, {\"corruption\": \"snow\", \"corruption level\": 5, \"metric\": 0.253109872341156, \"ref\": \"AC\", \"acc\": 0.6495000123977661, \"error\": 0.3504999876022339, \"subpopulation\": \"same\", \"pretrained\": false}, {\"corruption\": \"spatter\", \"corruption level\": 1, \"metric\": 0.14931750297546387, \"ref\": \"AC\", \"acc\": 0.8385999798774719, \"error\": 0.16140002012252808, \"subpopulation\": \"same\", \"pretrained\": false}, {\"corruption\": \"spatter\", \"corruption level\": 2, \"metric\": 0.200980544090271, \"ref\": \"AC\", \"acc\": 0.7683999538421631, \"error\": 0.23160004615783691, \"subpopulation\": \"same\", \"pretrained\": false}, {\"corruption\": \"spatter\", \"corruption level\": 3, \"metric\": 0.2374078631401062, \"ref\": \"AC\", \"acc\": 0.7167999744415283, \"error\": 0.2832000255584717, \"subpopulation\": \"same\", \"pretrained\": false}, {\"corruption\": \"spatter\", \"corruption level\": 4, \"metric\": 0.1794312596321106, \"ref\": \"AC\", \"acc\": 0.7810999751091003, \"error\": 0.21890002489089966, \"subpopulation\": \"same\", \"pretrained\": false}, {\"corruption\": \"spatter\", \"corruption level\": 5, \"metric\": 0.22997146844863892, \"ref\": \"AC\", \"acc\": 0.6961999535560608, \"error\": 0.3038000464439392, \"subpopulation\": \"same\", \"pretrained\": false}, {\"corruption\": \"speckle_noise\", \"corruption level\": 1, \"metric\": 0.16700369119644165, \"ref\": \"AC\", \"acc\": 0.7925999760627747, \"error\": 0.20740002393722534, \"subpopulation\": \"same\", \"pretrained\": false}, {\"corruption\": \"speckle_noise\", \"corruption level\": 2, \"metric\": 0.21765583753585815, \"ref\": \"AC\", \"acc\": 0.6643999814987183, \"error\": 0.33560001850128174, \"subpopulation\": \"same\", \"pretrained\": false}, {\"corruption\": \"speckle_noise\", \"corruption level\": 3, \"metric\": 0.2379699945449829, \"ref\": \"AC\", \"acc\": 0.6007999777793884, \"error\": 0.3992000222206116, \"subpopulation\": \"same\", \"pretrained\": false}, {\"corruption\": \"speckle_noise\", \"corruption level\": 4, \"metric\": 0.2654834985733032, \"ref\": \"AC\", \"acc\": 0.49059998989105225, \"error\": 0.5094000101089478, \"subpopulation\": \"same\", \"pretrained\": false}, {\"corruption\": \"speckle_noise\", \"corruption level\": 5, \"metric\": 0.27834397554397583, \"ref\": \"AC\", \"acc\": 0.3992999792098999, \"error\": 0.6007000207901001, \"subpopulation\": \"same\", \"pretrained\": false}, {\"corruption\": \"zoom_blur\", \"corruption level\": 1, \"metric\": 0.17292863130569458, \"ref\": \"AC\", \"acc\": 0.8047999739646912, \"error\": 0.19520002603530884, \"subpopulation\": \"same\", \"pretrained\": false}, {\"corruption\": \"zoom_blur\", \"corruption level\": 2, \"metric\": 0.18717306852340698, \"ref\": \"AC\", \"acc\": 0.7739999890327454, \"error\": 0.22600001096725464, \"subpopulation\": \"same\", \"pretrained\": false}, {\"corruption\": \"zoom_blur\", \"corruption level\": 3, \"metric\": 0.21672910451889038, \"ref\": \"AC\", \"acc\": 0.7256999611854553, \"error\": 0.2743000388145447, \"subpopulation\": \"same\", \"pretrained\": false}, {\"corruption\": \"zoom_blur\", \"corruption level\": 4, \"metric\": 0.2400296926498413, \"ref\": \"AC\", \"acc\": 0.6771000027656555, \"error\": 0.3228999972343445, \"subpopulation\": \"same\", \"pretrained\": false}, {\"corruption\": \"zoom_blur\", \"corruption level\": 5, \"metric\": 0.2768545150756836, \"ref\": \"AC\", \"acc\": 0.5981999635696411, \"error\": 0.4018000364303589, \"subpopulation\": \"same\", \"pretrained\": false}, {\"corruption\": \"contrast\", \"corruption level\": 1, \"metric\": 0.1165388822555542, \"ref\": \"AC\", \"acc\": 0.8696999549865723, \"error\": 0.13030004501342773, \"subpopulation\": \"same\", \"pretrained\": false}, {\"corruption\": \"contrast\", \"corruption level\": 2, \"metric\": 0.15778446197509766, \"ref\": \"AC\", \"acc\": 0.8154999613761902, \"error\": 0.18450003862380981, \"subpopulation\": \"same\", \"pretrained\": false}, {\"corruption\": \"contrast\", \"corruption level\": 3, \"metric\": 0.19693946838378906, \"ref\": \"AC\", \"acc\": 0.7619999647140503, \"error\": 0.2380000352859497, \"subpopulation\": \"same\", \"pretrained\": false}, {\"corruption\": \"contrast\", \"corruption level\": 4, \"metric\": 0.25895148515701294, \"ref\": \"AC\", \"acc\": 0.6552000045776367, \"error\": 0.3447999954223633, \"subpopulation\": \"same\", \"pretrained\": false}, {\"corruption\": \"contrast\", \"corruption level\": 5, \"metric\": 0.4139515161514282, \"ref\": \"AC\", \"acc\": 0.35249999165534973, \"error\": 0.6475000083446503, \"subpopulation\": \"same\", \"pretrained\": false}, {\"corruption\": \"clean\", \"corruption level\": 0, \"metric\": 0.11738547677993783, \"ref\": \"DoC\", \"acc\": 0.8807999491691589, \"error\": 0.11920005083084106, \"subpopulation\": \"same\", \"pretrained\": false}, {\"corruption\": \"brightness\", \"corruption level\": 1, \"metric\": 0.11925771827697762, \"ref\": \"DoC\", \"acc\": 0.8781999945640564, \"error\": 0.1218000054359436, \"subpopulation\": \"same\", \"pretrained\": false}, {\"corruption\": \"brightness\", \"corruption level\": 2, \"metric\": 0.12418702239990242, \"ref\": \"DoC\", \"acc\": 0.8755999803543091, \"error\": 0.12440001964569092, \"subpopulation\": \"same\", \"pretrained\": false}, {\"corruption\": \"brightness\", \"corruption level\": 3, \"metric\": 0.13105490798950203, \"ref\": \"DoC\", \"acc\": 0.8693000078201294, \"error\": 0.1306999921798706, \"subpopulation\": \"same\", \"pretrained\": false}, {\"corruption\": \"brightness\", \"corruption level\": 4, \"metric\": 0.14083328838348397, \"ref\": \"DoC\", \"acc\": 0.85999995470047, \"error\": 0.14000004529953003, \"subpopulation\": \"same\", \"pretrained\": false}, {\"corruption\": \"brightness\", \"corruption level\": 5, \"metric\": 0.16497322912216195, \"ref\": \"DoC\", \"acc\": 0.8327999711036682, \"error\": 0.1672000288963318, \"subpopulation\": \"same\", \"pretrained\": false}, {\"corruption\": \"defocus_blur\", \"corruption level\": 1, \"metric\": 0.11897304649353035, \"ref\": \"DoC\", \"acc\": 0.878600001335144, \"error\": 0.12139999866485596, \"subpopulation\": \"same\", \"pretrained\": false}, {\"corruption\": \"defocus_blur\", \"corruption level\": 2, \"metric\": 0.13167324657440194, \"ref\": \"DoC\", \"acc\": 0.8625999689102173, \"error\": 0.13740003108978271, \"subpopulation\": \"same\", \"pretrained\": false}, {\"corruption\": \"defocus_blur\", \"corruption level\": 3, \"metric\": 0.16205224390029915, \"ref\": \"DoC\", \"acc\": 0.8121999502182007, \"error\": 0.18780004978179932, \"subpopulation\": \"same\", \"pretrained\": false}, {\"corruption\": \"defocus_blur\", \"corruption level\": 4, \"metric\": 0.2173707782745362, \"ref\": \"DoC\", \"acc\": 0.7149999737739563, \"error\": 0.2850000262260437, \"subpopulation\": \"same\", \"pretrained\": false}, {\"corruption\": \"defocus_blur\", \"corruption level\": 5, \"metric\": 0.3015451132774354, \"ref\": \"DoC\", \"acc\": 0.5351999998092651, \"error\": 0.46480000019073486, \"subpopulation\": \"same\", \"pretrained\": false}, {\"corruption\": \"elastic_transform\", \"corruption level\": 1, \"metric\": 0.17077079410552987, \"ref\": \"DoC\", \"acc\": 0.8208999633789062, \"error\": 0.17910003662109375, \"subpopulation\": \"same\", \"pretrained\": false}, {\"corruption\": \"elastic_transform\", \"corruption level\": 2, \"metric\": 0.16704794759750374, \"ref\": \"DoC\", \"acc\": 0.8192999958992004, \"error\": 0.18070000410079956, \"subpopulation\": \"same\", \"pretrained\": false}, {\"corruption\": \"elastic_transform\", \"corruption level\": 3, \"metric\": 0.19384279842376717, \"ref\": \"DoC\", \"acc\": 0.778499960899353, \"error\": 0.22150003910064697, \"subpopulation\": \"same\", \"pretrained\": false}, {\"corruption\": \"elastic_transform\", \"corruption level\": 4, \"metric\": 0.2518925368309022, \"ref\": \"DoC\", \"acc\": 0.7026000022888184, \"error\": 0.29739999771118164, \"subpopulation\": \"same\", \"pretrained\": false}, {\"corruption\": \"elastic_transform\", \"corruption level\": 5, \"metric\": 0.29703465099334725, \"ref\": \"DoC\", \"acc\": 0.649399995803833, \"error\": 0.350600004196167, \"subpopulation\": \"same\", \"pretrained\": false}, {\"corruption\": \"fog\", \"corruption level\": 1, \"metric\": 0.12201467151641854, \"ref\": \"DoC\", \"acc\": 0.8759999871253967, \"error\": 0.12400001287460327, \"subpopulation\": \"same\", \"pretrained\": false}, {\"corruption\": \"fog\", \"corruption level\": 2, \"metric\": 0.1396081149101258, \"ref\": \"DoC\", \"acc\": 0.8578000068664551, \"error\": 0.14219999313354492, \"subpopulation\": \"same\", \"pretrained\": false}, {\"corruption\": \"fog\", \"corruption level\": 3, \"metric\": 0.15882578487396248, \"ref\": \"DoC\", \"acc\": 0.8348000049591064, \"error\": 0.16519999504089355, \"subpopulation\": \"same\", \"pretrained\": false}, {\"corruption\": \"fog\", \"corruption level\": 4, \"metric\": 0.18628975744247445, \"ref\": \"DoC\", \"acc\": 0.8012999892234802, \"error\": 0.19870001077651978, \"subpopulation\": \"same\", \"pretrained\": false}, {\"corruption\": \"fog\", \"corruption level\": 5, \"metric\": 0.26622107620239266, \"ref\": \"DoC\", \"acc\": 0.6714999675750732, \"error\": 0.32850003242492676, \"subpopulation\": \"same\", \"pretrained\": false}, {\"corruption\": \"frost\", \"corruption level\": 1, \"metric\": 0.16209748382568367, \"ref\": \"DoC\", \"acc\": 0.8315999507904053, \"error\": 0.16840004920959473, \"subpopulation\": \"same\", \"pretrained\": false}, {\"corruption\": \"frost\", \"corruption level\": 2, \"metric\": 0.2056038677215577, \"ref\": \"DoC\", \"acc\": 0.7626000046730042, \"error\": 0.23739999532699585, \"subpopulation\": \"same\", \"pretrained\": false}, {\"corruption\": \"frost\", \"corruption level\": 3, \"metric\": 0.2564955651283265, \"ref\": \"DoC\", \"acc\": 0.6559999585151672, \"error\": 0.34400004148483276, \"subpopulation\": \"same\", \"pretrained\": false}, {\"corruption\": \"frost\", \"corruption level\": 4, \"metric\": 0.26178827877044686, \"ref\": \"DoC\", \"acc\": 0.6373999714851379, \"error\": 0.36260002851486206, \"subpopulation\": \"same\", \"pretrained\": false}, {\"corruption\": \"frost\", \"corruption level\": 5, \"metric\": 0.28824385995864876, \"ref\": \"DoC\", \"acc\": 0.5320999622344971, \"error\": 0.46790003776550293, \"subpopulation\": \"same\", \"pretrained\": false}, {\"corruption\": \"gaussian_blur\", \"corruption level\": 1, \"metric\": 0.11894586677551278, \"ref\": \"DoC\", \"acc\": 0.8783999681472778, \"error\": 0.12160003185272217, \"subpopulation\": \"same\", \"pretrained\": false}, {\"corruption\": \"gaussian_blur\", \"corruption level\": 2, \"metric\": 0.1626450120925904, \"ref\": \"DoC\", \"acc\": 0.8121999502182007, \"error\": 0.18780004978179932, \"subpopulation\": \"same\", \"pretrained\": false}, {\"corruption\": \"gaussian_blur\", \"corruption level\": 3, \"metric\": 0.20985612268447884, \"ref\": \"DoC\", \"acc\": 0.7281999588012695, \"error\": 0.27180004119873047, \"subpopulation\": \"same\", \"pretrained\": false}, {\"corruption\": \"gaussian_blur\", \"corruption level\": 4, \"metric\": 0.25869444007873543, \"ref\": \"DoC\", \"acc\": 0.6218000054359436, \"error\": 0.3781999945640564, \"subpopulation\": \"same\", \"pretrained\": false}, {\"corruption\": \"gaussian_blur\", \"corruption level\": 5, \"metric\": 0.31904265279769906, \"ref\": \"DoC\", \"acc\": 0.4274999797344208, \"error\": 0.5725000202655792, \"subpopulation\": \"same\", \"pretrained\": false}, {\"corruption\": \"gaussian_noise\", \"corruption level\": 1, \"metric\": 0.21200463171005257, \"ref\": \"DoC\", \"acc\": 0.717799961566925, \"error\": 0.28220003843307495, \"subpopulation\": \"same\", \"pretrained\": false}, {\"corruption\": \"gaussian_noise\", \"corruption level\": 2, \"metric\": 0.2622995078086854, \"ref\": \"DoC\", \"acc\": 0.5501999855041504, \"error\": 0.4498000144958496, \"subpopulation\": \"same\", \"pretrained\": false}, {\"corruption\": \"gaussian_noise\", \"corruption level\": 3, \"metric\": 0.27537247533798226, \"ref\": \"DoC\", \"acc\": 0.40869998931884766, \"error\": 0.5913000106811523, \"subpopulation\": \"same\", \"pretrained\": false}, {\"corruption\": \"gaussian_noise\", \"corruption level\": 4, \"metric\": 0.27552995080947884, \"ref\": \"DoC\", \"acc\": 0.34769999980926514, \"error\": 0.6523000001907349, \"subpopulation\": \"same\", \"pretrained\": false}, {\"corruption\": \"gaussian_noise\", \"corruption level\": 5, \"metric\": 0.2683262526512147, \"ref\": \"DoC\", \"acc\": 0.29819998145103455, \"error\": 0.7018000185489655, \"subpopulation\": \"same\", \"pretrained\": false}, {\"corruption\": \"glass_blur\", \"corruption level\": 1, \"metric\": 0.29467049236297616, \"ref\": \"DoC\", \"acc\": 0.41259998083114624, \"error\": 0.5874000191688538, \"subpopulation\": \"same\", \"pretrained\": false}, {\"corruption\": \"glass_blur\", \"corruption level\": 2, \"metric\": 0.3022682368278504, \"ref\": \"DoC\", \"acc\": 0.4373999834060669, \"error\": 0.5626000165939331, \"subpopulation\": \"same\", \"pretrained\": false}, {\"corruption\": \"glass_blur\", \"corruption level\": 3, \"metric\": 0.3092130124092103, \"ref\": \"DoC\", \"acc\": 0.4810999929904938, \"error\": 0.5189000070095062, \"subpopulation\": \"same\", \"pretrained\": false}, {\"corruption\": \"glass_blur\", \"corruption level\": 4, \"metric\": 0.29272219533920296, \"ref\": \"DoC\", \"acc\": 0.3294000029563904, \"error\": 0.6705999970436096, \"subpopulation\": \"same\", \"pretrained\": false}, {\"corruption\": \"glass_blur\", \"corruption level\": 5, \"metric\": 0.3139967023849488, \"ref\": \"DoC\", \"acc\": 0.3637000024318695, \"error\": 0.6362999975681305, \"subpopulation\": \"same\", \"pretrained\": false}, {\"corruption\": \"impulse_noise\", \"corruption level\": 1, \"metric\": 0.20731583232879647, \"ref\": \"DoC\", \"acc\": 0.7578999996185303, \"error\": 0.24210000038146973, \"subpopulation\": \"same\", \"pretrained\": false}, {\"corruption\": \"impulse_noise\", \"corruption level\": 2, \"metric\": 0.2710050045967103, \"ref\": \"DoC\", \"acc\": 0.6467999815940857, \"error\": 0.3532000184059143, \"subpopulation\": \"same\", \"pretrained\": false}, {\"corruption\": \"impulse_noise\", \"corruption level\": 3, \"metric\": 0.3151094018936158, \"ref\": \"DoC\", \"acc\": 0.5465999841690063, \"error\": 0.45340001583099365, \"subpopulation\": \"same\", \"pretrained\": false}, {\"corruption\": \"impulse_noise\", \"corruption level\": 4, \"metric\": 0.35815456504821785, \"ref\": \"DoC\", \"acc\": 0.41349998116493225, \"error\": 0.5865000188350677, \"subpopulation\": \"same\", \"pretrained\": false}, {\"corruption\": \"impulse_noise\", \"corruption level\": 5, \"metric\": 0.37575069065094, \"ref\": \"DoC\", \"acc\": 0.31769999861717224, \"error\": 0.6823000013828278, \"subpopulation\": \"same\", \"pretrained\": false}, {\"corruption\": \"jpeg_compression\", \"corruption level\": 1, \"metric\": 0.17649826402664193, \"ref\": \"DoC\", \"acc\": 0.8007999658584595, \"error\": 0.19920003414154053, \"subpopulation\": \"same\", \"pretrained\": false}, {\"corruption\": \"jpeg_compression\", \"corruption level\": 2, \"metric\": 0.21147480602264412, \"ref\": \"DoC\", \"acc\": 0.7529999613761902, \"error\": 0.24700003862380981, \"subpopulation\": \"same\", \"pretrained\": false}, {\"corruption\": \"jpeg_compression\", \"corruption level\": 3, \"metric\": 0.22341492767333992, \"ref\": \"DoC\", \"acc\": 0.7392999529838562, \"error\": 0.2607000470161438, \"subpopulation\": \"same\", \"pretrained\": false}, {\"corruption\": \"jpeg_compression\", \"corruption level\": 4, \"metric\": 0.23975065345764168, \"ref\": \"DoC\", \"acc\": 0.7220999598503113, \"error\": 0.2779000401496887, \"subpopulation\": \"same\", \"pretrained\": false}, {\"corruption\": \"jpeg_compression\", \"corruption level\": 5, \"metric\": 0.260266870212555, \"ref\": \"DoC\", \"acc\": 0.6917999982833862, \"error\": 0.30820000171661377, \"subpopulation\": \"same\", \"pretrained\": false}, {\"corruption\": \"motion_blur\", \"corruption level\": 1, \"metric\": 0.15570393199920662, \"ref\": \"DoC\", \"acc\": 0.8323999643325806, \"error\": 0.16760003566741943, \"subpopulation\": \"same\", \"pretrained\": false}, {\"corruption\": \"motion_blur\", \"corruption level\": 2, \"metric\": 0.20174184436798104, \"ref\": \"DoC\", \"acc\": 0.7581999897956848, \"error\": 0.24180001020431519, \"subpopulation\": \"same\", \"pretrained\": false}, {\"corruption\": \"motion_blur\", \"corruption level\": 3, \"metric\": 0.24400410051345833, \"ref\": \"DoC\", \"acc\": 0.6747999787330627, \"error\": 0.32520002126693726, \"subpopulation\": \"same\", \"pretrained\": false}, {\"corruption\": \"motion_blur\", \"corruption level\": 4, \"metric\": 0.24356594676971444, \"ref\": \"DoC\", \"acc\": 0.6714999675750732, \"error\": 0.32850003242492676, \"subpopulation\": \"same\", \"pretrained\": false}, {\"corruption\": \"motion_blur\", \"corruption level\": 5, \"metric\": 0.2760178148269654, \"ref\": \"DoC\", \"acc\": 0.593999981880188, \"error\": 0.406000018119812, \"subpopulation\": \"same\", \"pretrained\": false}, {\"corruption\": \"pixelate\", \"corruption level\": 1, \"metric\": 0.14969196910858162, \"ref\": \"DoC\", \"acc\": 0.8514999747276306, \"error\": 0.14850002527236938, \"subpopulation\": \"same\", \"pretrained\": false}, {\"corruption\": \"pixelate\", \"corruption level\": 2, \"metric\": 0.19688752288818367, \"ref\": \"DoC\", \"acc\": 0.7721999883651733, \"error\": 0.22780001163482666, \"subpopulation\": \"same\", \"pretrained\": false}, {\"corruption\": \"pixelate\", \"corruption level\": 3, \"metric\": 0.21706941719055184, \"ref\": \"DoC\", \"acc\": 0.7351999878883362, \"error\": 0.2648000121116638, \"subpopulation\": \"same\", \"pretrained\": false}, {\"corruption\": \"pixelate\", \"corruption level\": 4, \"metric\": 0.2571547924995423, \"ref\": \"DoC\", \"acc\": 0.5631999969482422, \"error\": 0.4368000030517578, \"subpopulation\": \"same\", \"pretrained\": false}, {\"corruption\": \"pixelate\", \"corruption level\": 5, \"metric\": 0.27734383935928353, \"ref\": \"DoC\", \"acc\": 0.36569997668266296, \"error\": 0.634300023317337, \"subpopulation\": \"same\", \"pretrained\": false}, {\"corruption\": \"saturate\", \"corruption level\": 1, \"metric\": 0.1419158875465394, \"ref\": \"DoC\", \"acc\": 0.8587999939918518, \"error\": 0.1412000060081482, \"subpopulation\": \"same\", \"pretrained\": false}, {\"corruption\": \"saturate\", \"corruption level\": 2, \"metric\": 0.16018095607757576, \"ref\": \"DoC\", \"acc\": 0.8366999626159668, \"error\": 0.1633000373840332, \"subpopulation\": \"same\", \"pretrained\": false}, {\"corruption\": \"saturate\", \"corruption level\": 3, \"metric\": 0.12206777925491341, \"ref\": \"DoC\", \"acc\": 0.8747999668121338, \"error\": 0.1252000331878662, \"subpopulation\": \"same\", \"pretrained\": false}, {\"corruption\": \"saturate\", \"corruption level\": 4, \"metric\": 0.14424821729660042, \"ref\": \"DoC\", \"acc\": 0.8537999987602234, \"error\": 0.1462000012397766, \"subpopulation\": \"same\", \"pretrained\": false}, {\"corruption\": \"saturate\", \"corruption level\": 5, \"metric\": 0.17284914846420296, \"ref\": \"DoC\", \"acc\": 0.8202999830245972, \"error\": 0.17970001697540283, \"subpopulation\": \"same\", \"pretrained\": false}, {\"corruption\": \"shot_noise\", \"corruption level\": 1, \"metric\": 0.176635175895691, \"ref\": \"DoC\", \"acc\": 0.7879999876022339, \"error\": 0.2120000123977661, \"subpopulation\": \"same\", \"pretrained\": false}, {\"corruption\": \"shot_noise\", \"corruption level\": 2, \"metric\": 0.21543410415649422, \"ref\": \"DoC\", \"acc\": 0.707099974155426, \"error\": 0.292900025844574, \"subpopulation\": \"same\", \"pretrained\": false}, {\"corruption\": \"shot_noise\", \"corruption level\": 3, \"metric\": 0.2655406295776368, \"ref\": \"DoC\", \"acc\": 0.5174999833106995, \"error\": 0.48250001668930054, \"subpopulation\": \"same\", \"pretrained\": false}, {\"corruption\": \"shot_noise\", \"corruption level\": 4, \"metric\": 0.2749266921997071, \"ref\": \"DoC\", \"acc\": 0.4513999819755554, \"error\": 0.5486000180244446, \"subpopulation\": \"same\", \"pretrained\": false}, {\"corruption\": \"shot_noise\", \"corruption level\": 5, \"metric\": 0.27778682107925423, \"ref\": \"DoC\", \"acc\": 0.3586999773979187, \"error\": 0.6413000226020813, \"subpopulation\": \"same\", \"pretrained\": false}, {\"corruption\": \"snow\", \"corruption level\": 1, \"metric\": 0.1748910843849183, \"ref\": \"DoC\", \"acc\": 0.8109999895095825, \"error\": 0.18900001049041748, \"subpopulation\": \"same\", \"pretrained\": false}, {\"corruption\": \"snow\", \"corruption level\": 2, \"metric\": 0.23653420801162728, \"ref\": \"DoC\", \"acc\": 0.6646999716758728, \"error\": 0.3353000283241272, \"subpopulation\": \"same\", \"pretrained\": false}, {\"corruption\": \"snow\", \"corruption level\": 3, \"metric\": 0.2298309504508973, \"ref\": \"DoC\", \"acc\": 0.7226999998092651, \"error\": 0.27730000019073486, \"subpopulation\": \"same\", \"pretrained\": false}, {\"corruption\": \"snow\", \"corruption level\": 4, \"metric\": 0.24008783693313607, \"ref\": \"DoC\", \"acc\": 0.7030999660491943, \"error\": 0.29690003395080566, \"subpopulation\": \"same\", \"pretrained\": false}, {\"corruption\": \"snow\", \"corruption level\": 5, \"metric\": 0.2619419991493226, \"ref\": \"DoC\", \"acc\": 0.6495000123977661, \"error\": 0.3504999876022339, \"subpopulation\": \"same\", \"pretrained\": false}, {\"corruption\": \"spatter\", \"corruption level\": 1, \"metric\": 0.15814962978363045, \"ref\": \"DoC\", \"acc\": 0.8385999798774719, \"error\": 0.16140002012252808, \"subpopulation\": \"same\", \"pretrained\": false}, {\"corruption\": \"spatter\", \"corruption level\": 2, \"metric\": 0.20981267089843758, \"ref\": \"DoC\", \"acc\": 0.7683999538421631, \"error\": 0.23160004615783691, \"subpopulation\": \"same\", \"pretrained\": false}, {\"corruption\": \"spatter\", \"corruption level\": 3, \"metric\": 0.24623998994827279, \"ref\": \"DoC\", \"acc\": 0.7167999744415283, \"error\": 0.2832000255584717, \"subpopulation\": \"same\", \"pretrained\": false}, {\"corruption\": \"spatter\", \"corruption level\": 4, \"metric\": 0.18826338644027718, \"ref\": \"DoC\", \"acc\": 0.7810999751091003, \"error\": 0.21890002489089966, \"subpopulation\": \"same\", \"pretrained\": false}, {\"corruption\": \"spatter\", \"corruption level\": 5, \"metric\": 0.2388035952568055, \"ref\": \"DoC\", \"acc\": 0.6961999535560608, \"error\": 0.3038000464439392, \"subpopulation\": \"same\", \"pretrained\": false}, {\"corruption\": \"speckle_noise\", \"corruption level\": 1, \"metric\": 0.17583581800460824, \"ref\": \"DoC\", \"acc\": 0.7925999760627747, \"error\": 0.20740002393722534, \"subpopulation\": \"same\", \"pretrained\": false}, {\"corruption\": \"speckle_noise\", \"corruption level\": 2, \"metric\": 0.22648796434402474, \"ref\": \"DoC\", \"acc\": 0.6643999814987183, \"error\": 0.33560001850128174, \"subpopulation\": \"same\", \"pretrained\": false}, {\"corruption\": \"speckle_noise\", \"corruption level\": 3, \"metric\": 0.2468021213531495, \"ref\": \"DoC\", \"acc\": 0.6007999777793884, \"error\": 0.3992000222206116, \"subpopulation\": \"same\", \"pretrained\": false}, {\"corruption\": \"speckle_noise\", \"corruption level\": 4, \"metric\": 0.2743156253814698, \"ref\": \"DoC\", \"acc\": 0.49059998989105225, \"error\": 0.5094000101089478, \"subpopulation\": \"same\", \"pretrained\": false}, {\"corruption\": \"speckle_noise\", \"corruption level\": 5, \"metric\": 0.2871761023521424, \"ref\": \"DoC\", \"acc\": 0.3992999792098999, \"error\": 0.6007000207901001, \"subpopulation\": \"same\", \"pretrained\": false}, {\"corruption\": \"zoom_blur\", \"corruption level\": 1, \"metric\": 0.18176075811386116, \"ref\": \"DoC\", \"acc\": 0.8047999739646912, \"error\": 0.19520002603530884, \"subpopulation\": \"same\", \"pretrained\": false}, {\"corruption\": \"zoom_blur\", \"corruption level\": 2, \"metric\": 0.19600519533157357, \"ref\": \"DoC\", \"acc\": 0.7739999890327454, \"error\": 0.22600001096725464, \"subpopulation\": \"same\", \"pretrained\": false}, {\"corruption\": \"zoom_blur\", \"corruption level\": 3, \"metric\": 0.22556123132705697, \"ref\": \"DoC\", \"acc\": 0.7256999611854553, \"error\": 0.2743000388145447, \"subpopulation\": \"same\", \"pretrained\": false}, {\"corruption\": \"zoom_blur\", \"corruption level\": 4, \"metric\": 0.2488618194580079, \"ref\": \"DoC\", \"acc\": 0.6771000027656555, \"error\": 0.3228999972343445, \"subpopulation\": \"same\", \"pretrained\": false}, {\"corruption\": \"zoom_blur\", \"corruption level\": 5, \"metric\": 0.2856866418838502, \"ref\": \"DoC\", \"acc\": 0.5981999635696411, \"error\": 0.4018000364303589, \"subpopulation\": \"same\", \"pretrained\": false}, {\"corruption\": \"contrast\", \"corruption level\": 1, \"metric\": 0.12537100906372078, \"ref\": \"DoC\", \"acc\": 0.8696999549865723, \"error\": 0.13030004501342773, \"subpopulation\": \"same\", \"pretrained\": false}, {\"corruption\": \"contrast\", \"corruption level\": 2, \"metric\": 0.16661658878326424, \"ref\": \"DoC\", \"acc\": 0.8154999613761902, \"error\": 0.18450003862380981, \"subpopulation\": \"same\", \"pretrained\": false}]}, \"mark\": {\"type\": \"point\", \"filled\": true, \"size\": 50}, \"encoding\": {\"color\": {\"field\": \"ref\", \"type\": \"nominal\"}, \"shape\": {\"field\": \"ref\", \"type\": \"nominal\"}, \"x\": {\"field\": \"metric\", \"type\": \"quantitative\"}, \"y\": {\"field\": \"error\", \"title\": \"Test Error\", \"type\": \"quantitative\"}}, \"height\": 200, \"title\": \"same\", \"width\": 200}, {\"data\": {\"name\": \"data-371cce5920a7f84c9a50d4162766dae5\"}, \"mark\": {\"type\": \"line\", \"color\": \"black\", \"strokeDash\": [5, 8]}, \"encoding\": {\"x\": {\"field\": \"metric\", \"type\": \"quantitative\"}, \"y\": {\"field\": \"error\", \"type\": \"quantitative\"}}}]}, {\"layer\": [{\"data\": {\"values\": [{\"corruption\": \"collection\", \"corruption level\": 0, \"metric\": 0.18124091625213623, \"ref\": \"AC\", \"acc\": 0.7554999589920044, \"error\": 0.2445000410079956, \"subpopulation\": \"natural\", \"pretrained\": false}, {\"corruption\": \"collection\", \"corruption level\": 0, \"metric\": 0.19007304306030282, \"ref\": \"DoC\", \"acc\": 0.7554999589920044, \"error\": 0.2445000410079956, \"subpopulation\": \"natural\", \"pretrained\": false}]}, \"mark\": {\"type\": \"point\", \"filled\": true, \"size\": 50}, \"encoding\": {\"color\": {\"field\": \"ref\", \"type\": \"nominal\"}, \"shape\": {\"field\": \"ref\", \"type\": \"nominal\"}, \"x\": {\"field\": \"metric\", \"type\": \"quantitative\"}, \"y\": {\"field\": \"error\", \"title\": \"Test Error\", \"type\": \"quantitative\"}}, \"height\": 200, \"title\": \"natural\", \"width\": 200}, {\"data\": {\"name\": \"data-371cce5920a7f84c9a50d4162766dae5\"}, \"mark\": {\"type\": \"line\", \"color\": \"black\", \"strokeDash\": [5, 8]}, \"encoding\": {\"x\": {\"field\": \"metric\", \"type\": \"quantitative\"}, \"y\": {\"field\": \"error\", \"type\": \"quantitative\"}}}]}, {\"layer\": [{\"data\": {\"values\": []}, \"mark\": {\"type\": \"point\", \"filled\": true, \"size\": 50}, \"encoding\": {\"color\": {\"field\": \"ref\", \"type\": \"nominal\"}, \"shape\": {\"field\": \"ref\", \"type\": \"nominal\"}, \"x\": {\"field\": \"metric\", \"type\": \"quantitative\"}, \"y\": {\"field\": \"error\", \"title\": \"Test Error\", \"type\": \"quantitative\"}}, \"height\": 200, \"title\": \"novel\", \"width\": 200}, {\"data\": {\"name\": \"data-371cce5920a7f84c9a50d4162766dae5\"}, \"mark\": {\"type\": \"line\", \"color\": \"black\", \"strokeDash\": [5, 8]}, \"encoding\": {\"x\": {\"field\": \"metric\", \"type\": \"quantitative\"}, \"y\": {\"field\": \"error\", \"type\": \"quantitative\"}}}]}], \"$schema\": \"https://vega.github.io/schema/vega-lite/v4.17.0.json\", \"datasets\": {\"data-371cce5920a7f84c9a50d4162766dae5\": [{\"metric\": 0, \"error\": 0}, {\"metric\": 1, \"error\": 1}]}}, {\"mode\": \"vega-lite\"});\n",
       "</script>"
      ],
      "text/plain": [
       "alt.HConcatChart(...)"
      ]
     },
     "execution_count": 10,
     "metadata": {},
     "output_type": "execute_result"
    }
   ],
   "source": [
    "plt.configure_axis(\n",
    "    labelFontSize=14,\n",
    "    titleFontSize=16\n",
    ").configure_axis(\n",
    "    labelFontSize=14,\n",
    "    titleFontSize=16,\n",
    ").configure_legend(\n",
    "    titleFontSize=14,\n",
    "    labelFontSize=16\n",
    ") \n"
   ]
  },
  {
   "cell_type": "code",
   "execution_count": 11,
   "id": "3ccfbce1",
   "metadata": {},
   "outputs": [
    {
     "data": {
      "text/html": [
       "\n",
       "<div id=\"altair-viz-2c7330d45403414aa9ad93aa1ceffc71\"></div>\n",
       "<script type=\"text/javascript\">\n",
       "  var VEGA_DEBUG = (typeof VEGA_DEBUG == \"undefined\") ? {} : VEGA_DEBUG;\n",
       "  (function(spec, embedOpt){\n",
       "    let outputDiv = document.currentScript.previousElementSibling;\n",
       "    if (outputDiv.id !== \"altair-viz-2c7330d45403414aa9ad93aa1ceffc71\") {\n",
       "      outputDiv = document.getElementById(\"altair-viz-2c7330d45403414aa9ad93aa1ceffc71\");\n",
       "    }\n",
       "    const paths = {\n",
       "      \"vega\": \"https://cdn.jsdelivr.net/npm//vega@5?noext\",\n",
       "      \"vega-lib\": \"https://cdn.jsdelivr.net/npm//vega-lib?noext\",\n",
       "      \"vega-lite\": \"https://cdn.jsdelivr.net/npm//vega-lite@4.17.0?noext\",\n",
       "      \"vega-embed\": \"https://cdn.jsdelivr.net/npm//vega-embed@6?noext\",\n",
       "    };\n",
       "\n",
       "    function maybeLoadScript(lib, version) {\n",
       "      var key = `${lib.replace(\"-\", \"\")}_version`;\n",
       "      return (VEGA_DEBUG[key] == version) ?\n",
       "        Promise.resolve(paths[lib]) :\n",
       "        new Promise(function(resolve, reject) {\n",
       "          var s = document.createElement('script');\n",
       "          document.getElementsByTagName(\"head\")[0].appendChild(s);\n",
       "          s.async = true;\n",
       "          s.onload = () => {\n",
       "            VEGA_DEBUG[key] = version;\n",
       "            return resolve(paths[lib]);\n",
       "          };\n",
       "          s.onerror = () => reject(`Error loading script: ${paths[lib]}`);\n",
       "          s.src = paths[lib];\n",
       "        });\n",
       "    }\n",
       "\n",
       "    function showError(err) {\n",
       "      outputDiv.innerHTML = `<div class=\"error\" style=\"color:red;\">${err}</div>`;\n",
       "      throw err;\n",
       "    }\n",
       "\n",
       "    function displayChart(vegaEmbed) {\n",
       "      vegaEmbed(outputDiv, spec, embedOpt)\n",
       "        .catch(err => showError(`Javascript Error: ${err.message}<br>This usually means there's a typo in your chart specification. See the javascript console for the full traceback.`));\n",
       "    }\n",
       "\n",
       "    if(typeof define === \"function\" && define.amd) {\n",
       "      requirejs.config({paths});\n",
       "      require([\"vega-embed\"], displayChart, err => showError(`Error loading script: ${err.message}`));\n",
       "    } else {\n",
       "      maybeLoadScript(\"vega\", \"5\")\n",
       "        .then(() => maybeLoadScript(\"vega-lite\", \"4.17.0\"))\n",
       "        .then(() => maybeLoadScript(\"vega-embed\", \"6\"))\n",
       "        .catch(showError)\n",
       "        .then(() => displayChart(vegaEmbed));\n",
       "    }\n",
       "  })({\"config\": {\"view\": {\"continuousWidth\": 400, \"continuousHeight\": 300}}, \"data\": {\"values\": [{\"corruption\": \"clean\", \"corruption level\": 0, \"metric\": 0.10855334997177124, \"ref\": \"AC\", \"acc\": 0.8807999491691589, \"error\": 0.11920005083084106, \"subpopulation\": \"same\", \"pretrained\": false}, {\"corruption\": \"collection\", \"corruption level\": 0, \"metric\": 0.18124091625213623, \"ref\": \"AC\", \"acc\": 0.7554999589920044, \"error\": 0.2445000410079956, \"subpopulation\": \"natural\", \"pretrained\": false}, {\"corruption\": \"brightness\", \"corruption level\": 1, \"metric\": 0.11042559146881104, \"ref\": \"AC\", \"acc\": 0.8781999945640564, \"error\": 0.1218000054359436, \"subpopulation\": \"same\", \"pretrained\": false}, {\"corruption\": \"brightness\", \"corruption level\": 2, \"metric\": 0.11535489559173584, \"ref\": \"AC\", \"acc\": 0.8755999803543091, \"error\": 0.12440001964569092, \"subpopulation\": \"same\", \"pretrained\": false}, {\"corruption\": \"brightness\", \"corruption level\": 3, \"metric\": 0.12222278118133545, \"ref\": \"AC\", \"acc\": 0.8693000078201294, \"error\": 0.1306999921798706, \"subpopulation\": \"same\", \"pretrained\": false}, {\"corruption\": \"brightness\", \"corruption level\": 4, \"metric\": 0.13200116157531738, \"ref\": \"AC\", \"acc\": 0.85999995470047, \"error\": 0.14000004529953003, \"subpopulation\": \"same\", \"pretrained\": false}, {\"corruption\": \"brightness\", \"corruption level\": 5, \"metric\": 0.15614110231399536, \"ref\": \"AC\", \"acc\": 0.8327999711036682, \"error\": 0.1672000288963318, \"subpopulation\": \"same\", \"pretrained\": false}, {\"corruption\": \"defocus_blur\", \"corruption level\": 1, \"metric\": 0.11014091968536377, \"ref\": \"AC\", \"acc\": 0.878600001335144, \"error\": 0.12139999866485596, \"subpopulation\": \"same\", \"pretrained\": false}, {\"corruption\": \"defocus_blur\", \"corruption level\": 2, \"metric\": 0.12284111976623535, \"ref\": \"AC\", \"acc\": 0.8625999689102173, \"error\": 0.13740003108978271, \"subpopulation\": \"same\", \"pretrained\": false}, {\"corruption\": \"defocus_blur\", \"corruption level\": 3, \"metric\": 0.15322011709213257, \"ref\": \"AC\", \"acc\": 0.8121999502182007, \"error\": 0.18780004978179932, \"subpopulation\": \"same\", \"pretrained\": false}, {\"corruption\": \"defocus_blur\", \"corruption level\": 4, \"metric\": 0.20853865146636963, \"ref\": \"AC\", \"acc\": 0.7149999737739563, \"error\": 0.2850000262260437, \"subpopulation\": \"same\", \"pretrained\": false}, {\"corruption\": \"defocus_blur\", \"corruption level\": 5, \"metric\": 0.2927129864692688, \"ref\": \"AC\", \"acc\": 0.5351999998092651, \"error\": 0.46480000019073486, \"subpopulation\": \"same\", \"pretrained\": false}, {\"corruption\": \"elastic_transform\", \"corruption level\": 1, \"metric\": 0.16193866729736328, \"ref\": \"AC\", \"acc\": 0.8208999633789062, \"error\": 0.17910003662109375, \"subpopulation\": \"same\", \"pretrained\": false}, {\"corruption\": \"elastic_transform\", \"corruption level\": 2, \"metric\": 0.15821582078933716, \"ref\": \"AC\", \"acc\": 0.8192999958992004, \"error\": 0.18070000410079956, \"subpopulation\": \"same\", \"pretrained\": false}, {\"corruption\": \"elastic_transform\", \"corruption level\": 3, \"metric\": 0.18501067161560059, \"ref\": \"AC\", \"acc\": 0.778499960899353, \"error\": 0.22150003910064697, \"subpopulation\": \"same\", \"pretrained\": false}, {\"corruption\": \"elastic_transform\", \"corruption level\": 4, \"metric\": 0.2430604100227356, \"ref\": \"AC\", \"acc\": 0.7026000022888184, \"error\": 0.29739999771118164, \"subpopulation\": \"same\", \"pretrained\": false}, {\"corruption\": \"elastic_transform\", \"corruption level\": 5, \"metric\": 0.28820252418518066, \"ref\": \"AC\", \"acc\": 0.649399995803833, \"error\": 0.350600004196167, \"subpopulation\": \"same\", \"pretrained\": false}, {\"corruption\": \"fog\", \"corruption level\": 1, \"metric\": 0.11318254470825195, \"ref\": \"AC\", \"acc\": 0.8759999871253967, \"error\": 0.12400001287460327, \"subpopulation\": \"same\", \"pretrained\": false}, {\"corruption\": \"fog\", \"corruption level\": 2, \"metric\": 0.13077598810195923, \"ref\": \"AC\", \"acc\": 0.8578000068664551, \"error\": 0.14219999313354492, \"subpopulation\": \"same\", \"pretrained\": false}, {\"corruption\": \"fog\", \"corruption level\": 3, \"metric\": 0.1499936580657959, \"ref\": \"AC\", \"acc\": 0.8348000049591064, \"error\": 0.16519999504089355, \"subpopulation\": \"same\", \"pretrained\": false}, {\"corruption\": \"fog\", \"corruption level\": 4, \"metric\": 0.17745763063430786, \"ref\": \"AC\", \"acc\": 0.8012999892234802, \"error\": 0.19870001077651978, \"subpopulation\": \"same\", \"pretrained\": false}, {\"corruption\": \"fog\", \"corruption level\": 5, \"metric\": 0.2573889493942261, \"ref\": \"AC\", \"acc\": 0.6714999675750732, \"error\": 0.32850003242492676, \"subpopulation\": \"same\", \"pretrained\": false}, {\"corruption\": \"frost\", \"corruption level\": 1, \"metric\": 0.1532653570175171, \"ref\": \"AC\", \"acc\": 0.8315999507904053, \"error\": 0.16840004920959473, \"subpopulation\": \"same\", \"pretrained\": false}, {\"corruption\": \"frost\", \"corruption level\": 2, \"metric\": 0.1967717409133911, \"ref\": \"AC\", \"acc\": 0.7626000046730042, \"error\": 0.23739999532699585, \"subpopulation\": \"same\", \"pretrained\": false}, {\"corruption\": \"frost\", \"corruption level\": 3, \"metric\": 0.2476634383201599, \"ref\": \"AC\", \"acc\": 0.6559999585151672, \"error\": 0.34400004148483276, \"subpopulation\": \"same\", \"pretrained\": false}, {\"corruption\": \"frost\", \"corruption level\": 4, \"metric\": 0.2529561519622803, \"ref\": \"AC\", \"acc\": 0.6373999714851379, \"error\": 0.36260002851486206, \"subpopulation\": \"same\", \"pretrained\": false}, {\"corruption\": \"frost\", \"corruption level\": 5, \"metric\": 0.2794117331504822, \"ref\": \"AC\", \"acc\": 0.5320999622344971, \"error\": 0.46790003776550293, \"subpopulation\": \"same\", \"pretrained\": false}, {\"corruption\": \"gaussian_blur\", \"corruption level\": 1, \"metric\": 0.11011373996734619, \"ref\": \"AC\", \"acc\": 0.8783999681472778, \"error\": 0.12160003185272217, \"subpopulation\": \"same\", \"pretrained\": false}, {\"corruption\": \"gaussian_blur\", \"corruption level\": 2, \"metric\": 0.15381288528442383, \"ref\": \"AC\", \"acc\": 0.8121999502182007, \"error\": 0.18780004978179932, \"subpopulation\": \"same\", \"pretrained\": false}, {\"corruption\": \"gaussian_blur\", \"corruption level\": 3, \"metric\": 0.20102399587631226, \"ref\": \"AC\", \"acc\": 0.7281999588012695, \"error\": 0.27180004119873047, \"subpopulation\": \"same\", \"pretrained\": false}, {\"corruption\": \"gaussian_blur\", \"corruption level\": 4, \"metric\": 0.24986231327056885, \"ref\": \"AC\", \"acc\": 0.6218000054359436, \"error\": 0.3781999945640564, \"subpopulation\": \"same\", \"pretrained\": false}, {\"corruption\": \"gaussian_blur\", \"corruption level\": 5, \"metric\": 0.31021052598953247, \"ref\": \"AC\", \"acc\": 0.4274999797344208, \"error\": 0.5725000202655792, \"subpopulation\": \"same\", \"pretrained\": false}, {\"corruption\": \"gaussian_noise\", \"corruption level\": 1, \"metric\": 0.203172504901886, \"ref\": \"AC\", \"acc\": 0.717799961566925, \"error\": 0.28220003843307495, \"subpopulation\": \"same\", \"pretrained\": false}, {\"corruption\": \"gaussian_noise\", \"corruption level\": 2, \"metric\": 0.2534673810005188, \"ref\": \"AC\", \"acc\": 0.5501999855041504, \"error\": 0.4498000144958496, \"subpopulation\": \"same\", \"pretrained\": false}, {\"corruption\": \"gaussian_noise\", \"corruption level\": 3, \"metric\": 0.2665403485298157, \"ref\": \"AC\", \"acc\": 0.40869998931884766, \"error\": 0.5913000106811523, \"subpopulation\": \"same\", \"pretrained\": false}, {\"corruption\": \"gaussian_noise\", \"corruption level\": 4, \"metric\": 0.26669782400131226, \"ref\": \"AC\", \"acc\": 0.34769999980926514, \"error\": 0.6523000001907349, \"subpopulation\": \"same\", \"pretrained\": false}, {\"corruption\": \"gaussian_noise\", \"corruption level\": 5, \"metric\": 0.2594941258430481, \"ref\": \"AC\", \"acc\": 0.29819998145103455, \"error\": 0.7018000185489655, \"subpopulation\": \"same\", \"pretrained\": false}, {\"corruption\": \"glass_blur\", \"corruption level\": 1, \"metric\": 0.28583836555480957, \"ref\": \"AC\", \"acc\": 0.41259998083114624, \"error\": 0.5874000191688538, \"subpopulation\": \"same\", \"pretrained\": false}, {\"corruption\": \"glass_blur\", \"corruption level\": 2, \"metric\": 0.29343611001968384, \"ref\": \"AC\", \"acc\": 0.4373999834060669, \"error\": 0.5626000165939331, \"subpopulation\": \"same\", \"pretrained\": false}, {\"corruption\": \"glass_blur\", \"corruption level\": 3, \"metric\": 0.3003808856010437, \"ref\": \"AC\", \"acc\": 0.4810999929904938, \"error\": 0.5189000070095062, \"subpopulation\": \"same\", \"pretrained\": false}, {\"corruption\": \"glass_blur\", \"corruption level\": 4, \"metric\": 0.2838900685310364, \"ref\": \"AC\", \"acc\": 0.3294000029563904, \"error\": 0.6705999970436096, \"subpopulation\": \"same\", \"pretrained\": false}, {\"corruption\": \"glass_blur\", \"corruption level\": 5, \"metric\": 0.3051645755767822, \"ref\": \"AC\", \"acc\": 0.3637000024318695, \"error\": 0.6362999975681305, \"subpopulation\": \"same\", \"pretrained\": false}, {\"corruption\": \"impulse_noise\", \"corruption level\": 1, \"metric\": 0.19848370552062988, \"ref\": \"AC\", \"acc\": 0.7578999996185303, \"error\": 0.24210000038146973, \"subpopulation\": \"same\", \"pretrained\": false}, {\"corruption\": \"impulse_noise\", \"corruption level\": 2, \"metric\": 0.2621728777885437, \"ref\": \"AC\", \"acc\": 0.6467999815940857, \"error\": 0.3532000184059143, \"subpopulation\": \"same\", \"pretrained\": false}, {\"corruption\": \"impulse_noise\", \"corruption level\": 3, \"metric\": 0.3062772750854492, \"ref\": \"AC\", \"acc\": 0.5465999841690063, \"error\": 0.45340001583099365, \"subpopulation\": \"same\", \"pretrained\": false}, {\"corruption\": \"impulse_noise\", \"corruption level\": 4, \"metric\": 0.34932243824005127, \"ref\": \"AC\", \"acc\": 0.41349998116493225, \"error\": 0.5865000188350677, \"subpopulation\": \"same\", \"pretrained\": false}, {\"corruption\": \"impulse_noise\", \"corruption level\": 5, \"metric\": 0.36691856384277344, \"ref\": \"AC\", \"acc\": 0.31769999861717224, \"error\": 0.6823000013828278, \"subpopulation\": \"same\", \"pretrained\": false}, {\"corruption\": \"jpeg_compression\", \"corruption level\": 1, \"metric\": 0.16766613721847534, \"ref\": \"AC\", \"acc\": 0.8007999658584595, \"error\": 0.19920003414154053, \"subpopulation\": \"same\", \"pretrained\": false}, {\"corruption\": \"jpeg_compression\", \"corruption level\": 2, \"metric\": 0.20264267921447754, \"ref\": \"AC\", \"acc\": 0.7529999613761902, \"error\": 0.24700003862380981, \"subpopulation\": \"same\", \"pretrained\": false}, {\"corruption\": \"jpeg_compression\", \"corruption level\": 3, \"metric\": 0.21458280086517334, \"ref\": \"AC\", \"acc\": 0.7392999529838562, \"error\": 0.2607000470161438, \"subpopulation\": \"same\", \"pretrained\": false}, {\"corruption\": \"jpeg_compression\", \"corruption level\": 4, \"metric\": 0.2309185266494751, \"ref\": \"AC\", \"acc\": 0.7220999598503113, \"error\": 0.2779000401496887, \"subpopulation\": \"same\", \"pretrained\": false}, {\"corruption\": \"jpeg_compression\", \"corruption level\": 5, \"metric\": 0.2514347434043884, \"ref\": \"AC\", \"acc\": 0.6917999982833862, \"error\": 0.30820000171661377, \"subpopulation\": \"same\", \"pretrained\": false}, {\"corruption\": \"motion_blur\", \"corruption level\": 1, \"metric\": 0.14687180519104004, \"ref\": \"AC\", \"acc\": 0.8323999643325806, \"error\": 0.16760003566741943, \"subpopulation\": \"same\", \"pretrained\": false}, {\"corruption\": \"motion_blur\", \"corruption level\": 2, \"metric\": 0.19290971755981445, \"ref\": \"AC\", \"acc\": 0.7581999897956848, \"error\": 0.24180001020431519, \"subpopulation\": \"same\", \"pretrained\": false}, {\"corruption\": \"motion_blur\", \"corruption level\": 3, \"metric\": 0.23517197370529175, \"ref\": \"AC\", \"acc\": 0.6747999787330627, \"error\": 0.32520002126693726, \"subpopulation\": \"same\", \"pretrained\": false}, {\"corruption\": \"motion_blur\", \"corruption level\": 4, \"metric\": 0.23473381996154785, \"ref\": \"AC\", \"acc\": 0.6714999675750732, \"error\": 0.32850003242492676, \"subpopulation\": \"same\", \"pretrained\": false}, {\"corruption\": \"motion_blur\", \"corruption level\": 5, \"metric\": 0.26718568801879883, \"ref\": \"AC\", \"acc\": 0.593999981880188, \"error\": 0.406000018119812, \"subpopulation\": \"same\", \"pretrained\": false}, {\"corruption\": \"pixelate\", \"corruption level\": 1, \"metric\": 0.14085984230041504, \"ref\": \"AC\", \"acc\": 0.8514999747276306, \"error\": 0.14850002527236938, \"subpopulation\": \"same\", \"pretrained\": false}, {\"corruption\": \"pixelate\", \"corruption level\": 2, \"metric\": 0.1880553960800171, \"ref\": \"AC\", \"acc\": 0.7721999883651733, \"error\": 0.22780001163482666, \"subpopulation\": \"same\", \"pretrained\": false}, {\"corruption\": \"pixelate\", \"corruption level\": 3, \"metric\": 0.20823729038238525, \"ref\": \"AC\", \"acc\": 0.7351999878883362, \"error\": 0.2648000121116638, \"subpopulation\": \"same\", \"pretrained\": false}, {\"corruption\": \"pixelate\", \"corruption level\": 4, \"metric\": 0.24832266569137573, \"ref\": \"AC\", \"acc\": 0.5631999969482422, \"error\": 0.4368000030517578, \"subpopulation\": \"same\", \"pretrained\": false}, {\"corruption\": \"pixelate\", \"corruption level\": 5, \"metric\": 0.26851171255111694, \"ref\": \"AC\", \"acc\": 0.36569997668266296, \"error\": 0.634300023317337, \"subpopulation\": \"same\", \"pretrained\": false}, {\"corruption\": \"saturate\", \"corruption level\": 1, \"metric\": 0.1330837607383728, \"ref\": \"AC\", \"acc\": 0.8587999939918518, \"error\": 0.1412000060081482, \"subpopulation\": \"same\", \"pretrained\": false}, {\"corruption\": \"saturate\", \"corruption level\": 2, \"metric\": 0.15134882926940918, \"ref\": \"AC\", \"acc\": 0.8366999626159668, \"error\": 0.1633000373840332, \"subpopulation\": \"same\", \"pretrained\": false}, {\"corruption\": \"saturate\", \"corruption level\": 3, \"metric\": 0.11323565244674683, \"ref\": \"AC\", \"acc\": 0.8747999668121338, \"error\": 0.1252000331878662, \"subpopulation\": \"same\", \"pretrained\": false}, {\"corruption\": \"saturate\", \"corruption level\": 4, \"metric\": 0.13541609048843384, \"ref\": \"AC\", \"acc\": 0.8537999987602234, \"error\": 0.1462000012397766, \"subpopulation\": \"same\", \"pretrained\": false}, {\"corruption\": \"saturate\", \"corruption level\": 5, \"metric\": 0.16401702165603638, \"ref\": \"AC\", \"acc\": 0.8202999830245972, \"error\": 0.17970001697540283, \"subpopulation\": \"same\", \"pretrained\": false}, {\"corruption\": \"shot_noise\", \"corruption level\": 1, \"metric\": 0.16780304908752441, \"ref\": \"AC\", \"acc\": 0.7879999876022339, \"error\": 0.2120000123977661, \"subpopulation\": \"same\", \"pretrained\": false}, {\"corruption\": \"shot_noise\", \"corruption level\": 2, \"metric\": 0.20660197734832764, \"ref\": \"AC\", \"acc\": 0.707099974155426, \"error\": 0.292900025844574, \"subpopulation\": \"same\", \"pretrained\": false}, {\"corruption\": \"shot_noise\", \"corruption level\": 3, \"metric\": 0.2567085027694702, \"ref\": \"AC\", \"acc\": 0.5174999833106995, \"error\": 0.48250001668930054, \"subpopulation\": \"same\", \"pretrained\": false}, {\"corruption\": \"shot_noise\", \"corruption level\": 4, \"metric\": 0.2660945653915405, \"ref\": \"AC\", \"acc\": 0.4513999819755554, \"error\": 0.5486000180244446, \"subpopulation\": \"same\", \"pretrained\": false}, {\"corruption\": \"shot_noise\", \"corruption level\": 5, \"metric\": 0.26895469427108765, \"ref\": \"AC\", \"acc\": 0.3586999773979187, \"error\": 0.6413000226020813, \"subpopulation\": \"same\", \"pretrained\": false}, {\"corruption\": \"snow\", \"corruption level\": 1, \"metric\": 0.1660589575767517, \"ref\": \"AC\", \"acc\": 0.8109999895095825, \"error\": 0.18900001049041748, \"subpopulation\": \"same\", \"pretrained\": false}, {\"corruption\": \"snow\", \"corruption level\": 2, \"metric\": 0.2277020812034607, \"ref\": \"AC\", \"acc\": 0.6646999716758728, \"error\": 0.3353000283241272, \"subpopulation\": \"same\", \"pretrained\": false}, {\"corruption\": \"snow\", \"corruption level\": 3, \"metric\": 0.2209988236427307, \"ref\": \"AC\", \"acc\": 0.7226999998092651, \"error\": 0.27730000019073486, \"subpopulation\": \"same\", \"pretrained\": false}, {\"corruption\": \"snow\", \"corruption level\": 4, \"metric\": 0.23125571012496948, \"ref\": \"AC\", \"acc\": 0.7030999660491943, \"error\": 0.29690003395080566, \"subpopulation\": \"same\", \"pretrained\": false}, {\"corruption\": \"snow\", \"corruption level\": 5, \"metric\": 0.253109872341156, \"ref\": \"AC\", \"acc\": 0.6495000123977661, \"error\": 0.3504999876022339, \"subpopulation\": \"same\", \"pretrained\": false}, {\"corruption\": \"spatter\", \"corruption level\": 1, \"metric\": 0.14931750297546387, \"ref\": \"AC\", \"acc\": 0.8385999798774719, \"error\": 0.16140002012252808, \"subpopulation\": \"same\", \"pretrained\": false}, {\"corruption\": \"spatter\", \"corruption level\": 2, \"metric\": 0.200980544090271, \"ref\": \"AC\", \"acc\": 0.7683999538421631, \"error\": 0.23160004615783691, \"subpopulation\": \"same\", \"pretrained\": false}, {\"corruption\": \"spatter\", \"corruption level\": 3, \"metric\": 0.2374078631401062, \"ref\": \"AC\", \"acc\": 0.7167999744415283, \"error\": 0.2832000255584717, \"subpopulation\": \"same\", \"pretrained\": false}, {\"corruption\": \"spatter\", \"corruption level\": 4, \"metric\": 0.1794312596321106, \"ref\": \"AC\", \"acc\": 0.7810999751091003, \"error\": 0.21890002489089966, \"subpopulation\": \"same\", \"pretrained\": false}, {\"corruption\": \"spatter\", \"corruption level\": 5, \"metric\": 0.22997146844863892, \"ref\": \"AC\", \"acc\": 0.6961999535560608, \"error\": 0.3038000464439392, \"subpopulation\": \"same\", \"pretrained\": false}, {\"corruption\": \"speckle_noise\", \"corruption level\": 1, \"metric\": 0.16700369119644165, \"ref\": \"AC\", \"acc\": 0.7925999760627747, \"error\": 0.20740002393722534, \"subpopulation\": \"same\", \"pretrained\": false}, {\"corruption\": \"speckle_noise\", \"corruption level\": 2, \"metric\": 0.21765583753585815, \"ref\": \"AC\", \"acc\": 0.6643999814987183, \"error\": 0.33560001850128174, \"subpopulation\": \"same\", \"pretrained\": false}, {\"corruption\": \"speckle_noise\", \"corruption level\": 3, \"metric\": 0.2379699945449829, \"ref\": \"AC\", \"acc\": 0.6007999777793884, \"error\": 0.3992000222206116, \"subpopulation\": \"same\", \"pretrained\": false}, {\"corruption\": \"speckle_noise\", \"corruption level\": 4, \"metric\": 0.2654834985733032, \"ref\": \"AC\", \"acc\": 0.49059998989105225, \"error\": 0.5094000101089478, \"subpopulation\": \"same\", \"pretrained\": false}, {\"corruption\": \"speckle_noise\", \"corruption level\": 5, \"metric\": 0.27834397554397583, \"ref\": \"AC\", \"acc\": 0.3992999792098999, \"error\": 0.6007000207901001, \"subpopulation\": \"same\", \"pretrained\": false}, {\"corruption\": \"zoom_blur\", \"corruption level\": 1, \"metric\": 0.17292863130569458, \"ref\": \"AC\", \"acc\": 0.8047999739646912, \"error\": 0.19520002603530884, \"subpopulation\": \"same\", \"pretrained\": false}, {\"corruption\": \"zoom_blur\", \"corruption level\": 2, \"metric\": 0.18717306852340698, \"ref\": \"AC\", \"acc\": 0.7739999890327454, \"error\": 0.22600001096725464, \"subpopulation\": \"same\", \"pretrained\": false}, {\"corruption\": \"zoom_blur\", \"corruption level\": 3, \"metric\": 0.21672910451889038, \"ref\": \"AC\", \"acc\": 0.7256999611854553, \"error\": 0.2743000388145447, \"subpopulation\": \"same\", \"pretrained\": false}, {\"corruption\": \"zoom_blur\", \"corruption level\": 4, \"metric\": 0.2400296926498413, \"ref\": \"AC\", \"acc\": 0.6771000027656555, \"error\": 0.3228999972343445, \"subpopulation\": \"same\", \"pretrained\": false}, {\"corruption\": \"zoom_blur\", \"corruption level\": 5, \"metric\": 0.2768545150756836, \"ref\": \"AC\", \"acc\": 0.5981999635696411, \"error\": 0.4018000364303589, \"subpopulation\": \"same\", \"pretrained\": false}, {\"corruption\": \"contrast\", \"corruption level\": 1, \"metric\": 0.1165388822555542, \"ref\": \"AC\", \"acc\": 0.8696999549865723, \"error\": 0.13030004501342773, \"subpopulation\": \"same\", \"pretrained\": false}, {\"corruption\": \"contrast\", \"corruption level\": 2, \"metric\": 0.15778446197509766, \"ref\": \"AC\", \"acc\": 0.8154999613761902, \"error\": 0.18450003862380981, \"subpopulation\": \"same\", \"pretrained\": false}, {\"corruption\": \"contrast\", \"corruption level\": 3, \"metric\": 0.19693946838378906, \"ref\": \"AC\", \"acc\": 0.7619999647140503, \"error\": 0.2380000352859497, \"subpopulation\": \"same\", \"pretrained\": false}, {\"corruption\": \"contrast\", \"corruption level\": 4, \"metric\": 0.25895148515701294, \"ref\": \"AC\", \"acc\": 0.6552000045776367, \"error\": 0.3447999954223633, \"subpopulation\": \"same\", \"pretrained\": false}, {\"corruption\": \"contrast\", \"corruption level\": 5, \"metric\": 0.4139515161514282, \"ref\": \"AC\", \"acc\": 0.35249999165534973, \"error\": 0.6475000083446503, \"subpopulation\": \"same\", \"pretrained\": false}, {\"corruption\": \"clean\", \"corruption level\": 0, \"metric\": 0.11738547677993783, \"ref\": \"DoC\", \"acc\": 0.8807999491691589, \"error\": 0.11920005083084106, \"subpopulation\": \"same\", \"pretrained\": false}, {\"corruption\": \"collection\", \"corruption level\": 0, \"metric\": 0.19007304306030282, \"ref\": \"DoC\", \"acc\": 0.7554999589920044, \"error\": 0.2445000410079956, \"subpopulation\": \"natural\", \"pretrained\": false}, {\"corruption\": \"brightness\", \"corruption level\": 1, \"metric\": 0.11925771827697762, \"ref\": \"DoC\", \"acc\": 0.8781999945640564, \"error\": 0.1218000054359436, \"subpopulation\": \"same\", \"pretrained\": false}, {\"corruption\": \"brightness\", \"corruption level\": 2, \"metric\": 0.12418702239990242, \"ref\": \"DoC\", \"acc\": 0.8755999803543091, \"error\": 0.12440001964569092, \"subpopulation\": \"same\", \"pretrained\": false}, {\"corruption\": \"brightness\", \"corruption level\": 3, \"metric\": 0.13105490798950203, \"ref\": \"DoC\", \"acc\": 0.8693000078201294, \"error\": 0.1306999921798706, \"subpopulation\": \"same\", \"pretrained\": false}, {\"corruption\": \"brightness\", \"corruption level\": 4, \"metric\": 0.14083328838348397, \"ref\": \"DoC\", \"acc\": 0.85999995470047, \"error\": 0.14000004529953003, \"subpopulation\": \"same\", \"pretrained\": false}, {\"corruption\": \"brightness\", \"corruption level\": 5, \"metric\": 0.16497322912216195, \"ref\": \"DoC\", \"acc\": 0.8327999711036682, \"error\": 0.1672000288963318, \"subpopulation\": \"same\", \"pretrained\": false}, {\"corruption\": \"defocus_blur\", \"corruption level\": 1, \"metric\": 0.11897304649353035, \"ref\": \"DoC\", \"acc\": 0.878600001335144, \"error\": 0.12139999866485596, \"subpopulation\": \"same\", \"pretrained\": false}, {\"corruption\": \"defocus_blur\", \"corruption level\": 2, \"metric\": 0.13167324657440194, \"ref\": \"DoC\", \"acc\": 0.8625999689102173, \"error\": 0.13740003108978271, \"subpopulation\": \"same\", \"pretrained\": false}, {\"corruption\": \"defocus_blur\", \"corruption level\": 3, \"metric\": 0.16205224390029915, \"ref\": \"DoC\", \"acc\": 0.8121999502182007, \"error\": 0.18780004978179932, \"subpopulation\": \"same\", \"pretrained\": false}, {\"corruption\": \"defocus_blur\", \"corruption level\": 4, \"metric\": 0.2173707782745362, \"ref\": \"DoC\", \"acc\": 0.7149999737739563, \"error\": 0.2850000262260437, \"subpopulation\": \"same\", \"pretrained\": false}, {\"corruption\": \"defocus_blur\", \"corruption level\": 5, \"metric\": 0.3015451132774354, \"ref\": \"DoC\", \"acc\": 0.5351999998092651, \"error\": 0.46480000019073486, \"subpopulation\": \"same\", \"pretrained\": false}, {\"corruption\": \"elastic_transform\", \"corruption level\": 1, \"metric\": 0.17077079410552987, \"ref\": \"DoC\", \"acc\": 0.8208999633789062, \"error\": 0.17910003662109375, \"subpopulation\": \"same\", \"pretrained\": false}, {\"corruption\": \"elastic_transform\", \"corruption level\": 2, \"metric\": 0.16704794759750374, \"ref\": \"DoC\", \"acc\": 0.8192999958992004, \"error\": 0.18070000410079956, \"subpopulation\": \"same\", \"pretrained\": false}, {\"corruption\": \"elastic_transform\", \"corruption level\": 3, \"metric\": 0.19384279842376717, \"ref\": \"DoC\", \"acc\": 0.778499960899353, \"error\": 0.22150003910064697, \"subpopulation\": \"same\", \"pretrained\": false}, {\"corruption\": \"elastic_transform\", \"corruption level\": 4, \"metric\": 0.2518925368309022, \"ref\": \"DoC\", \"acc\": 0.7026000022888184, \"error\": 0.29739999771118164, \"subpopulation\": \"same\", \"pretrained\": false}, {\"corruption\": \"elastic_transform\", \"corruption level\": 5, \"metric\": 0.29703465099334725, \"ref\": \"DoC\", \"acc\": 0.649399995803833, \"error\": 0.350600004196167, \"subpopulation\": \"same\", \"pretrained\": false}, {\"corruption\": \"fog\", \"corruption level\": 1, \"metric\": 0.12201467151641854, \"ref\": \"DoC\", \"acc\": 0.8759999871253967, \"error\": 0.12400001287460327, \"subpopulation\": \"same\", \"pretrained\": false}, {\"corruption\": \"fog\", \"corruption level\": 2, \"metric\": 0.1396081149101258, \"ref\": \"DoC\", \"acc\": 0.8578000068664551, \"error\": 0.14219999313354492, \"subpopulation\": \"same\", \"pretrained\": false}, {\"corruption\": \"fog\", \"corruption level\": 3, \"metric\": 0.15882578487396248, \"ref\": \"DoC\", \"acc\": 0.8348000049591064, \"error\": 0.16519999504089355, \"subpopulation\": \"same\", \"pretrained\": false}, {\"corruption\": \"fog\", \"corruption level\": 4, \"metric\": 0.18628975744247445, \"ref\": \"DoC\", \"acc\": 0.8012999892234802, \"error\": 0.19870001077651978, \"subpopulation\": \"same\", \"pretrained\": false}, {\"corruption\": \"fog\", \"corruption level\": 5, \"metric\": 0.26622107620239266, \"ref\": \"DoC\", \"acc\": 0.6714999675750732, \"error\": 0.32850003242492676, \"subpopulation\": \"same\", \"pretrained\": false}, {\"corruption\": \"frost\", \"corruption level\": 1, \"metric\": 0.16209748382568367, \"ref\": \"DoC\", \"acc\": 0.8315999507904053, \"error\": 0.16840004920959473, \"subpopulation\": \"same\", \"pretrained\": false}, {\"corruption\": \"frost\", \"corruption level\": 2, \"metric\": 0.2056038677215577, \"ref\": \"DoC\", \"acc\": 0.7626000046730042, \"error\": 0.23739999532699585, \"subpopulation\": \"same\", \"pretrained\": false}, {\"corruption\": \"frost\", \"corruption level\": 3, \"metric\": 0.2564955651283265, \"ref\": \"DoC\", \"acc\": 0.6559999585151672, \"error\": 0.34400004148483276, \"subpopulation\": \"same\", \"pretrained\": false}, {\"corruption\": \"frost\", \"corruption level\": 4, \"metric\": 0.26178827877044686, \"ref\": \"DoC\", \"acc\": 0.6373999714851379, \"error\": 0.36260002851486206, \"subpopulation\": \"same\", \"pretrained\": false}, {\"corruption\": \"frost\", \"corruption level\": 5, \"metric\": 0.28824385995864876, \"ref\": \"DoC\", \"acc\": 0.5320999622344971, \"error\": 0.46790003776550293, \"subpopulation\": \"same\", \"pretrained\": false}, {\"corruption\": \"gaussian_blur\", \"corruption level\": 1, \"metric\": 0.11894586677551278, \"ref\": \"DoC\", \"acc\": 0.8783999681472778, \"error\": 0.12160003185272217, \"subpopulation\": \"same\", \"pretrained\": false}, {\"corruption\": \"gaussian_blur\", \"corruption level\": 2, \"metric\": 0.1626450120925904, \"ref\": \"DoC\", \"acc\": 0.8121999502182007, \"error\": 0.18780004978179932, \"subpopulation\": \"same\", \"pretrained\": false}, {\"corruption\": \"gaussian_blur\", \"corruption level\": 3, \"metric\": 0.20985612268447884, \"ref\": \"DoC\", \"acc\": 0.7281999588012695, \"error\": 0.27180004119873047, \"subpopulation\": \"same\", \"pretrained\": false}, {\"corruption\": \"gaussian_blur\", \"corruption level\": 4, \"metric\": 0.25869444007873543, \"ref\": \"DoC\", \"acc\": 0.6218000054359436, \"error\": 0.3781999945640564, \"subpopulation\": \"same\", \"pretrained\": false}, {\"corruption\": \"gaussian_blur\", \"corruption level\": 5, \"metric\": 0.31904265279769906, \"ref\": \"DoC\", \"acc\": 0.4274999797344208, \"error\": 0.5725000202655792, \"subpopulation\": \"same\", \"pretrained\": false}, {\"corruption\": \"gaussian_noise\", \"corruption level\": 1, \"metric\": 0.21200463171005257, \"ref\": \"DoC\", \"acc\": 0.717799961566925, \"error\": 0.28220003843307495, \"subpopulation\": \"same\", \"pretrained\": false}, {\"corruption\": \"gaussian_noise\", \"corruption level\": 2, \"metric\": 0.2622995078086854, \"ref\": \"DoC\", \"acc\": 0.5501999855041504, \"error\": 0.4498000144958496, \"subpopulation\": \"same\", \"pretrained\": false}, {\"corruption\": \"gaussian_noise\", \"corruption level\": 3, \"metric\": 0.27537247533798226, \"ref\": \"DoC\", \"acc\": 0.40869998931884766, \"error\": 0.5913000106811523, \"subpopulation\": \"same\", \"pretrained\": false}, {\"corruption\": \"gaussian_noise\", \"corruption level\": 4, \"metric\": 0.27552995080947884, \"ref\": \"DoC\", \"acc\": 0.34769999980926514, \"error\": 0.6523000001907349, \"subpopulation\": \"same\", \"pretrained\": false}, {\"corruption\": \"gaussian_noise\", \"corruption level\": 5, \"metric\": 0.2683262526512147, \"ref\": \"DoC\", \"acc\": 0.29819998145103455, \"error\": 0.7018000185489655, \"subpopulation\": \"same\", \"pretrained\": false}, {\"corruption\": \"glass_blur\", \"corruption level\": 1, \"metric\": 0.29467049236297616, \"ref\": \"DoC\", \"acc\": 0.41259998083114624, \"error\": 0.5874000191688538, \"subpopulation\": \"same\", \"pretrained\": false}, {\"corruption\": \"glass_blur\", \"corruption level\": 2, \"metric\": 0.3022682368278504, \"ref\": \"DoC\", \"acc\": 0.4373999834060669, \"error\": 0.5626000165939331, \"subpopulation\": \"same\", \"pretrained\": false}, {\"corruption\": \"glass_blur\", \"corruption level\": 3, \"metric\": 0.3092130124092103, \"ref\": \"DoC\", \"acc\": 0.4810999929904938, \"error\": 0.5189000070095062, \"subpopulation\": \"same\", \"pretrained\": false}, {\"corruption\": \"glass_blur\", \"corruption level\": 4, \"metric\": 0.29272219533920296, \"ref\": \"DoC\", \"acc\": 0.3294000029563904, \"error\": 0.6705999970436096, \"subpopulation\": \"same\", \"pretrained\": false}, {\"corruption\": \"glass_blur\", \"corruption level\": 5, \"metric\": 0.3139967023849488, \"ref\": \"DoC\", \"acc\": 0.3637000024318695, \"error\": 0.6362999975681305, \"subpopulation\": \"same\", \"pretrained\": false}, {\"corruption\": \"impulse_noise\", \"corruption level\": 1, \"metric\": 0.20731583232879647, \"ref\": \"DoC\", \"acc\": 0.7578999996185303, \"error\": 0.24210000038146973, \"subpopulation\": \"same\", \"pretrained\": false}, {\"corruption\": \"impulse_noise\", \"corruption level\": 2, \"metric\": 0.2710050045967103, \"ref\": \"DoC\", \"acc\": 0.6467999815940857, \"error\": 0.3532000184059143, \"subpopulation\": \"same\", \"pretrained\": false}, {\"corruption\": \"impulse_noise\", \"corruption level\": 3, \"metric\": 0.3151094018936158, \"ref\": \"DoC\", \"acc\": 0.5465999841690063, \"error\": 0.45340001583099365, \"subpopulation\": \"same\", \"pretrained\": false}, {\"corruption\": \"impulse_noise\", \"corruption level\": 4, \"metric\": 0.35815456504821785, \"ref\": \"DoC\", \"acc\": 0.41349998116493225, \"error\": 0.5865000188350677, \"subpopulation\": \"same\", \"pretrained\": false}, {\"corruption\": \"impulse_noise\", \"corruption level\": 5, \"metric\": 0.37575069065094, \"ref\": \"DoC\", \"acc\": 0.31769999861717224, \"error\": 0.6823000013828278, \"subpopulation\": \"same\", \"pretrained\": false}, {\"corruption\": \"jpeg_compression\", \"corruption level\": 1, \"metric\": 0.17649826402664193, \"ref\": \"DoC\", \"acc\": 0.8007999658584595, \"error\": 0.19920003414154053, \"subpopulation\": \"same\", \"pretrained\": false}, {\"corruption\": \"jpeg_compression\", \"corruption level\": 2, \"metric\": 0.21147480602264412, \"ref\": \"DoC\", \"acc\": 0.7529999613761902, \"error\": 0.24700003862380981, \"subpopulation\": \"same\", \"pretrained\": false}, {\"corruption\": \"jpeg_compression\", \"corruption level\": 3, \"metric\": 0.22341492767333992, \"ref\": \"DoC\", \"acc\": 0.7392999529838562, \"error\": 0.2607000470161438, \"subpopulation\": \"same\", \"pretrained\": false}, {\"corruption\": \"jpeg_compression\", \"corruption level\": 4, \"metric\": 0.23975065345764168, \"ref\": \"DoC\", \"acc\": 0.7220999598503113, \"error\": 0.2779000401496887, \"subpopulation\": \"same\", \"pretrained\": false}, {\"corruption\": \"jpeg_compression\", \"corruption level\": 5, \"metric\": 0.260266870212555, \"ref\": \"DoC\", \"acc\": 0.6917999982833862, \"error\": 0.30820000171661377, \"subpopulation\": \"same\", \"pretrained\": false}, {\"corruption\": \"motion_blur\", \"corruption level\": 1, \"metric\": 0.15570393199920662, \"ref\": \"DoC\", \"acc\": 0.8323999643325806, \"error\": 0.16760003566741943, \"subpopulation\": \"same\", \"pretrained\": false}, {\"corruption\": \"motion_blur\", \"corruption level\": 2, \"metric\": 0.20174184436798104, \"ref\": \"DoC\", \"acc\": 0.7581999897956848, \"error\": 0.24180001020431519, \"subpopulation\": \"same\", \"pretrained\": false}, {\"corruption\": \"motion_blur\", \"corruption level\": 3, \"metric\": 0.24400410051345833, \"ref\": \"DoC\", \"acc\": 0.6747999787330627, \"error\": 0.32520002126693726, \"subpopulation\": \"same\", \"pretrained\": false}, {\"corruption\": \"motion_blur\", \"corruption level\": 4, \"metric\": 0.24356594676971444, \"ref\": \"DoC\", \"acc\": 0.6714999675750732, \"error\": 0.32850003242492676, \"subpopulation\": \"same\", \"pretrained\": false}, {\"corruption\": \"motion_blur\", \"corruption level\": 5, \"metric\": 0.2760178148269654, \"ref\": \"DoC\", \"acc\": 0.593999981880188, \"error\": 0.406000018119812, \"subpopulation\": \"same\", \"pretrained\": false}, {\"corruption\": \"pixelate\", \"corruption level\": 1, \"metric\": 0.14969196910858162, \"ref\": \"DoC\", \"acc\": 0.8514999747276306, \"error\": 0.14850002527236938, \"subpopulation\": \"same\", \"pretrained\": false}, {\"corruption\": \"pixelate\", \"corruption level\": 2, \"metric\": 0.19688752288818367, \"ref\": \"DoC\", \"acc\": 0.7721999883651733, \"error\": 0.22780001163482666, \"subpopulation\": \"same\", \"pretrained\": false}, {\"corruption\": \"pixelate\", \"corruption level\": 3, \"metric\": 0.21706941719055184, \"ref\": \"DoC\", \"acc\": 0.7351999878883362, \"error\": 0.2648000121116638, \"subpopulation\": \"same\", \"pretrained\": false}, {\"corruption\": \"pixelate\", \"corruption level\": 4, \"metric\": 0.2571547924995423, \"ref\": \"DoC\", \"acc\": 0.5631999969482422, \"error\": 0.4368000030517578, \"subpopulation\": \"same\", \"pretrained\": false}, {\"corruption\": \"pixelate\", \"corruption level\": 5, \"metric\": 0.27734383935928353, \"ref\": \"DoC\", \"acc\": 0.36569997668266296, \"error\": 0.634300023317337, \"subpopulation\": \"same\", \"pretrained\": false}, {\"corruption\": \"saturate\", \"corruption level\": 1, \"metric\": 0.1419158875465394, \"ref\": \"DoC\", \"acc\": 0.8587999939918518, \"error\": 0.1412000060081482, \"subpopulation\": \"same\", \"pretrained\": false}, {\"corruption\": \"saturate\", \"corruption level\": 2, \"metric\": 0.16018095607757576, \"ref\": \"DoC\", \"acc\": 0.8366999626159668, \"error\": 0.1633000373840332, \"subpopulation\": \"same\", \"pretrained\": false}, {\"corruption\": \"saturate\", \"corruption level\": 3, \"metric\": 0.12206777925491341, \"ref\": \"DoC\", \"acc\": 0.8747999668121338, \"error\": 0.1252000331878662, \"subpopulation\": \"same\", \"pretrained\": false}, {\"corruption\": \"saturate\", \"corruption level\": 4, \"metric\": 0.14424821729660042, \"ref\": \"DoC\", \"acc\": 0.8537999987602234, \"error\": 0.1462000012397766, \"subpopulation\": \"same\", \"pretrained\": false}, {\"corruption\": \"saturate\", \"corruption level\": 5, \"metric\": 0.17284914846420296, \"ref\": \"DoC\", \"acc\": 0.8202999830245972, \"error\": 0.17970001697540283, \"subpopulation\": \"same\", \"pretrained\": false}, {\"corruption\": \"shot_noise\", \"corruption level\": 1, \"metric\": 0.176635175895691, \"ref\": \"DoC\", \"acc\": 0.7879999876022339, \"error\": 0.2120000123977661, \"subpopulation\": \"same\", \"pretrained\": false}, {\"corruption\": \"shot_noise\", \"corruption level\": 2, \"metric\": 0.21543410415649422, \"ref\": \"DoC\", \"acc\": 0.707099974155426, \"error\": 0.292900025844574, \"subpopulation\": \"same\", \"pretrained\": false}, {\"corruption\": \"shot_noise\", \"corruption level\": 3, \"metric\": 0.2655406295776368, \"ref\": \"DoC\", \"acc\": 0.5174999833106995, \"error\": 0.48250001668930054, \"subpopulation\": \"same\", \"pretrained\": false}, {\"corruption\": \"shot_noise\", \"corruption level\": 4, \"metric\": 0.2749266921997071, \"ref\": \"DoC\", \"acc\": 0.4513999819755554, \"error\": 0.5486000180244446, \"subpopulation\": \"same\", \"pretrained\": false}, {\"corruption\": \"shot_noise\", \"corruption level\": 5, \"metric\": 0.27778682107925423, \"ref\": \"DoC\", \"acc\": 0.3586999773979187, \"error\": 0.6413000226020813, \"subpopulation\": \"same\", \"pretrained\": false}, {\"corruption\": \"snow\", \"corruption level\": 1, \"metric\": 0.1748910843849183, \"ref\": \"DoC\", \"acc\": 0.8109999895095825, \"error\": 0.18900001049041748, \"subpopulation\": \"same\", \"pretrained\": false}, {\"corruption\": \"snow\", \"corruption level\": 2, \"metric\": 0.23653420801162728, \"ref\": \"DoC\", \"acc\": 0.6646999716758728, \"error\": 0.3353000283241272, \"subpopulation\": \"same\", \"pretrained\": false}, {\"corruption\": \"snow\", \"corruption level\": 3, \"metric\": 0.2298309504508973, \"ref\": \"DoC\", \"acc\": 0.7226999998092651, \"error\": 0.27730000019073486, \"subpopulation\": \"same\", \"pretrained\": false}, {\"corruption\": \"snow\", \"corruption level\": 4, \"metric\": 0.24008783693313607, \"ref\": \"DoC\", \"acc\": 0.7030999660491943, \"error\": 0.29690003395080566, \"subpopulation\": \"same\", \"pretrained\": false}, {\"corruption\": \"snow\", \"corruption level\": 5, \"metric\": 0.2619419991493226, \"ref\": \"DoC\", \"acc\": 0.6495000123977661, \"error\": 0.3504999876022339, \"subpopulation\": \"same\", \"pretrained\": false}, {\"corruption\": \"spatter\", \"corruption level\": 1, \"metric\": 0.15814962978363045, \"ref\": \"DoC\", \"acc\": 0.8385999798774719, \"error\": 0.16140002012252808, \"subpopulation\": \"same\", \"pretrained\": false}, {\"corruption\": \"spatter\", \"corruption level\": 2, \"metric\": 0.20981267089843758, \"ref\": \"DoC\", \"acc\": 0.7683999538421631, \"error\": 0.23160004615783691, \"subpopulation\": \"same\", \"pretrained\": false}, {\"corruption\": \"spatter\", \"corruption level\": 3, \"metric\": 0.24623998994827279, \"ref\": \"DoC\", \"acc\": 0.7167999744415283, \"error\": 0.2832000255584717, \"subpopulation\": \"same\", \"pretrained\": false}, {\"corruption\": \"spatter\", \"corruption level\": 4, \"metric\": 0.18826338644027718, \"ref\": \"DoC\", \"acc\": 0.7810999751091003, \"error\": 0.21890002489089966, \"subpopulation\": \"same\", \"pretrained\": false}, {\"corruption\": \"spatter\", \"corruption level\": 5, \"metric\": 0.2388035952568055, \"ref\": \"DoC\", \"acc\": 0.6961999535560608, \"error\": 0.3038000464439392, \"subpopulation\": \"same\", \"pretrained\": false}, {\"corruption\": \"speckle_noise\", \"corruption level\": 1, \"metric\": 0.17583581800460824, \"ref\": \"DoC\", \"acc\": 0.7925999760627747, \"error\": 0.20740002393722534, \"subpopulation\": \"same\", \"pretrained\": false}, {\"corruption\": \"speckle_noise\", \"corruption level\": 2, \"metric\": 0.22648796434402474, \"ref\": \"DoC\", \"acc\": 0.6643999814987183, \"error\": 0.33560001850128174, \"subpopulation\": \"same\", \"pretrained\": false}, {\"corruption\": \"speckle_noise\", \"corruption level\": 3, \"metric\": 0.2468021213531495, \"ref\": \"DoC\", \"acc\": 0.6007999777793884, \"error\": 0.3992000222206116, \"subpopulation\": \"same\", \"pretrained\": false}, {\"corruption\": \"speckle_noise\", \"corruption level\": 4, \"metric\": 0.2743156253814698, \"ref\": \"DoC\", \"acc\": 0.49059998989105225, \"error\": 0.5094000101089478, \"subpopulation\": \"same\", \"pretrained\": false}, {\"corruption\": \"speckle_noise\", \"corruption level\": 5, \"metric\": 0.2871761023521424, \"ref\": \"DoC\", \"acc\": 0.3992999792098999, \"error\": 0.6007000207901001, \"subpopulation\": \"same\", \"pretrained\": false}, {\"corruption\": \"zoom_blur\", \"corruption level\": 1, \"metric\": 0.18176075811386116, \"ref\": \"DoC\", \"acc\": 0.8047999739646912, \"error\": 0.19520002603530884, \"subpopulation\": \"same\", \"pretrained\": false}, {\"corruption\": \"zoom_blur\", \"corruption level\": 2, \"metric\": 0.19600519533157357, \"ref\": \"DoC\", \"acc\": 0.7739999890327454, \"error\": 0.22600001096725464, \"subpopulation\": \"same\", \"pretrained\": false}, {\"corruption\": \"zoom_blur\", \"corruption level\": 3, \"metric\": 0.22556123132705697, \"ref\": \"DoC\", \"acc\": 0.7256999611854553, \"error\": 0.2743000388145447, \"subpopulation\": \"same\", \"pretrained\": false}, {\"corruption\": \"zoom_blur\", \"corruption level\": 4, \"metric\": 0.2488618194580079, \"ref\": \"DoC\", \"acc\": 0.6771000027656555, \"error\": 0.3228999972343445, \"subpopulation\": \"same\", \"pretrained\": false}, {\"corruption\": \"zoom_blur\", \"corruption level\": 5, \"metric\": 0.2856866418838502, \"ref\": \"DoC\", \"acc\": 0.5981999635696411, \"error\": 0.4018000364303589, \"subpopulation\": \"same\", \"pretrained\": false}, {\"corruption\": \"contrast\", \"corruption level\": 1, \"metric\": 0.12537100906372078, \"ref\": \"DoC\", \"acc\": 0.8696999549865723, \"error\": 0.13030004501342773, \"subpopulation\": \"same\", \"pretrained\": false}, {\"corruption\": \"contrast\", \"corruption level\": 2, \"metric\": 0.16661658878326424, \"ref\": \"DoC\", \"acc\": 0.8154999613761902, \"error\": 0.18450003862380981, \"subpopulation\": \"same\", \"pretrained\": false}]}, \"mark\": {\"type\": \"point\", \"filled\": true, \"size\": 50}, \"encoding\": {\"color\": {\"field\": \"ref\", \"type\": \"nominal\"}, \"shape\": {\"field\": \"ref\", \"type\": \"nominal\"}, \"x\": {\"field\": \"metric\", \"type\": \"quantitative\"}, \"y\": {\"field\": \"error\", \"title\": \"Test Error\", \"type\": \"quantitative\"}}, \"height\": 200, \"title\": \"all\", \"width\": 200, \"$schema\": \"https://vega.github.io/schema/vega-lite/v4.17.0.json\"}, {\"mode\": \"vega-lite\"});\n",
       "</script>"
      ],
      "text/plain": [
       "alt.Chart(...)"
      ]
     },
     "execution_count": 11,
     "metadata": {},
     "output_type": "execute_result"
    }
   ],
   "source": [
    "get_corr_chart(results, 'all')"
   ]
  },
  {
   "cell_type": "code",
   "execution_count": 143,
   "id": "f6c96c4f",
   "metadata": {},
   "outputs": [],
   "source": [
    "def polyfit(x, y, degree=1):\n",
    "    results = {}\n",
    "\n",
    "    coeffs = np.polyfit(x, y, degree)\n",
    "\n",
    "    results['polynomial'] = coeffs.tolist()\n",
    "\n",
    "    p = np.poly1d(coeffs)\n",
    "\n",
    "    yhat = p(x)                \n",
    "    ybar = np.sum(y)/len(y)          \n",
    "    ssreg = np.sum((yhat - ybar)**2)   \n",
    "    sstot = np.sum((y - ybar)**2)    \n",
    "    results['determination'] = ssreg / sstot\n",
    "\n",
    "    return results"
   ]
  },
  {
   "cell_type": "code",
   "execution_count": 144,
   "id": "73c59c8d",
   "metadata": {},
   "outputs": [],
   "source": [
    "from scipy.stats import spearmanr\n",
    "import math"
   ]
  },
  {
   "cell_type": "code",
   "execution_count": 145,
   "id": "08834324",
   "metadata": {},
   "outputs": [],
   "source": [
    "def compute_corr_stats(results):\n",
    "    if len(results) == 0:\n",
    "        return\n",
    "    \n",
    "    d = [i['metric'] for i in results]\n",
    "    e = [i['error'] for i in results]\n",
    "    \n",
    "    if len(results) > 1:\n",
    "        print(f'{metric} r2:', polyfit(d, e)['determination'])\n",
    "\n",
    "        coef, p = spearmanr(d, e)\n",
    "        print(f'{metric} rho:', coef)\n",
    "\n",
    "        print(f'{metric} slope:', polyfit(d, e)['polynomial'][0])\n",
    "        print(f'{metric} bias:', polyfit(d, e)['polynomial'][1])\n",
    "\n",
    "    yhat = np.array(d)\n",
    "    y = np.array(e)\n",
    "\n",
    "    print('MAE:', np.abs(yhat - y).mean() * 100)"
   ]
  },
  {
   "cell_type": "code",
   "execution_count": 146,
   "id": "23828d93",
   "metadata": {},
   "outputs": [
    {
     "name": "stdout",
     "output_type": "stream",
     "text": [
      "----- same pop results -----\n",
      "COTT-L1 r2: 0.9937388822276861\n",
      "COTT-L1 rho: 0.9958898534997288\n",
      "COTT-L1 slope: 1.1162806946609638\n",
      "COTT-L1 bias: -0.10397030187054702\n",
      "MAE: 3.0803742515357824\n"
     ]
    }
   ],
   "source": [
    "print(\"----- same pop results -----\")\n",
    "compute_corr_stats(same_pop_results)"
   ]
  },
  {
   "cell_type": "code",
   "execution_count": 147,
   "id": "bf70a29c",
   "metadata": {},
   "outputs": [
    {
     "name": "stdout",
     "output_type": "stream",
     "text": [
      "----- natural pop results -----\n",
      "COTT-L1 r2: 0.9932323050979855\n",
      "COTT-L1 rho: 1.0\n",
      "COTT-L1 slope: 1.1280858521759163\n",
      "COTT-L1 bias: -0.08350273009252131\n",
      "MAE: 2.9845745450258256\n"
     ]
    }
   ],
   "source": [
    "print(\"----- natural pop results -----\")\n",
    "compute_corr_stats(natural_pop_results)"
   ]
  },
  {
   "cell_type": "code",
   "execution_count": 148,
   "id": "05c3ac30",
   "metadata": {},
   "outputs": [
    {
     "name": "stdout",
     "output_type": "stream",
     "text": [
      "----- novel pop results -----\n"
     ]
    }
   ],
   "source": [
    "print(\"----- novel pop results -----\")\n",
    "compute_corr_stats(novel_pop_results)"
   ]
  },
  {
   "cell_type": "code",
   "execution_count": 149,
   "id": "1df2cb59",
   "metadata": {},
   "outputs": [
    {
     "name": "stdout",
     "output_type": "stream",
     "text": [
      "----- novel pop results -----\n"
     ]
    }
   ],
   "source": [
    "print(\"----- novel pop results -----\")\n",
    "compute_corr_stats([i for i in novel_pop_results if i['corruption level'] == 0 ])"
   ]
  },
  {
   "cell_type": "code",
   "execution_count": null,
   "id": "f4599063",
   "metadata": {},
   "outputs": [],
   "source": []
  }
 ],
 "metadata": {
  "kernelspec": {
   "display_name": "ood",
   "language": "python",
   "name": "ood"
  },
  "language_info": {
   "codemirror_mode": {
    "name": "ipython",
    "version": 3
   },
   "file_extension": ".py",
   "mimetype": "text/x-python",
   "name": "python",
   "nbconvert_exporter": "python",
   "pygments_lexer": "ipython3",
   "version": "3.9.13"
  }
 },
 "nbformat": 4,
 "nbformat_minor": 5
}
