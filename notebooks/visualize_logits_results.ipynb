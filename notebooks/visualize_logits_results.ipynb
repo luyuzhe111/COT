{
 "cells": [
  {
   "cell_type": "code",
   "execution_count": 38,
   "id": "c542d51c",
   "metadata": {},
   "outputs": [],
   "source": [
    "import numpy as np\n",
    "import json\n",
    "import glob\n",
    "from functools import reduce"
   ]
  },
  {
   "cell_type": "code",
   "execution_count": 39,
   "id": "1592981c",
   "metadata": {},
   "outputs": [],
   "source": [
    "def load_results(dataset, model, pooling, layer, metric):\n",
    "    if 'wd' in metric:\n",
    "        result_dir = f'../results/{dataset}/{model}/{metric}/{pooling}/{layer}'\n",
    "    else:\n",
    "        result_dir = f'../results/{dataset}/{model}/{metric}'\n",
    "    \n",
    "    result_fs = glob.glob(f'{result_dir}/*.json')\n",
    "    results = []\n",
    "    for file in result_fs:\n",
    "        with open(file, 'r') as f:\n",
    "            data = json.load(f)\n",
    "            print(file, len(data))\n",
    "        results.extend(data)\n",
    "    for r in results:\n",
    "        r['metric'] = r['swd'] if 'wd' in metric else r['metric']\n",
    "    return [i for i in results if i['corruption level'] != 0]"
   ]
  },
  {
   "cell_type": "code",
   "execution_count": 169,
   "id": "13c79cfb",
   "metadata": {},
   "outputs": [
    {
     "name": "stdout",
     "output_type": "stream",
     "text": [
      "../results/CIFAR-100/resnet50/wd/logits/fc/brightness.json 6\n",
      "../results/CIFAR-100/resnet50/wd/logits/fc/defocus_blur.json 6\n",
      "../results/CIFAR-100/resnet50/wd/logits/fc/elastic_transform.json 6\n",
      "../results/CIFAR-100/resnet50/wd/logits/fc/fog.json 6\n",
      "../results/CIFAR-100/resnet50/wd/logits/fc/frost.json 6\n",
      "../results/CIFAR-100/resnet50/wd/logits/fc/gaussian_blur.json 6\n",
      "../results/CIFAR-100/resnet50/wd/logits/fc/gaussian_noise.json 6\n",
      "../results/CIFAR-100/resnet50/wd/logits/fc/glass_blur.json 6\n",
      "../results/CIFAR-100/resnet50/wd/logits/fc/impulse_noise.json 6\n",
      "../results/CIFAR-100/resnet50/wd/logits/fc/jpeg_compression.json 6\n",
      "../results/CIFAR-100/resnet50/wd/logits/fc/motion_blur.json 6\n",
      "../results/CIFAR-100/resnet50/wd/logits/fc/pixelate.json 6\n",
      "../results/CIFAR-100/resnet50/wd/logits/fc/saturate.json 6\n",
      "../results/CIFAR-100/resnet50/wd/logits/fc/shot_noise.json 6\n",
      "../results/CIFAR-100/resnet50/wd/logits/fc/snow.json 6\n",
      "../results/CIFAR-100/resnet50/wd/logits/fc/spatter.json 6\n",
      "../results/CIFAR-100/resnet50/wd/logits/fc/speckle_noise.json 6\n",
      "../results/CIFAR-100/resnet50/wd/logits/fc/zoom_blur.json 6\n",
      "../results/CIFAR-100/resnet50/wd/logits/fc/contrast.json 6\n"
     ]
    }
   ],
   "source": [
    "layers = ['fc']\n",
    "metric = 'wd'\n",
    "dataset = 'CIFAR-100'\n",
    "arch = 'resnet50'\n",
    "logits_results = reduce(lambda x, y: x + y, [load_results(dataset, arch, 'logits', layer, metric) for layer in layers])"
   ]
  },
  {
   "cell_type": "code",
   "execution_count": 170,
   "id": "8b411bf2",
   "metadata": {},
   "outputs": [
    {
     "data": {
      "text/plain": [
       "95"
      ]
     },
     "execution_count": 170,
     "metadata": {},
     "output_type": "execute_result"
    }
   ],
   "source": [
    "len(logits_results)"
   ]
  },
  {
   "cell_type": "code",
   "execution_count": 171,
   "id": "edb585d8",
   "metadata": {},
   "outputs": [],
   "source": [
    "import altair as alt\n",
    "import pandas as pd"
   ]
  },
  {
   "cell_type": "code",
   "execution_count": 172,
   "id": "3c3d3a92",
   "metadata": {},
   "outputs": [
    {
     "data": {
      "text/html": [
       "\n",
       "<div id=\"altair-viz-d54ad8ce789b413db75d83612f2393de\"></div>\n",
       "<script type=\"text/javascript\">\n",
       "  var VEGA_DEBUG = (typeof VEGA_DEBUG == \"undefined\") ? {} : VEGA_DEBUG;\n",
       "  (function(spec, embedOpt){\n",
       "    let outputDiv = document.currentScript.previousElementSibling;\n",
       "    if (outputDiv.id !== \"altair-viz-d54ad8ce789b413db75d83612f2393de\") {\n",
       "      outputDiv = document.getElementById(\"altair-viz-d54ad8ce789b413db75d83612f2393de\");\n",
       "    }\n",
       "    const paths = {\n",
       "      \"vega\": \"https://cdn.jsdelivr.net/npm//vega@5?noext\",\n",
       "      \"vega-lib\": \"https://cdn.jsdelivr.net/npm//vega-lib?noext\",\n",
       "      \"vega-lite\": \"https://cdn.jsdelivr.net/npm//vega-lite@4.17.0?noext\",\n",
       "      \"vega-embed\": \"https://cdn.jsdelivr.net/npm//vega-embed@6?noext\",\n",
       "    };\n",
       "\n",
       "    function maybeLoadScript(lib, version) {\n",
       "      var key = `${lib.replace(\"-\", \"\")}_version`;\n",
       "      return (VEGA_DEBUG[key] == version) ?\n",
       "        Promise.resolve(paths[lib]) :\n",
       "        new Promise(function(resolve, reject) {\n",
       "          var s = document.createElement('script');\n",
       "          document.getElementsByTagName(\"head\")[0].appendChild(s);\n",
       "          s.async = true;\n",
       "          s.onload = () => {\n",
       "            VEGA_DEBUG[key] = version;\n",
       "            return resolve(paths[lib]);\n",
       "          };\n",
       "          s.onerror = () => reject(`Error loading script: ${paths[lib]}`);\n",
       "          s.src = paths[lib];\n",
       "        });\n",
       "    }\n",
       "\n",
       "    function showError(err) {\n",
       "      outputDiv.innerHTML = `<div class=\"error\" style=\"color:red;\">${err}</div>`;\n",
       "      throw err;\n",
       "    }\n",
       "\n",
       "    function displayChart(vegaEmbed) {\n",
       "      vegaEmbed(outputDiv, spec, embedOpt)\n",
       "        .catch(err => showError(`Javascript Error: ${err.message}<br>This usually means there's a typo in your chart specification. See the javascript console for the full traceback.`));\n",
       "    }\n",
       "\n",
       "    if(typeof define === \"function\" && define.amd) {\n",
       "      requirejs.config({paths});\n",
       "      require([\"vega-embed\"], displayChart, err => showError(`Error loading script: ${err.message}`));\n",
       "    } else {\n",
       "      maybeLoadScript(\"vega\", \"5\")\n",
       "        .then(() => maybeLoadScript(\"vega-lite\", \"4.17.0\"))\n",
       "        .then(() => maybeLoadScript(\"vega-embed\", \"6\"))\n",
       "        .catch(showError)\n",
       "        .then(() => displayChart(vegaEmbed));\n",
       "    }\n",
       "  })({\"config\": {\"view\": {\"continuousWidth\": 400, \"continuousHeight\": 300}}, \"data\": {\"values\": [{\"corruption\": \"brightness\", \"corruption level\": 1, \"swd\": 5.394851207733154, \"acc\": 0.8137999773025513, \"error\": 0.18620002269744873, \"metric\": 5.394851207733154}, {\"corruption\": \"brightness\", \"corruption level\": 2, \"swd\": 17.43877410888672, \"acc\": 0.8003000020980835, \"error\": 0.1996999979019165, \"metric\": 17.43877410888672}, {\"corruption\": \"brightness\", \"corruption level\": 3, \"swd\": 34.16279602050781, \"acc\": 0.7839999794960022, \"error\": 0.2160000205039978, \"metric\": 34.16279602050781}, {\"corruption\": \"brightness\", \"corruption level\": 4, \"swd\": 54.73470687866211, \"acc\": 0.7559999823570251, \"error\": 0.24400001764297485, \"metric\": 54.73470687866211}, {\"corruption\": \"brightness\", \"corruption level\": 5, \"swd\": 102.06369018554688, \"acc\": 0.6887999773025513, \"error\": 0.31120002269744873, \"metric\": 102.06369018554688}, {\"corruption\": \"defocus_blur\", \"corruption level\": 1, \"swd\": 5.374982833862305, \"acc\": 0.8120999932289124, \"error\": 0.18790000677108765, \"metric\": 5.374982833862305}, {\"corruption\": \"defocus_blur\", \"corruption level\": 2, \"swd\": 29.83588981628418, \"acc\": 0.7839999794960022, \"error\": 0.2160000205039978, \"metric\": 29.83588981628418}, {\"corruption\": \"defocus_blur\", \"corruption level\": 3, \"swd\": 70.69603729248047, \"acc\": 0.7321000099182129, \"error\": 0.2678999900817871, \"metric\": 70.69603729248047}, {\"corruption\": \"defocus_blur\", \"corruption level\": 4, \"swd\": 119.28416442871094, \"acc\": 0.6376000046730042, \"error\": 0.36239999532699585, \"metric\": 119.28416442871094}, {\"corruption\": \"defocus_blur\", \"corruption level\": 5, \"swd\": 202.8369903564453, \"acc\": 0.47039997577667236, \"error\": 0.5296000242233276, \"metric\": 202.8369903564453}, {\"corruption\": \"elastic_transform\", \"corruption level\": 1, \"swd\": 74.93003845214844, \"acc\": 0.7282999753952026, \"error\": 0.27170002460479736, \"metric\": 74.93003845214844}, {\"corruption\": \"elastic_transform\", \"corruption level\": 2, \"swd\": 76.3503189086914, \"acc\": 0.7319999933242798, \"error\": 0.2680000066757202, \"metric\": 76.3503189086914}, {\"corruption\": \"elastic_transform\", \"corruption level\": 3, \"swd\": 103.9797134399414, \"acc\": 0.6740999817848206, \"error\": 0.32590001821517944, \"metric\": 103.9797134399414}, {\"corruption\": \"elastic_transform\", \"corruption level\": 4, \"swd\": 172.01060485839844, \"acc\": 0.5130999684333801, \"error\": 0.4869000315666199, \"metric\": 172.01060485839844}, {\"corruption\": \"elastic_transform\", \"corruption level\": 5, \"swd\": 239.15487670898438, \"acc\": 0.37219998240470886, \"error\": 0.6278000175952911, \"metric\": 239.15487670898438}, {\"corruption\": \"fog\", \"corruption level\": 1, \"swd\": 12.820646286010742, \"acc\": 0.808899998664856, \"error\": 0.19110000133514404, \"metric\": 12.820646286010742}, {\"corruption\": \"fog\", \"corruption level\": 2, \"swd\": 44.90129089355469, \"acc\": 0.7791000008583069, \"error\": 0.22089999914169312, \"metric\": 44.90129089355469}, {\"corruption\": \"fog\", \"corruption level\": 3, \"swd\": 77.88309478759766, \"acc\": 0.7369999885559082, \"error\": 0.2630000114440918, \"metric\": 77.88309478759766}, {\"corruption\": \"fog\", \"corruption level\": 4, \"swd\": 116.3675765991211, \"acc\": 0.6678999662399292, \"error\": 0.3321000337600708, \"metric\": 116.3675765991211}, {\"corruption\": \"fog\", \"corruption level\": 5, \"swd\": 207.13792419433594, \"acc\": 0.484499990940094, \"error\": 0.515500009059906, \"metric\": 207.13792419433594}, {\"corruption\": \"frost\", \"corruption level\": 1, \"swd\": 68.14774322509766, \"acc\": 0.7361999750137329, \"error\": 0.2638000249862671, \"metric\": 68.14774322509766}, {\"corruption\": \"frost\", \"corruption level\": 2, \"swd\": 111.111328125, \"acc\": 0.6585999727249146, \"error\": 0.34140002727508545, \"metric\": 111.111328125}, {\"corruption\": \"frost\", \"corruption level\": 3, \"swd\": 158.9765167236328, \"acc\": 0.5584999918937683, \"error\": 0.4415000081062317, \"metric\": 158.9765167236328}, {\"corruption\": \"frost\", \"corruption level\": 4, \"swd\": 165.4117431640625, \"acc\": 0.5566999912261963, \"error\": 0.4433000087738037, \"metric\": 165.4117431640625}, {\"corruption\": \"frost\", \"corruption level\": 5, \"swd\": 207.295654296875, \"acc\": 0.4714999794960022, \"error\": 0.5285000205039978, \"metric\": 207.295654296875}, {\"corruption\": \"gaussian_blur\", \"corruption level\": 1, \"swd\": 5.320926666259766, \"acc\": 0.8112999796867371, \"error\": 0.18870002031326294, \"metric\": 5.320926666259766}, {\"corruption\": \"gaussian_blur\", \"corruption level\": 2, \"swd\": 71.40481567382812, \"acc\": 0.7318999767303467, \"error\": 0.2681000232696533, \"metric\": 71.40481567382812}, {\"corruption\": \"gaussian_blur\", \"corruption level\": 3, \"swd\": 113.62388610839844, \"acc\": 0.6553999781608582, \"error\": 0.34460002183914185, \"metric\": 113.62388610839844}, {\"corruption\": \"gaussian_blur\", \"corruption level\": 4, \"swd\": 152.96221923828125, \"acc\": 0.5792999863624573, \"error\": 0.4207000136375427, \"metric\": 152.96221923828125}, {\"corruption\": \"gaussian_blur\", \"corruption level\": 5, \"swd\": 234.0660858154297, \"acc\": 0.423799991607666, \"error\": 0.576200008392334, \"metric\": 234.0660858154297}, {\"corruption\": \"gaussian_noise\", \"corruption level\": 1, \"swd\": 200.58892822265625, \"acc\": 0.5033000111579895, \"error\": 0.4966999888420105, \"metric\": 200.58892822265625}, {\"corruption\": \"gaussian_noise\", \"corruption level\": 2, \"swd\": 316.91033935546875, \"acc\": 0.3190999925136566, \"error\": 0.6809000074863434, \"metric\": 316.91033935546875}, {\"corruption\": \"gaussian_noise\", \"corruption level\": 3, \"swd\": 427.53857421875, \"acc\": 0.20409999787807465, \"error\": 0.7959000021219254, \"metric\": 427.53857421875}, {\"corruption\": \"gaussian_noise\", \"corruption level\": 4, \"swd\": 478.05712890625, \"acc\": 0.16459999978542328, \"error\": 0.8354000002145767, \"metric\": 478.05712890625}, {\"corruption\": \"gaussian_noise\", \"corruption level\": 5, \"swd\": 524.5029296875, \"acc\": 0.13249999284744263, \"error\": 0.8675000071525574, \"metric\": 524.5029296875}, {\"corruption\": \"glass_blur\", \"corruption level\": 1, \"swd\": 339.7427673339844, \"acc\": 0.2782000005245209, \"error\": 0.7217999994754791, \"metric\": 339.7427673339844}, {\"corruption\": \"glass_blur\", \"corruption level\": 2, \"swd\": 343.1590576171875, \"acc\": 0.2721000015735626, \"error\": 0.7278999984264374, \"metric\": 343.1590576171875}, {\"corruption\": \"glass_blur\", \"corruption level\": 3, \"swd\": 341.2635498046875, \"acc\": 0.2830999791622162, \"error\": 0.7169000208377838, \"metric\": 341.2635498046875}, {\"corruption\": \"glass_blur\", \"corruption level\": 4, \"swd\": 432.1599426269531, \"acc\": 0.1664000004529953, \"error\": 0.8335999995470047, \"metric\": 432.1599426269531}, {\"corruption\": \"glass_blur\", \"corruption level\": 5, \"swd\": 426.9429931640625, \"acc\": 0.17440000176429749, \"error\": 0.8255999982357025, \"metric\": 426.9429931640625}, {\"corruption\": \"impulse_noise\", \"corruption level\": 1, \"swd\": 170.4474334716797, \"acc\": 0.6057999730110168, \"error\": 0.39420002698898315, \"metric\": 170.4474334716797}, {\"corruption\": \"impulse_noise\", \"corruption level\": 2, \"swd\": 287.095703125, \"acc\": 0.41040000319480896, \"error\": 0.589599996805191, \"metric\": 287.095703125}, {\"corruption\": \"impulse_noise\", \"corruption level\": 3, \"swd\": 377.9114074707031, \"acc\": 0.2830999791622162, \"error\": 0.7169000208377838, \"metric\": 377.9114074707031}, {\"corruption\": \"impulse_noise\", \"corruption level\": 4, \"swd\": 510.0370788574219, \"acc\": 0.14739999175071716, \"error\": 0.8526000082492828, \"metric\": 510.0370788574219}, {\"corruption\": \"impulse_noise\", \"corruption level\": 5, \"swd\": 589.1138305664062, \"acc\": 0.09259999543428421, \"error\": 0.9074000045657158, \"metric\": 589.1138305664062}, {\"corruption\": \"jpeg_compression\", \"corruption level\": 1, \"swd\": 139.78683471679688, \"acc\": 0.5879999995231628, \"error\": 0.41200000047683716, \"metric\": 139.78683471679688}, {\"corruption\": \"jpeg_compression\", \"corruption level\": 2, \"swd\": 176.4000244140625, \"acc\": 0.4818999767303467, \"error\": 0.5181000232696533, \"metric\": 176.4000244140625}, {\"corruption\": \"jpeg_compression\", \"corruption level\": 3, \"swd\": 189.12864685058594, \"acc\": 0.4448999762535095, \"error\": 0.5551000237464905, \"metric\": 189.12864685058594}, {\"corruption\": \"jpeg_compression\", \"corruption level\": 4, \"swd\": 202.4126434326172, \"acc\": 0.3982999920845032, \"error\": 0.6017000079154968, \"metric\": 202.4126434326172}, {\"corruption\": \"jpeg_compression\", \"corruption level\": 5, \"swd\": 223.4019012451172, \"acc\": 0.34299999475479126, \"error\": 0.6570000052452087, \"metric\": 223.4019012451172}, {\"corruption\": \"motion_blur\", \"corruption level\": 1, \"swd\": 66.42061614990234, \"acc\": 0.7393999695777893, \"error\": 0.2606000304222107, \"metric\": 66.42061614990234}, {\"corruption\": \"motion_blur\", \"corruption level\": 2, \"swd\": 114.0774154663086, \"acc\": 0.6507999897003174, \"error\": 0.3492000102996826, \"metric\": 114.0774154663086}, {\"corruption\": \"motion_blur\", \"corruption level\": 3, \"swd\": 159.11244201660156, \"acc\": 0.5426999926567078, \"error\": 0.45730000734329224, \"metric\": 159.11244201660156}, {\"corruption\": \"motion_blur\", \"corruption level\": 4, \"swd\": 159.05812072753906, \"acc\": 0.5584999918937683, \"error\": 0.4415000081062317, \"metric\": 159.05812072753906}, {\"corruption\": \"motion_blur\", \"corruption level\": 5, \"swd\": 198.80471801757812, \"acc\": 0.4603999853134155, \"error\": 0.5396000146865845, \"metric\": 198.80471801757812}, {\"corruption\": \"pixelate\", \"corruption level\": 1, \"swd\": 63.020565032958984, \"acc\": 0.748199999332428, \"error\": 0.251800000667572, \"metric\": 63.020565032958984}, {\"corruption\": \"pixelate\", \"corruption level\": 2, \"swd\": 160.87278747558594, \"acc\": 0.6200000047683716, \"error\": 0.3799999952316284, \"metric\": 160.87278747558594}, {\"corruption\": \"pixelate\", \"corruption level\": 3, \"swd\": 225.2125701904297, \"acc\": 0.5303999781608582, \"error\": 0.46960002183914185, \"metric\": 225.2125701904297}, {\"corruption\": \"pixelate\", \"corruption level\": 4, \"swd\": 417.9288024902344, \"acc\": 0.29589998722076416, \"error\": 0.7041000127792358, \"metric\": 417.9288024902344}, {\"corruption\": \"pixelate\", \"corruption level\": 5, \"swd\": 551.03662109375, \"acc\": 0.16030000150203705, \"error\": 0.839699998497963, \"metric\": 551.03662109375}, {\"corruption\": \"saturate\", \"corruption level\": 1, \"swd\": 98.20948791503906, \"acc\": 0.6924999952316284, \"error\": 0.3075000047683716, \"metric\": 98.20948791503906}, {\"corruption\": \"saturate\", \"corruption level\": 2, \"swd\": 143.0477752685547, \"acc\": 0.6044999957084656, \"error\": 0.3955000042915344, \"metric\": 143.0477752685547}, {\"corruption\": \"saturate\", \"corruption level\": 3, \"swd\": 27.53168296813965, \"acc\": 0.7922999858856201, \"error\": 0.20770001411437988, \"metric\": 27.53168296813965}, {\"corruption\": \"saturate\", \"corruption level\": 4, \"swd\": 98.26359558105469, \"acc\": 0.7087000012397766, \"error\": 0.2912999987602234, \"metric\": 98.26359558105469}, {\"corruption\": \"saturate\", \"corruption level\": 5, \"swd\": 159.17562866210938, \"acc\": 0.6168999671936035, \"error\": 0.3831000328063965, \"metric\": 159.17562866210938}, {\"corruption\": \"shot_noise\", \"corruption level\": 1, \"swd\": 144.30955505371094, \"acc\": 0.6049999594688416, \"error\": 0.39500004053115845, \"metric\": 144.30955505371094}, {\"corruption\": \"shot_noise\", \"corruption level\": 2, \"swd\": 213.5487823486328, \"acc\": 0.4796999990940094, \"error\": 0.5203000009059906, \"metric\": 213.5487823486328}, {\"corruption\": \"shot_noise\", \"corruption level\": 3, \"swd\": 342.63507080078125, \"acc\": 0.27559998631477356, \"error\": 0.7244000136852264, \"metric\": 342.63507080078125}, {\"corruption\": \"shot_noise\", \"corruption level\": 4, \"swd\": 393.4931640625, \"acc\": 0.22129999101161957, \"error\": 0.7787000089883804, \"metric\": 393.4931640625}, {\"corruption\": \"shot_noise\", \"corruption level\": 5, \"swd\": 471.56329345703125, \"acc\": 0.15889999270439148, \"error\": 0.8411000072956085, \"metric\": 471.56329345703125}, {\"corruption\": \"snow\", \"corruption level\": 1, \"swd\": 56.7061767578125, \"acc\": 0.7513999938964844, \"error\": 0.24860000610351562, \"metric\": 56.7061767578125}, {\"corruption\": \"snow\", \"corruption level\": 2, \"swd\": 120.30673217773438, \"acc\": 0.6227999925613403, \"error\": 0.37720000743865967, \"metric\": 120.30673217773438}, {\"corruption\": \"snow\", \"corruption level\": 3, \"swd\": 107.58853149414062, \"acc\": 0.6489999890327454, \"error\": 0.35100001096725464, \"metric\": 107.58853149414062}, {\"corruption\": \"snow\", \"corruption level\": 4, \"swd\": 123.75106048583984, \"acc\": 0.6078999638557434, \"error\": 0.3921000361442566, \"metric\": 123.75106048583984}, {\"corruption\": \"snow\", \"corruption level\": 5, \"swd\": 156.69798278808594, \"acc\": 0.5242999792098999, \"error\": 0.4757000207901001, \"metric\": 156.69798278808594}, {\"corruption\": \"spatter\", \"corruption level\": 1, \"swd\": 33.806182861328125, \"acc\": 0.7872999906539917, \"error\": 0.2127000093460083, \"metric\": 33.806182861328125}, {\"corruption\": \"spatter\", \"corruption level\": 2, \"swd\": 70.98802185058594, \"acc\": 0.7342000007629395, \"error\": 0.26579999923706055, \"metric\": 70.98802185058594}, {\"corruption\": \"spatter\", \"corruption level\": 3, \"swd\": 107.5075454711914, \"acc\": 0.6513000130653381, \"error\": 0.34869998693466187, \"metric\": 107.5075454711914}, {\"corruption\": \"spatter\", \"corruption level\": 4, \"swd\": 73.70799255371094, \"acc\": 0.7324999570846558, \"error\": 0.26750004291534424, \"metric\": 73.70799255371094}, {\"corruption\": \"spatter\", \"corruption level\": 5, \"swd\": 127.57577514648438, \"acc\": 0.6505999565124512, \"error\": 0.34940004348754883, \"metric\": 127.57577514648438}, {\"corruption\": \"speckle_noise\", \"corruption level\": 1, \"swd\": 137.3870849609375, \"acc\": 0.6162999868392944, \"error\": 0.38370001316070557, \"metric\": 137.3870849609375}, {\"corruption\": \"speckle_noise\", \"corruption level\": 2, \"swd\": 237.24534606933594, \"acc\": 0.4307999908924103, \"error\": 0.5692000091075897, \"metric\": 237.24534606933594}, {\"corruption\": \"speckle_noise\", \"corruption level\": 3, \"swd\": 279.474365234375, \"acc\": 0.3577999770641327, \"error\": 0.6422000229358673, \"metric\": 279.474365234375}, {\"corruption\": \"speckle_noise\", \"corruption level\": 4, \"swd\": 358.33782958984375, \"acc\": 0.2505999803543091, \"error\": 0.7494000196456909, \"metric\": 358.33782958984375}, {\"corruption\": \"speckle_noise\", \"corruption level\": 5, \"swd\": 428.27703857421875, \"acc\": 0.1768999993801117, \"error\": 0.8231000006198883, \"metric\": 428.27703857421875}, {\"corruption\": \"zoom_blur\", \"corruption level\": 1, \"swd\": 79.81916046142578, \"acc\": 0.7134000062942505, \"error\": 0.2865999937057495, \"metric\": 79.81916046142578}, {\"corruption\": \"zoom_blur\", \"corruption level\": 2, \"swd\": 90.69482421875, \"acc\": 0.7002999782562256, \"error\": 0.2997000217437744, \"metric\": 90.69482421875}, {\"corruption\": \"zoom_blur\", \"corruption level\": 3, \"swd\": 114.83736419677734, \"acc\": 0.6539999842643738, \"error\": 0.3460000157356262, \"metric\": 114.83736419677734}, {\"corruption\": \"zoom_blur\", \"corruption level\": 4, \"swd\": 138.87020874023438, \"acc\": 0.6128000020980835, \"error\": 0.3871999979019165, \"metric\": 138.87020874023438}, {\"corruption\": \"zoom_blur\", \"corruption level\": 5, \"swd\": 174.85218811035156, \"acc\": 0.5432000160217285, \"error\": 0.4567999839782715, \"metric\": 174.85218811035156}, {\"corruption\": \"contrast\", \"corruption level\": 1, \"swd\": 16.169710159301758, \"acc\": 0.802299976348877, \"error\": 0.19770002365112305, \"metric\": 16.169710159301758}, {\"corruption\": \"contrast\", \"corruption level\": 2, \"swd\": 68.64753723144531, \"acc\": 0.7450000047683716, \"error\": 0.2549999952316284, \"metric\": 68.64753723144531}, {\"corruption\": \"contrast\", \"corruption level\": 3, \"swd\": 108.48721313476562, \"acc\": 0.6864999532699585, \"error\": 0.3135000467300415, \"metric\": 108.48721313476562}, {\"corruption\": \"contrast\", \"corruption level\": 4, \"swd\": 169.15036010742188, \"acc\": 0.5913000106811523, \"error\": 0.40869998931884766, \"metric\": 169.15036010742188}, {\"corruption\": \"contrast\", \"corruption level\": 5, \"swd\": 364.38812255859375, \"acc\": 0.28929999470710754, \"error\": 0.7107000052928925, \"metric\": 364.38812255859375}]}, \"mark\": \"point\", \"encoding\": {\"color\": {\"field\": \"corruption\", \"scale\": {\"scheme\": \"category20\"}, \"type\": \"nominal\"}, \"shape\": {\"field\": \"corruption level\", \"type\": \"ordinal\"}, \"x\": {\"field\": \"metric\", \"title\": \"FOT\", \"type\": \"quantitative\"}, \"y\": {\"field\": \"error\", \"type\": \"quantitative\"}}, \"height\": 200, \"width\": 250, \"$schema\": \"https://vega.github.io/schema/vega-lite/v4.17.0.json\"}, {\"mode\": \"vega-lite\"});\n",
       "</script>"
      ],
      "text/plain": [
       "alt.Chart(...)"
      ]
     },
     "execution_count": 172,
     "metadata": {},
     "output_type": "execute_result"
    }
   ],
   "source": [
    "alt.Chart(alt.Data(values=logits_results)).mark_point().encode(\n",
    "    x=alt.X('metric:Q',title='FOT'), \n",
    "    y='error:Q',\n",
    "    color=alt.Color('corruption:N', scale=alt.Scale(scheme='category20')),\n",
    "    shape='corruption level:O'\n",
    ").properties(\n",
    "    width=250,\n",
    "    height=200\n",
    ")"
   ]
  },
  {
   "cell_type": "code",
   "execution_count": 132,
   "id": "f6c96c4f",
   "metadata": {},
   "outputs": [],
   "source": [
    "def polyfit(x, y, degree=1):\n",
    "    results = {}\n",
    "\n",
    "    coeffs = np.polyfit(x, y, degree)\n",
    "\n",
    "    results['polynomial'] = coeffs.tolist()\n",
    "\n",
    "    p = np.poly1d(coeffs)\n",
    "\n",
    "    yhat = p(x)                \n",
    "    ybar = np.sum(y)/len(y)          \n",
    "    ssreg = np.sum((yhat - ybar)**2)   \n",
    "    sstot = np.sum((y - ybar)**2)    \n",
    "    results['determination'] = ssreg / sstot\n",
    "\n",
    "    return results"
   ]
  },
  {
   "cell_type": "code",
   "execution_count": 30,
   "id": "73c59c8d",
   "metadata": {},
   "outputs": [],
   "source": [
    "from scipy.stats import spearmanr\n",
    "import math"
   ]
  },
  {
   "cell_type": "code",
   "execution_count": 31,
   "id": "08834324",
   "metadata": {},
   "outputs": [
    {
     "name": "stdout",
     "output_type": "stream",
     "text": [
      "projnorm_500 r2: 0.9139362369366588\n",
      "projnorm_500 rho: 0.9733431807331023\n"
     ]
    }
   ],
   "source": [
    "d = [i['metric'] for i in logits_results if not math.isnan(i['metric'])]\n",
    "e = [i['error'] for i in logits_results if not math.isnan(i['metric'])]\n",
    "print(f'{metric} r2:', polyfit(d, e)['determination'])\n",
    "\n",
    "coef, p = spearmanr(d, e)\n",
    "print(f'{metric} rho:', coef)"
   ]
  },
  {
   "cell_type": "code",
   "execution_count": null,
   "id": "519fa69a",
   "metadata": {},
   "outputs": [],
   "source": []
  }
 ],
 "metadata": {
  "kernelspec": {
   "display_name": "ood",
   "language": "python",
   "name": "ood"
  },
  "language_info": {
   "codemirror_mode": {
    "name": "ipython",
    "version": 3
   },
   "file_extension": ".py",
   "mimetype": "text/x-python",
   "name": "python",
   "nbconvert_exporter": "python",
   "pygments_lexer": "ipython3",
   "version": "3.9.13"
  }
 },
 "nbformat": 4,
 "nbformat_minor": 5
}
