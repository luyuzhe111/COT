{
 "cells": [
  {
   "cell_type": "code",
   "execution_count": null,
   "id": "c542d51c",
   "metadata": {},
   "outputs": [],
   "source": [
    "import numpy as np\n",
    "import json\n",
    "import glob\n",
    "from functools import reduce"
   ]
  },
  {
   "cell_type": "code",
   "execution_count": null,
   "id": "1592981c",
   "metadata": {},
   "outputs": [],
   "source": [
    "def load_results(dataset, model, metric, n_sample, seed):\n",
    "    result_dir = f'../results/{dataset}/{model}_{seed}/{metric}_{n_sample}'\n",
    "      \n",
    "    result_fs = glob.glob(f'{result_dir}/*.json')\n",
    "    results = []\n",
    "    for file in result_fs:\n",
    "        with open(file, 'r') as f:\n",
    "            data = json.load(f)\n",
    "            print(file, len(data))\n",
    "        results.extend(data)\n",
    "\n",
    "    return results"
   ]
  },
  {
   "cell_type": "code",
   "execution_count": null,
   "id": "13c79cfb",
   "metadata": {},
   "outputs": [],
   "source": [
    "metric = 'wd'\n",
    "dataset = 'CIFAR-10'\n",
    "arch = 'resnet18'\n",
    "n_sample = 10000\n",
    "seed = '1_15'\n",
    "logits_results = load_results(dataset, arch, metric, n_sample, seed)"
   ]
  },
  {
   "cell_type": "code",
   "execution_count": null,
   "id": "a89bac66",
   "metadata": {},
   "outputs": [],
   "source": [
    "len(logits_results)"
   ]
  },
  {
   "cell_type": "code",
   "execution_count": null,
   "id": "3957537c",
   "metadata": {},
   "outputs": [],
   "source": [
    "import math"
   ]
  },
  {
   "cell_type": "code",
   "execution_count": null,
   "id": "edb585d8",
   "metadata": {},
   "outputs": [],
   "source": [
    "import altair as alt\n",
    "import pandas as pd"
   ]
  },
  {
   "cell_type": "code",
   "execution_count": null,
   "id": "3c3d3a92",
   "metadata": {},
   "outputs": [],
   "source": [
    "alt.Chart(alt.Data(values=logits_results)).mark_point().encode(\n",
    "    x=alt.X('metric:Q', title=metric),\n",
    "    y='error:Q',\n",
    "    color=alt.Color('corruption:N', scale=alt.Scale(scheme='category20')),\n",
    "    shape='corruption level:O'\n",
    ").properties(\n",
    "    width=250,\n",
    "    height=200\n",
    ")"
   ]
  },
  {
   "cell_type": "code",
   "execution_count": null,
   "id": "f6c96c4f",
   "metadata": {},
   "outputs": [],
   "source": [
    "def polyfit(x, y, degree=1):\n",
    "    results = {}\n",
    "\n",
    "    coeffs = np.polyfit(x, y, degree)\n",
    "\n",
    "    results['polynomial'] = coeffs.tolist()\n",
    "\n",
    "    p = np.poly1d(coeffs)\n",
    "\n",
    "    yhat = p(x)                \n",
    "    ybar = np.sum(y)/len(y)          \n",
    "    ssreg = np.sum((yhat - ybar)**2)   \n",
    "    sstot = np.sum((y - ybar)**2)    \n",
    "    results['determination'] = ssreg / sstot\n",
    "\n",
    "    return results"
   ]
  },
  {
   "cell_type": "code",
   "execution_count": null,
   "id": "73c59c8d",
   "metadata": {},
   "outputs": [],
   "source": [
    "from scipy.stats import spearmanr\n",
    "import math"
   ]
  },
  {
   "cell_type": "code",
   "execution_count": null,
   "id": "08834324",
   "metadata": {},
   "outputs": [],
   "source": [
    "d = [i['metric'] for i in logits_results if not math.isnan(i['metric'])]\n",
    "e = [i['error'] for i in logits_results if not math.isnan(i['metric'])]\n",
    "print(f'{metric} r2:', polyfit(d, e)['determination'])\n",
    "\n",
    "coef, p = spearmanr(d, e)\n",
    "print(f'{metric} rho:', coef)"
   ]
  },
  {
   "cell_type": "code",
   "execution_count": null,
   "id": "414be895",
   "metadata": {},
   "outputs": [],
   "source": [
    "print('slope:', polyfit(d, e)['polynomial'][0])\n",
    "print('bias:', polyfit(d, e)['polynomial'][1])"
   ]
  },
  {
   "cell_type": "code",
   "execution_count": null,
   "id": "2d9e6a97",
   "metadata": {},
   "outputs": [],
   "source": []
  }
 ],
 "metadata": {
  "kernelspec": {
   "display_name": "ood",
   "language": "python",
   "name": "ood"
  },
  "language_info": {
   "codemirror_mode": {
    "name": "ipython",
    "version": 3
   },
   "file_extension": ".py",
   "mimetype": "text/x-python",
   "name": "python",
   "nbconvert_exporter": "python",
   "pygments_lexer": "ipython3",
   "version": "3.9.13"
  }
 },
 "nbformat": 4,
 "nbformat_minor": 5
}
