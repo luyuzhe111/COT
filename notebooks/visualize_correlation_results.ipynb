{
 "cells": [
  {
   "cell_type": "code",
   "execution_count": 174,
   "id": "c542d51c",
   "metadata": {},
   "outputs": [],
   "source": [
    "import numpy as np\n",
    "import math\n",
    "import json\n",
    "import glob\n",
    "from functools import reduce"
   ]
  },
  {
   "cell_type": "code",
   "execution_count": 332,
   "id": "1592981c",
   "metadata": {},
   "outputs": [],
   "source": [
    "def load_results(dataset, model, metric, ref, n_sample, seed):\n",
    "    result_dir = f'../results/{dataset}/{model}_{seed}/{metric}_{ref}_{n_sample}'\n",
    "      \n",
    "    result_fs = glob.glob(f'{result_dir}/*.json')\n",
    "    results = []\n",
    "    for file in result_fs:\n",
    "        with open(file, 'r') as f:\n",
    "            data = json.load(f)\n",
    "            print(file, len(data))\n",
    "        results.extend(data)\n",
    "        \n",
    "    return results"
   ]
  },
  {
   "cell_type": "code",
   "execution_count": 577,
   "id": "13c79cfb",
   "metadata": {},
   "outputs": [
    {
     "name": "stdout",
     "output_type": "stream",
     "text": [
      "../results/CIFAR-100/resnet18_1/EMD_val_10000/clean.json 1\n",
      "../results/CIFAR-100/resnet18_1/EMD_val_10000/brightness.json 5\n",
      "../results/CIFAR-100/resnet18_1/EMD_val_10000/defocus_blur.json 5\n",
      "../results/CIFAR-100/resnet18_1/EMD_val_10000/elastic_transform.json 5\n",
      "../results/CIFAR-100/resnet18_1/EMD_val_10000/fog.json 5\n",
      "../results/CIFAR-100/resnet18_1/EMD_val_10000/frost.json 5\n",
      "../results/CIFAR-100/resnet18_1/EMD_val_10000/gaussian_blur.json 5\n",
      "../results/CIFAR-100/resnet18_1/EMD_val_10000/gaussian_noise.json 5\n",
      "../results/CIFAR-100/resnet18_1/EMD_val_10000/glass_blur.json 5\n",
      "../results/CIFAR-100/resnet18_1/EMD_val_10000/impulse_noise.json 5\n",
      "../results/CIFAR-100/resnet18_1/EMD_val_10000/jpeg_compression.json 5\n",
      "../results/CIFAR-100/resnet18_1/EMD_val_10000/motion_blur.json 5\n",
      "../results/CIFAR-100/resnet18_1/EMD_val_10000/pixelate.json 5\n",
      "../results/CIFAR-100/resnet18_1/EMD_val_10000/saturate.json 5\n",
      "../results/CIFAR-100/resnet18_1/EMD_val_10000/shot_noise.json 4\n"
     ]
    }
   ],
   "source": [
    "metric = 'EMD'\n",
    "dataset = 'CIFAR-100'\n",
    "arch = 'resnet18'\n",
    "n_sample = 10000\n",
    "ref = 'val'\n",
    "seed = '1'\n",
    "logits_results = load_results(dataset, arch, metric, ref, n_sample, seed)"
   ]
  },
  {
   "cell_type": "code",
   "execution_count": 578,
   "id": "6aff3241",
   "metadata": {},
   "outputs": [
    {
     "data": {
      "text/plain": [
       "70"
      ]
     },
     "execution_count": 578,
     "metadata": {},
     "output_type": "execute_result"
    }
   ],
   "source": [
    "len(logits_results)"
   ]
  },
  {
   "cell_type": "code",
   "execution_count": 579,
   "id": "edb585d8",
   "metadata": {},
   "outputs": [],
   "source": [
    "import altair as alt\n",
    "import pandas as pd"
   ]
  },
  {
   "cell_type": "code",
   "execution_count": 580,
   "id": "3c3d3a92",
   "metadata": {},
   "outputs": [
    {
     "data": {
      "text/html": [
       "\n",
       "<div id=\"altair-viz-ebdf118edbad41dcb08306a6d0ac7f04\"></div>\n",
       "<script type=\"text/javascript\">\n",
       "  var VEGA_DEBUG = (typeof VEGA_DEBUG == \"undefined\") ? {} : VEGA_DEBUG;\n",
       "  (function(spec, embedOpt){\n",
       "    let outputDiv = document.currentScript.previousElementSibling;\n",
       "    if (outputDiv.id !== \"altair-viz-ebdf118edbad41dcb08306a6d0ac7f04\") {\n",
       "      outputDiv = document.getElementById(\"altair-viz-ebdf118edbad41dcb08306a6d0ac7f04\");\n",
       "    }\n",
       "    const paths = {\n",
       "      \"vega\": \"https://cdn.jsdelivr.net/npm//vega@5?noext\",\n",
       "      \"vega-lib\": \"https://cdn.jsdelivr.net/npm//vega-lib?noext\",\n",
       "      \"vega-lite\": \"https://cdn.jsdelivr.net/npm//vega-lite@4.17.0?noext\",\n",
       "      \"vega-embed\": \"https://cdn.jsdelivr.net/npm//vega-embed@6?noext\",\n",
       "    };\n",
       "\n",
       "    function maybeLoadScript(lib, version) {\n",
       "      var key = `${lib.replace(\"-\", \"\")}_version`;\n",
       "      return (VEGA_DEBUG[key] == version) ?\n",
       "        Promise.resolve(paths[lib]) :\n",
       "        new Promise(function(resolve, reject) {\n",
       "          var s = document.createElement('script');\n",
       "          document.getElementsByTagName(\"head\")[0].appendChild(s);\n",
       "          s.async = true;\n",
       "          s.onload = () => {\n",
       "            VEGA_DEBUG[key] = version;\n",
       "            return resolve(paths[lib]);\n",
       "          };\n",
       "          s.onerror = () => reject(`Error loading script: ${paths[lib]}`);\n",
       "          s.src = paths[lib];\n",
       "        });\n",
       "    }\n",
       "\n",
       "    function showError(err) {\n",
       "      outputDiv.innerHTML = `<div class=\"error\" style=\"color:red;\">${err}</div>`;\n",
       "      throw err;\n",
       "    }\n",
       "\n",
       "    function displayChart(vegaEmbed) {\n",
       "      vegaEmbed(outputDiv, spec, embedOpt)\n",
       "        .catch(err => showError(`Javascript Error: ${err.message}<br>This usually means there's a typo in your chart specification. See the javascript console for the full traceback.`));\n",
       "    }\n",
       "\n",
       "    if(typeof define === \"function\" && define.amd) {\n",
       "      requirejs.config({paths});\n",
       "      require([\"vega-embed\"], displayChart, err => showError(`Error loading script: ${err.message}`));\n",
       "    } else {\n",
       "      maybeLoadScript(\"vega\", \"5\")\n",
       "        .then(() => maybeLoadScript(\"vega-lite\", \"4.17.0\"))\n",
       "        .then(() => maybeLoadScript(\"vega-embed\", \"6\"))\n",
       "        .catch(showError)\n",
       "        .then(() => displayChart(vegaEmbed));\n",
       "    }\n",
       "  })({\"config\": {\"view\": {\"continuousWidth\": 400, \"continuousHeight\": 300}}, \"layer\": [{\"data\": {\"values\": [{\"corruption\": \"clean\", \"corruption level\": 0, \"metric\": 0.21123709362799678, \"ref\": \"EMD\", \"acc\": 0.7896999716758728, \"error\": 0.2103000283241272, \"match_rate\": 0.9436999559402466, \"mismatch_rate\": 0.05630004405975342}, {\"corruption\": \"brightness\", \"corruption level\": 1, \"metric\": 0.21477614467103323, \"ref\": \"EMD\", \"acc\": 0.7863999605178833, \"error\": 0.2136000394821167, \"match_rate\": 0.9429000020027161, \"mismatch_rate\": 0.057099997997283936}, {\"corruption\": \"brightness\", \"corruption level\": 2, \"metric\": 0.2270765872653687, \"ref\": \"EMD\", \"acc\": 0.7727999687194824, \"error\": 0.22720003128051758, \"match_rate\": 0.9368999600410461, \"mismatch_rate\": 0.06310003995895386}, {\"corruption\": \"brightness\", \"corruption level\": 3, \"metric\": 0.2441119631667558, \"ref\": \"EMD\", \"acc\": 0.7569999694824219, \"error\": 0.24300003051757812, \"match_rate\": 0.9318999648094177, \"mismatch_rate\": 0.06810003519058228}, {\"corruption\": \"brightness\", \"corruption level\": 4, \"metric\": 0.2682086866228464, \"ref\": \"EMD\", \"acc\": 0.7347999811172485, \"error\": 0.26520001888275146, \"match_rate\": 0.9192000031471252, \"mismatch_rate\": 0.08079999685287476}, {\"corruption\": \"brightness\", \"corruption level\": 5, \"metric\": 0.33154266932865833, \"ref\": \"EMD\", \"acc\": 0.6705999970436096, \"error\": 0.3294000029563904, \"match_rate\": 0.8740999698638916, \"mismatch_rate\": 0.1259000301361084}, {\"corruption\": \"defocus_blur\", \"corruption level\": 1, \"metric\": 0.21589078809746481, \"ref\": \"EMD\", \"acc\": 0.7851999998092651, \"error\": 0.21480000019073486, \"match_rate\": 0.9386999607086182, \"mismatch_rate\": 0.061300039291381836}, {\"corruption\": \"defocus_blur\", \"corruption level\": 2, \"metric\": 0.24749158627511433, \"ref\": \"EMD\", \"acc\": 0.7526999711990356, \"error\": 0.24730002880096436, \"match_rate\": 0.9097999930381775, \"mismatch_rate\": 0.09020000696182251}, {\"corruption\": \"defocus_blur\", \"corruption level\": 3, \"metric\": 0.31033016256373225, \"ref\": \"EMD\", \"acc\": 0.6843999624252319, \"error\": 0.31560003757476807, \"match_rate\": 0.857699990272522, \"mismatch_rate\": 0.14230000972747803}, {\"corruption\": \"defocus_blur\", \"corruption level\": 4, \"metric\": 0.40233049730079296, \"ref\": \"EMD\", \"acc\": 0.5841000080108643, \"error\": 0.41589999198913574, \"match_rate\": 0.7833999991416931, \"mismatch_rate\": 0.21660000085830688}, {\"corruption\": \"defocus_blur\", \"corruption level\": 5, \"metric\": 0.5675622519728105, \"ref\": \"EMD\", \"acc\": 0.39659997820854187, \"error\": 0.6034000217914581, \"match_rate\": 0.6193999648094177, \"mismatch_rate\": 0.3806000351905823}, {\"corruption\": \"elastic_transform\", \"corruption level\": 1, \"metric\": 0.29657551993935627, \"ref\": \"EMD\", \"acc\": 0.6984999775886536, \"error\": 0.30150002241134644, \"match_rate\": 0.8956999778747559, \"mismatch_rate\": 0.10430002212524414}, {\"corruption\": \"elastic_transform\", \"corruption level\": 2, \"metric\": 0.30098423418829046, \"ref\": \"EMD\", \"acc\": 0.6869999766349792, \"error\": 0.31300002336502075, \"match_rate\": 0.8859999775886536, \"mismatch_rate\": 0.11400002241134644}, {\"corruption\": \"elastic_transform\", \"corruption level\": 3, \"metric\": 0.35652482637712546, \"ref\": \"EMD\", \"acc\": 0.6331999897956848, \"error\": 0.3668000102043152, \"match_rate\": 0.8348000049591064, \"mismatch_rate\": 0.16519999504089355}, {\"corruption\": \"elastic_transform\", \"corruption level\": 4, \"metric\": 0.47942355899453853, \"ref\": \"EMD\", \"acc\": 0.48989999294281006, \"error\": 0.5101000070571899, \"match_rate\": 0.7384999990463257, \"mismatch_rate\": 0.2615000009536743}, {\"corruption\": \"elastic_transform\", \"corruption level\": 5, \"metric\": 0.5846831137486155, \"ref\": \"EMD\", \"acc\": 0.34860000014305115, \"error\": 0.6513999998569489, \"match_rate\": 0.6200000047683716, \"mismatch_rate\": 0.3799999952316284}, {\"corruption\": \"fog\", \"corruption level\": 1, \"metric\": 0.21851384198304163, \"ref\": \"EMD\", \"acc\": 0.7780999541282654, \"error\": 0.22190004587173462, \"match_rate\": 0.9369999766349792, \"mismatch_rate\": 0.06300002336502075}, {\"corruption\": \"fog\", \"corruption level\": 2, \"metric\": 0.24979626588560824, \"ref\": \"EMD\", \"acc\": 0.7441999912261963, \"error\": 0.2558000087738037, \"match_rate\": 0.9133999943733215, \"mismatch_rate\": 0.08660000562667847}, {\"corruption\": \"fog\", \"corruption level\": 3, \"metric\": 0.2874869930624649, \"ref\": \"EMD\", \"acc\": 0.7071999907493591, \"error\": 0.29280000925064087, \"match_rate\": 0.8831999897956848, \"mismatch_rate\": 0.11680001020431519}, {\"corruption\": \"fog\", \"corruption level\": 4, \"metric\": 0.34020814699506036, \"ref\": \"EMD\", \"acc\": 0.6384999752044678, \"error\": 0.3615000247955322, \"match_rate\": 0.8348000049591064, \"mismatch_rate\": 0.16519999504089355}, {\"corruption\": \"fog\", \"corruption level\": 5, \"metric\": 0.4813387665242992, \"ref\": \"EMD\", \"acc\": 0.4593999981880188, \"error\": 0.5406000018119812, \"match_rate\": 0.6978999972343445, \"mismatch_rate\": 0.3021000027656555}, {\"corruption\": \"frost\", \"corruption level\": 1, \"metric\": 0.2867702715184357, \"ref\": \"EMD\", \"acc\": 0.703000009059906, \"error\": 0.296999990940094, \"match_rate\": 0.8966999650001526, \"mismatch_rate\": 0.10330003499984741}, {\"corruption\": \"frost\", \"corruption level\": 2, \"metric\": 0.3624531904589532, \"ref\": \"EMD\", \"acc\": 0.6259999871253967, \"error\": 0.37400001287460327, \"match_rate\": 0.8324999809265137, \"mismatch_rate\": 0.16750001907348633}, {\"corruption\": \"frost\", \"corruption level\": 3, \"metric\": 0.4527610943791241, \"ref\": \"EMD\", \"acc\": 0.5223999619483948, \"error\": 0.4776000380516052, \"match_rate\": 0.7423999905586243, \"mismatch_rate\": 0.25760000944137573}, {\"corruption\": \"frost\", \"corruption level\": 4, \"metric\": 0.46162877793281387, \"ref\": \"EMD\", \"acc\": 0.5133999586105347, \"error\": 0.48660004138946533, \"match_rate\": 0.7272999882698059, \"mismatch_rate\": 0.2727000117301941}, {\"corruption\": \"frost\", \"corruption level\": 5, \"metric\": 0.5280335292024775, \"ref\": \"EMD\", \"acc\": 0.4306999742984772, \"error\": 0.5693000257015228, \"match_rate\": 0.6548999547958374, \"mismatch_rate\": 0.3451000452041626}, {\"corruption\": \"gaussian_blur\", \"corruption level\": 1, \"metric\": 0.21591627034789918, \"ref\": \"EMD\", \"acc\": 0.7845999598503113, \"error\": 0.21540004014968872, \"match_rate\": 0.9384999871253967, \"mismatch_rate\": 0.06150001287460327}, {\"corruption\": \"gaussian_blur\", \"corruption level\": 2, \"metric\": 0.31177868238723605, \"ref\": \"EMD\", \"acc\": 0.6816999912261963, \"error\": 0.3183000087738037, \"match_rate\": 0.8567999601364136, \"mismatch_rate\": 0.14320003986358643}, {\"corruption\": \"gaussian_blur\", \"corruption level\": 3, \"metric\": 0.39323254743200226, \"ref\": \"EMD\", \"acc\": 0.5974000096321106, \"error\": 0.4025999903678894, \"match_rate\": 0.7893999814987183, \"mismatch_rate\": 0.21060001850128174}, {\"corruption\": \"gaussian_blur\", \"corruption level\": 4, \"metric\": 0.4766183670910344, \"ref\": \"EMD\", \"acc\": 0.5030999779701233, \"error\": 0.4969000220298767, \"match_rate\": 0.7134000062942505, \"mismatch_rate\": 0.2865999937057495}, {\"corruption\": \"gaussian_blur\", \"corruption level\": 5, \"metric\": 0.624997615715569, \"ref\": \"EMD\", \"acc\": 0.33969998359680176, \"error\": 0.6603000164031982, \"match_rate\": 0.5663999915122986, \"mismatch_rate\": 0.4336000084877014}, {\"corruption\": \"gaussian_noise\", \"corruption level\": 1, \"metric\": 0.5456461195297463, \"ref\": \"EMD\", \"acc\": 0.4107999801635742, \"error\": 0.5892000198364258, \"match_rate\": 0.6097999811172485, \"mismatch_rate\": 0.39020001888275146}, {\"corruption\": \"gaussian_noise\", \"corruption level\": 2, \"metric\": 0.6755286487920606, \"ref\": \"EMD\", \"acc\": 0.25769999623298645, \"error\": 0.7423000037670135, \"match_rate\": 0.45619997382164, \"mismatch_rate\": 0.54380002617836}, {\"corruption\": \"gaussian_noise\", \"corruption level\": 3, \"metric\": 0.753877911356981, \"ref\": \"EMD\", \"acc\": 0.17970000207424164, \"error\": 0.8202999979257584, \"match_rate\": 0.36239999532699585, \"mismatch_rate\": 0.6376000046730042}, {\"corruption\": \"gaussian_noise\", \"corruption level\": 4, \"metric\": 0.7813240823552338, \"ref\": \"EMD\", \"acc\": 0.1476999968290329, \"error\": 0.8523000031709671, \"match_rate\": 0.3264999985694885, \"mismatch_rate\": 0.6735000014305115}, {\"corruption\": \"gaussian_noise\", \"corruption level\": 5, \"metric\": 0.8050246222660844, \"ref\": \"EMD\", \"acc\": 0.12209999561309814, \"error\": 0.8779000043869019, \"match_rate\": 0.2929999828338623, \"mismatch_rate\": 0.7070000171661377}, {\"corruption\": \"glass_blur\", \"corruption level\": 1, \"metric\": 0.7001441648055472, \"ref\": \"EMD\", \"acc\": 0.24049998819828033, \"error\": 0.7595000118017197, \"match_rate\": 0.41990000009536743, \"mismatch_rate\": 0.5800999999046326}, {\"corruption\": \"glass_blur\", \"corruption level\": 2, \"metric\": 0.6954960326590717, \"ref\": \"EMD\", \"acc\": 0.24329999089241028, \"error\": 0.7567000091075897, \"match_rate\": 0.4284999966621399, \"mismatch_rate\": 0.5715000033378601}, {\"corruption\": \"glass_blur\", \"corruption level\": 3, \"metric\": 0.6909678672856994, \"ref\": \"EMD\", \"acc\": 0.2418999969959259, \"error\": 0.7581000030040741, \"match_rate\": 0.4220999777317047, \"mismatch_rate\": 0.5779000222682953}, {\"corruption\": \"glass_blur\", \"corruption level\": 4, \"metric\": 0.7623479176811608, \"ref\": \"EMD\", \"acc\": 0.1648000031709671, \"error\": 0.8351999968290329, \"match_rate\": 0.3414999842643738, \"mismatch_rate\": 0.6585000157356262}, {\"corruption\": \"glass_blur\", \"corruption level\": 5, \"metric\": 0.7544128999378754, \"ref\": \"EMD\", \"acc\": 0.1679999977350235, \"error\": 0.8320000022649765, \"match_rate\": 0.33709999918937683, \"mismatch_rate\": 0.6629000008106232}, {\"corruption\": \"impulse_noise\", \"corruption level\": 1, \"metric\": 0.4876348742098004, \"ref\": \"EMD\", \"acc\": 0.5333999991416931, \"error\": 0.4666000008583069, \"match_rate\": 0.7113999724388123, \"mismatch_rate\": 0.28860002756118774}, {\"corruption\": \"impulse_noise\", \"corruption level\": 2, \"metric\": 0.6671281284978133, \"ref\": \"EMD\", \"acc\": 0.32690000534057617, \"error\": 0.6730999946594238, \"match_rate\": 0.5293999910354614, \"mismatch_rate\": 0.4706000089645386}, {\"corruption\": \"impulse_noise\", \"corruption level\": 3, \"metric\": 0.7693151787706031, \"ref\": \"EMD\", \"acc\": 0.2019999921321869, \"error\": 0.7980000078678131, \"match_rate\": 0.37209999561309814, \"mismatch_rate\": 0.6279000043869019}, {\"corruption\": \"impulse_noise\", \"corruption level\": 4, \"metric\": 0.8629049123452216, \"ref\": \"EMD\", \"acc\": 0.08529999852180481, \"error\": 0.9147000014781952, \"match_rate\": 0.19999998807907104, \"mismatch_rate\": 0.800000011920929}, {\"corruption\": \"impulse_noise\", \"corruption level\": 5, \"metric\": 0.8951371593239421, \"ref\": \"EMD\", \"acc\": 0.055299997329711914, \"error\": 0.9447000026702881, \"match_rate\": 0.140299990773201, \"mismatch_rate\": 0.859700009226799}, {\"corruption\": \"jpeg_compression\", \"corruption level\": 1, \"metric\": 0.39529576274239553, \"ref\": \"EMD\", \"acc\": 0.5720999836921692, \"error\": 0.4279000163078308, \"match_rate\": 0.8308999538421631, \"mismatch_rate\": 0.16910004615783691}, {\"corruption\": \"jpeg_compression\", \"corruption level\": 2, \"metric\": 0.46636692619605546, \"ref\": \"EMD\", \"acc\": 0.4781000018119812, \"error\": 0.5218999981880188, \"match_rate\": 0.7799999713897705, \"mismatch_rate\": 0.2200000286102295}, {\"corruption\": \"jpeg_compression\", \"corruption level\": 3, \"metric\": 0.49153264495670174, \"ref\": \"EMD\", \"acc\": 0.45409998297691345, \"error\": 0.5459000170230865, \"match_rate\": 0.7635999917984009, \"mismatch_rate\": 0.23640000820159912}, {\"corruption\": \"jpeg_compression\", \"corruption level\": 4, \"metric\": 0.5180350752243832, \"ref\": \"EMD\", \"acc\": 0.4115999937057495, \"error\": 0.5884000062942505, \"match_rate\": 0.7443000078201294, \"mismatch_rate\": 0.2556999921798706}, {\"corruption\": \"jpeg_compression\", \"corruption level\": 5, \"metric\": 0.551931174435852, \"ref\": \"EMD\", \"acc\": 0.3660999834537506, \"error\": 0.6339000165462494, \"match_rate\": 0.7084999680519104, \"mismatch_rate\": 0.2915000319480896}, {\"corruption\": \"motion_blur\", \"corruption level\": 1, \"metric\": 0.2901424750233621, \"ref\": \"EMD\", \"acc\": 0.7010999917984009, \"error\": 0.2989000082015991, \"match_rate\": 0.8840999603271484, \"mismatch_rate\": 0.11590003967285156}, {\"corruption\": \"motion_blur\", \"corruption level\": 2, \"metric\": 0.3775416741538702, \"ref\": \"EMD\", \"acc\": 0.6010000109672546, \"error\": 0.39899998903274536, \"match_rate\": 0.8120999932289124, \"mismatch_rate\": 0.18790000677108765}, {\"corruption\": \"motion_blur\", \"corruption level\": 3, \"metric\": 0.4632376918639185, \"ref\": \"EMD\", \"acc\": 0.5016999840736389, \"error\": 0.4983000159263611, \"match_rate\": 0.7343999743461609, \"mismatch_rate\": 0.2656000256538391}, {\"corruption\": \"motion_blur\", \"corruption level\": 4, \"metric\": 0.46127165182466034, \"ref\": \"EMD\", \"acc\": 0.5059999823570251, \"error\": 0.49400001764297485, \"match_rate\": 0.734499990940094, \"mismatch_rate\": 0.265500009059906}, {\"corruption\": \"motion_blur\", \"corruption level\": 5, \"metric\": 0.5349557598432746, \"ref\": \"EMD\", \"acc\": 0.4169999957084656, \"error\": 0.5830000042915344, \"match_rate\": 0.6625999808311462, \"mismatch_rate\": 0.33740001916885376}, {\"corruption\": \"pixelate\", \"corruption level\": 1, \"metric\": 0.28325475936484246, \"ref\": \"EMD\", \"acc\": 0.7231999635696411, \"error\": 0.2768000364303589, \"match_rate\": 0.8970999717712402, \"mismatch_rate\": 0.10290002822875977}, {\"corruption\": \"pixelate\", \"corruption level\": 2, \"metric\": 0.41729319196827647, \"ref\": \"EMD\", \"acc\": 0.5880999565124512, \"error\": 0.41190004348754883, \"match_rate\": 0.76419997215271, \"mismatch_rate\": 0.23580002784729004}, {\"corruption\": \"pixelate\", \"corruption level\": 3, \"metric\": 0.48733682719143845, \"ref\": \"EMD\", \"acc\": 0.5065999627113342, \"error\": 0.49340003728866577, \"match_rate\": 0.6843999624252319, \"mismatch_rate\": 0.31560003757476807}, {\"corruption\": \"pixelate\", \"corruption level\": 4, \"metric\": 0.6922318691512338, \"ref\": \"EMD\", \"acc\": 0.2768999934196472, \"error\": 0.7231000065803528, \"match_rate\": 0.421099990606308, \"mismatch_rate\": 0.578900009393692}, {\"corruption\": \"pixelate\", \"corruption level\": 5, \"metric\": 0.8199534765499408, \"ref\": \"EMD\", \"acc\": 0.1348000019788742, \"error\": 0.8651999980211258, \"match_rate\": 0.2443999946117401, \"mismatch_rate\": 0.7556000053882599}, {\"corruption\": \"saturate\", \"corruption level\": 1, \"metric\": 0.3111232593191037, \"ref\": \"EMD\", \"acc\": 0.6751999855041504, \"error\": 0.3248000144958496, \"match_rate\": 0.8618999719619751, \"mismatch_rate\": 0.1381000280380249}, {\"corruption\": \"saturate\", \"corruption level\": 2, \"metric\": 0.3795501031729205, \"ref\": \"EMD\", \"acc\": 0.5855000019073486, \"error\": 0.41449999809265137, \"match_rate\": 0.8061999678611755, \"mismatch_rate\": 0.19380003213882446}, {\"corruption\": \"saturate\", \"corruption level\": 3, \"metric\": 0.23706252120490126, \"ref\": \"EMD\", \"acc\": 0.7561999559402466, \"error\": 0.24380004405975342, \"match_rate\": 0.9232999682426453, \"mismatch_rate\": 0.07670003175735474}, {\"corruption\": \"saturate\", \"corruption level\": 4, \"metric\": 0.31824984624733854, \"ref\": \"EMD\", \"acc\": 0.6732999682426453, \"error\": 0.32670003175735474, \"match_rate\": 0.8601999878883362, \"mismatch_rate\": 0.13980001211166382}, {\"corruption\": \"saturate\", \"corruption level\": 5, \"metric\": 0.40424208164310643, \"ref\": \"EMD\", \"acc\": 0.5787999629974365, \"error\": 0.4212000370025635, \"match_rate\": 0.776699960231781, \"mismatch_rate\": 0.223300039768219}, {\"corruption\": \"shot_noise\", \"corruption level\": 1, \"metric\": 0.4453762757991469, \"ref\": \"EMD\", \"acc\": 0.5309000015258789, \"error\": 0.4690999984741211, \"match_rate\": 0.7282999753952026, \"mismatch_rate\": 0.27170002460479736}, {\"corruption\": \"shot_noise\", \"corruption level\": 2, \"metric\": 0.5576098009321839, \"ref\": \"EMD\", \"acc\": 0.40149998664855957, \"error\": 0.5985000133514404, \"match_rate\": 0.5995999574661255, \"mismatch_rate\": 0.4004000425338745}, {\"corruption\": \"shot_noise\", \"corruption level\": 3, \"metric\": 0.6971421502713293, \"ref\": \"EMD\", \"acc\": 0.24239999055862427, \"error\": 0.7576000094413757, \"match_rate\": 0.4390999972820282, \"mismatch_rate\": 0.5609000027179718}, {\"corruption\": \"shot_noise\", \"corruption level\": 4, \"metric\": 0.7347084188262667, \"ref\": \"EMD\", \"acc\": 0.1939999908208847, \"error\": 0.8060000091791153, \"match_rate\": 0.39729997515678406, \"mismatch_rate\": 0.6027000248432159}]}, \"mark\": \"point\", \"encoding\": {\"color\": {\"field\": \"corruption\", \"scale\": {\"scheme\": \"category20\"}, \"type\": \"nominal\"}, \"shape\": {\"field\": \"corruption level\", \"type\": \"ordinal\"}, \"x\": {\"field\": \"metric\", \"title\": \"EMD\", \"type\": \"quantitative\"}, \"y\": {\"field\": \"error\", \"type\": \"quantitative\"}}, \"height\": 250, \"width\": 250}, {\"data\": {\"name\": \"data-371cce5920a7f84c9a50d4162766dae5\"}, \"mark\": {\"type\": \"line\", \"color\": \"black\", \"strokeDash\": [5, 8]}, \"encoding\": {\"x\": {\"field\": \"metric\", \"type\": \"quantitative\"}, \"y\": {\"field\": \"error\", \"type\": \"quantitative\"}}}], \"$schema\": \"https://vega.github.io/schema/vega-lite/v4.17.0.json\", \"datasets\": {\"data-371cce5920a7f84c9a50d4162766dae5\": [{\"metric\": 0, \"error\": 0}, {\"metric\": 1, \"error\": 1}]}}, {\"mode\": \"vega-lite\"});\n",
       "</script>"
      ],
      "text/plain": [
       "alt.LayerChart(...)"
      ]
     },
     "execution_count": 580,
     "metadata": {},
     "output_type": "execute_result"
    }
   ],
   "source": [
    "corr = alt.Chart(alt.Data(values=logits_results)).mark_point().encode(\n",
    "    x=alt.X('metric:Q', title=metric),\n",
    "    y='error:Q',\n",
    "    color=alt.Color('corruption:N', scale=alt.Scale(scheme='category20')),\n",
    "    shape='corruption level:O'\n",
    ").properties(\n",
    "    width=250,\n",
    "    height=250\n",
    ")\n",
    "\n",
    "line = pd.DataFrame({'metric': [0, 1], 'error': [0, 1]})\n",
    "line_plot = alt.Chart(line).mark_line(color='black', strokeDash=[5, 8]).encode(\n",
    "    x='metric',\n",
    "    y='error',\n",
    ")\n",
    "\n",
    "if metric in ['ConfScore', 'ATC', 'AgreeScore', 'EMD']:\n",
    "    plt = corr + line_plot\n",
    "\n",
    "elif metric == 'Entropy':\n",
    "    plt = corr\n",
    "\n",
    "plt\n"
   ]
  },
  {
   "cell_type": "code",
   "execution_count": 581,
   "id": "f6c96c4f",
   "metadata": {},
   "outputs": [],
   "source": [
    "def polyfit(x, y, degree=1):\n",
    "    results = {}\n",
    "\n",
    "    coeffs = np.polyfit(x, y, degree)\n",
    "\n",
    "    results['polynomial'] = coeffs.tolist()\n",
    "\n",
    "    p = np.poly1d(coeffs)\n",
    "\n",
    "    yhat = p(x)                \n",
    "    ybar = np.sum(y)/len(y)          \n",
    "    ssreg = np.sum((yhat - ybar)**2)   \n",
    "    sstot = np.sum((y - ybar)**2)    \n",
    "    results['determination'] = ssreg / sstot\n",
    "\n",
    "    return results"
   ]
  },
  {
   "cell_type": "code",
   "execution_count": 582,
   "id": "73c59c8d",
   "metadata": {},
   "outputs": [],
   "source": [
    "from scipy.stats import spearmanr\n",
    "import math"
   ]
  },
  {
   "cell_type": "code",
   "execution_count": 583,
   "id": "08834324",
   "metadata": {},
   "outputs": [
    {
     "name": "stdout",
     "output_type": "stream",
     "text": [
      "EMD r2: 0.9940046620308471\n",
      "EMD rho: 0.9955909369259032\n",
      "EMD slope: 1.109920377530782\n",
      "EMD bias: -0.023300986875067837\n"
     ]
    }
   ],
   "source": [
    "d = [i['metric'] for i in logits_results]\n",
    "e = [i['error'] for i in logits_results]\n",
    "print(f'{metric} r2:', polyfit(d, e)['determination'])\n",
    "\n",
    "coef, p = spearmanr(d, e)\n",
    "print(f'{metric} rho:', coef)\n",
    "\n",
    "print(f'{metric} slope:', polyfit(d, e)['polynomial'][0])\n",
    "print(f'{metric} bias:', polyfit(d, e)['polynomial'][1])"
   ]
  },
  {
   "cell_type": "code",
   "execution_count": 584,
   "id": "05c3ac30",
   "metadata": {},
   "outputs": [
    {
     "name": "stdout",
     "output_type": "stream",
     "text": [
      "MAE: 2.9957093300522835\n"
     ]
    }
   ],
   "source": [
    "yhat = np.array(d)\n",
    "y = np.array(e)\n",
    "\n",
    "print('MAE:', np.abs(yhat - y).mean() * 100)"
   ]
  },
  {
   "cell_type": "code",
   "execution_count": null,
   "id": "1df2cb59",
   "metadata": {},
   "outputs": [],
   "source": []
  }
 ],
 "metadata": {
  "kernelspec": {
   "display_name": "ood",
   "language": "python",
   "name": "ood"
  },
  "language_info": {
   "codemirror_mode": {
    "name": "ipython",
    "version": 3
   },
   "file_extension": ".py",
   "mimetype": "text/x-python",
   "name": "python",
   "nbconvert_exporter": "python",
   "pygments_lexer": "ipython3",
   "version": "3.9.13"
  }
 },
 "nbformat": 4,
 "nbformat_minor": 5
}
