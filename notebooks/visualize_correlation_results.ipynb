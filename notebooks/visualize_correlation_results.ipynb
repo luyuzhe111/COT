{
 "cells": [
  {
   "cell_type": "code",
   "execution_count": null,
   "id": "c542d51c",
   "metadata": {},
   "outputs": [],
   "source": [
    "import numpy as np\n",
    "import math\n",
    "import json\n",
    "import glob\n",
    "from functools import reduce"
   ]
  },
  {
   "cell_type": "code",
   "execution_count": null,
   "id": "1592981c",
   "metadata": {},
   "outputs": [],
   "source": [
    "def load_results(dataset, model, metric, n_sample, seed):\n",
    "    result_dir = f'../results/{dataset}/{model}_{seed}/{metric}_{n_sample}'\n",
    "      \n",
    "    result_fs = glob.glob(f'{result_dir}/*.json')\n",
    "    results = []\n",
    "    for file in result_fs:\n",
    "        with open(file, 'r') as f:\n",
    "            data = json.load(f)\n",
    "            print(file, len(data))\n",
    "        results.extend(data)\n",
    "        \n",
    "    return results"
   ]
  },
  {
   "cell_type": "code",
   "execution_count": null,
   "id": "13c79cfb",
   "metadata": {},
   "outputs": [],
   "source": [
    "metric = 'EMD'\n",
    "dataset = 'Tiny-ImageNet'\n",
    "arch = 'resnet50'\n",
    "n_sample = 10000\n",
    "seed = '1'\n",
    "logits_results = load_results(dataset, arch, metric, n_sample, seed)"
   ]
  },
  {
   "cell_type": "code",
   "execution_count": null,
   "id": "6aff3241",
   "metadata": {},
   "outputs": [],
   "source": [
    "len(logits_results)"
   ]
  },
  {
   "cell_type": "code",
   "execution_count": null,
   "id": "edb585d8",
   "metadata": {},
   "outputs": [],
   "source": [
    "import altair as alt\n",
    "import pandas as pd"
   ]
  },
  {
   "cell_type": "code",
   "execution_count": null,
   "id": "3c3d3a92",
   "metadata": {},
   "outputs": [],
   "source": [
    "corr = alt.Chart(alt.Data(values=logits_results)).mark_point(size=80).encode(\n",
    "    x=alt.X('metric:Q', title=metric),\n",
    "    y=alt.X('error:Q', title='Test Error'),\n",
    "    color=alt.Color('corruption:N', scale=alt.Scale(scheme='category20')),\n",
    "    shape='corruption level:O'\n",
    ").properties(\n",
    "    width=350,\n",
    "    height=350\n",
    ")\n",
    "\n",
    "line = pd.DataFrame({'metric': [0, 1], 'error': [0, 1]})\n",
    "line_plot = alt.Chart(line).mark_line(color='black', strokeDash=[5, 8]).encode(\n",
    "    x='metric',\n",
    "    y='error',\n",
    ")\n",
    "\n",
    "if metric in ['Entropy', 'ProjNorm-ref']:\n",
    "    plt = corr\n",
    "\n",
    "else:\n",
    "    plt = corr + line_plot\n",
    "\n",
    "plt.configure_axis(\n",
    "    labelFontSize=20,\n",
    "    titleFontSize=20\n",
    ")\n"
   ]
  },
  {
   "cell_type": "code",
   "execution_count": null,
   "id": "f6c96c4f",
   "metadata": {},
   "outputs": [],
   "source": [
    "def polyfit(x, y, degree=1):\n",
    "    results = {}\n",
    "\n",
    "    coeffs = np.polyfit(x, y, degree)\n",
    "\n",
    "    results['polynomial'] = coeffs.tolist()\n",
    "\n",
    "    p = np.poly1d(coeffs)\n",
    "\n",
    "    yhat = p(x)                \n",
    "    ybar = np.sum(y)/len(y)          \n",
    "    ssreg = np.sum((yhat - ybar)**2)   \n",
    "    sstot = np.sum((y - ybar)**2)    \n",
    "    results['determination'] = ssreg / sstot\n",
    "\n",
    "    return results"
   ]
  },
  {
   "cell_type": "code",
   "execution_count": null,
   "id": "73c59c8d",
   "metadata": {},
   "outputs": [],
   "source": [
    "from scipy.stats import spearmanr\n",
    "import math"
   ]
  },
  {
   "cell_type": "code",
   "execution_count": null,
   "id": "08834324",
   "metadata": {},
   "outputs": [],
   "source": [
    "d = [i['metric'] for i in logits_results]\n",
    "e = [i['error'] for i in logits_results]\n",
    "print(f'{metric} r2:', polyfit(d, e)['determination'])\n",
    "\n",
    "coef, p = spearmanr(d, e)\n",
    "print(f'{metric} rho:', coef)\n",
    "\n",
    "print(f'{metric} slope:', polyfit(d, e)['polynomial'][0])\n",
    "print(f'{metric} bias:', polyfit(d, e)['polynomial'][1])"
   ]
  },
  {
   "cell_type": "code",
   "execution_count": null,
   "id": "05c3ac30",
   "metadata": {},
   "outputs": [],
   "source": [
    "yhat = np.array(d)\n",
    "y = np.array(e)\n",
    "\n",
    "print('MAE:', np.abs(yhat - y).mean() * 100)"
   ]
  },
  {
   "cell_type": "code",
   "execution_count": null,
   "id": "1df2cb59",
   "metadata": {},
   "outputs": [],
   "source": []
  }
 ],
 "metadata": {
  "kernelspec": {
   "display_name": "ood",
   "language": "python",
   "name": "ood"
  },
  "language_info": {
   "codemirror_mode": {
    "name": "ipython",
    "version": 3
   },
   "file_extension": ".py",
   "mimetype": "text/x-python",
   "name": "python",
   "nbconvert_exporter": "python",
   "pygments_lexer": "ipython3",
   "version": "3.9.13"
  }
 },
 "nbformat": 4,
 "nbformat_minor": 5
}
